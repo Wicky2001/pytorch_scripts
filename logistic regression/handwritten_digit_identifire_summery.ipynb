{
  "nbformat": 4,
  "nbformat_minor": 0,
  "metadata": {
    "colab": {
      "provenance": []
    },
    "kernelspec": {
      "name": "python3",
      "display_name": "Python 3"
    },
    "language_info": {
      "name": "python"
    }
  },
  "cells": [
    {
      "cell_type": "code",
      "source": [
        "# Imports\n",
        "import torch\n",
        "import torchvision\n",
        "from torchvision.datasets import MNIST\n",
        "import matplotlib.pyplot as plt\n",
        "import torchvision.transforms as transforms\n",
        "from torch.utils.data import random_split\n",
        "from torch.utils.data import DataLoader\n",
        "import torch.nn as nn\n",
        "import torch.nn.functional as F\n",
        "%matplotlib inline\n",
        "\n",
        "# MNIST dataset (images and labels)\n",
        "dataset = MNIST(root='data/',\n",
        "                train=True,\n",
        "                transform=transforms.ToTensor(),download=True)\n",
        "\n",
        "test_dataset = MNIST(root='data/', train=False,transform=transforms.ToTensor(),download=True)\n",
        "\n",
        "\n",
        "train_ds, val_ds = random_split(dataset, [50000, 10000])\n",
        "\n",
        "\n",
        "batch_size = 128\n",
        "\n",
        "#create train,validation and test loaders\n",
        "train_loader = DataLoader(train_ds, batch_size, shuffle=True)\n",
        "val_loader = DataLoader(val_ds, batch_size)\n",
        "test_loader = DataLoader(test_dataset, batch_size=256)\n",
        "\n",
        "\n"
      ],
      "metadata": {
        "id": "PgxPdRgBHjrP"
      },
      "execution_count": null,
      "outputs": []
    },
    {
      "cell_type": "code",
      "source": [
        "len(train_ds)"
      ],
      "metadata": {
        "colab": {
          "base_uri": "https://localhost:8080/"
        },
        "id": "xB0nnWHWcq9Q",
        "outputId": "a5b2513a-a57a-4bfe-e43e-c61535d842ca"
      },
      "execution_count": null,
      "outputs": [
        {
          "output_type": "execute_result",
          "data": {
            "text/plain": [
              "50000"
            ]
          },
          "metadata": {},
          "execution_count": 72
        }
      ]
    },
    {
      "cell_type": "code",
      "source": [
        "class MnistModel(nn.Module):\n",
        "    def __init__(self,input_size,num_classes):\n",
        "        super().__init__()\n",
        "        self.linear = nn.Linear(input_size, num_classes)\n",
        "\n",
        "    \"\"\"\n",
        "    the forward function will reshape the input 3D image vectors to 2D Vector\n",
        "    because the 3D vectors are not supported by torch\n",
        "\n",
        "    \"\"\"\n",
        "    def forward(self, xb):\n",
        "        xb = xb.reshape(-1, 784)\n",
        "        out = self.linear(xb)\n",
        "        return out\n",
        "\n",
        "    def training_step(self, batch):\n",
        "        images, labels = batch\n",
        "        out = self(images)                  # Generate predictions\n",
        "        loss = F.cross_entropy(out, labels) # Calculate loss\n",
        "        return loss\n",
        "\n",
        "    def validation_step(self, batch):\n",
        "        images, labels = batch\n",
        "        out = self(images)                    # Generate predictions\n",
        "        loss = F.cross_entropy(out, labels)   # Calculate loss\n",
        "        acc = self.accuracy(out, labels)           # Calculate accuracy\n",
        "        return {'val_loss': loss, 'val_acc': acc}\n",
        "\n",
        "    def validation_epoch_end(self, outputs):\n",
        "        batch_losses = [x['val_loss'] for x in outputs]\n",
        "        epoch_loss = torch.stack(batch_losses).mean()   # Combine losses\n",
        "        batch_accs = [x['val_acc'] for x in outputs]\n",
        "        epoch_acc = torch.stack(batch_accs).mean()      # Combine accuracies\n",
        "        return {'val_loss': epoch_loss.item(), 'val_acc': epoch_acc.item()}\n",
        "\n",
        "    def epoch_end(self, epoch, result):\n",
        "        print(\"Epoch [{}], val_loss: {:.4f}, val_acc: {:.4f}\".format(epoch, result['val_loss'], result['val_acc']))\n",
        "\n",
        "    def evaluate(self,val_loader):\n",
        "        outputs = [self.validation_step(batch) for batch in val_loader]\n",
        "        return self.validation_epoch_end(outputs)\n",
        "\n",
        "\n",
        "    def accuracy(self,outputs, labels):\n",
        "        _, preds = torch.max(outputs, dim=1)\n",
        "        return torch.tensor(torch.sum(preds == labels).item() / len(preds))\n",
        "\n",
        "\n",
        "    def fit(self,epochs, lr, train_loader, val_loader, opt_func=torch.optim.SGD):\n",
        "        optimizer = opt_func(self.parameters(), lr)\n",
        "        history = [] # for recording epoch-wise results\n",
        "\n",
        "        for epoch in range(epochs):\n",
        "\n",
        "            # Training Phase\n",
        "            for batch in train_loader:\n",
        "                loss = self.training_step(batch)\n",
        "                loss.backward()\n",
        "                optimizer.step()\n",
        "                optimizer.zero_grad()\n",
        "\n",
        "            # Validation phase\n",
        "            result = self.evaluate(val_loader)\n",
        "            self.epoch_end(epoch, result)\n",
        "            history.append(result)\n",
        "            print(len(history))\n",
        "\n",
        "\n",
        "        return history"
      ],
      "metadata": {
        "id": "sNAyISHybm_W"
      },
      "execution_count": null,
      "outputs": []
    },
    {
      "cell_type": "code",
      "source": [
        "input_size = 28*28\n",
        "num_classes = 10\n",
        "\n",
        "model = MnistModel(input_size,num_classes)"
      ],
      "metadata": {
        "id": "OtskNV59b5lz"
      },
      "execution_count": null,
      "outputs": []
    },
    {
      "cell_type": "code",
      "source": [
        "history = model.fit(epochs=60,lr=0.001,train_loader=train_loader,val_loader=val_loader)"
      ],
      "metadata": {
        "colab": {
          "base_uri": "https://localhost:8080/"
        },
        "id": "FI-uPPAtdg4x",
        "outputId": "d4eb7a9a-ce00-4bb6-df02-71a197935995"
      },
      "execution_count": null,
      "outputs": [
        {
          "output_type": "stream",
          "name": "stdout",
          "text": [
            "Epoch [0], val_loss: 1.9736, val_acc: 0.5943\n",
            "1\n",
            "Epoch [1], val_loss: 1.7003, val_acc: 0.7107\n",
            "2\n",
            "Epoch [2], val_loss: 1.4971, val_acc: 0.7481\n",
            "3\n",
            "Epoch [3], val_loss: 1.3436, val_acc: 0.7696\n",
            "4\n",
            "Epoch [4], val_loss: 1.2255, val_acc: 0.7823\n",
            "5\n",
            "Epoch [5], val_loss: 1.1329, val_acc: 0.7934\n",
            "6\n",
            "Epoch [6], val_loss: 1.0585, val_acc: 0.8020\n",
            "7\n",
            "Epoch [7], val_loss: 0.9976, val_acc: 0.8087\n",
            "8\n",
            "Epoch [8], val_loss: 0.9470, val_acc: 0.8126\n",
            "9\n",
            "Epoch [9], val_loss: 0.9042, val_acc: 0.8185\n",
            "10\n",
            "Epoch [10], val_loss: 0.8676, val_acc: 0.8232\n",
            "11\n",
            "Epoch [11], val_loss: 0.8359, val_acc: 0.8268\n",
            "12\n",
            "Epoch [12], val_loss: 0.8082, val_acc: 0.8299\n",
            "13\n",
            "Epoch [13], val_loss: 0.7837, val_acc: 0.8330\n",
            "14\n",
            "Epoch [14], val_loss: 0.7619, val_acc: 0.8354\n",
            "15\n",
            "Epoch [15], val_loss: 0.7423, val_acc: 0.8377\n",
            "16\n",
            "Epoch [16], val_loss: 0.7246, val_acc: 0.8400\n",
            "17\n",
            "Epoch [17], val_loss: 0.7086, val_acc: 0.8422\n",
            "18\n",
            "Epoch [18], val_loss: 0.6940, val_acc: 0.8451\n",
            "19\n",
            "Epoch [19], val_loss: 0.6807, val_acc: 0.8466\n",
            "20\n",
            "Epoch [20], val_loss: 0.6683, val_acc: 0.8484\n",
            "21\n",
            "Epoch [21], val_loss: 0.6570, val_acc: 0.8497\n",
            "22\n",
            "Epoch [22], val_loss: 0.6464, val_acc: 0.8501\n",
            "23\n",
            "Epoch [23], val_loss: 0.6366, val_acc: 0.8513\n",
            "24\n",
            "Epoch [24], val_loss: 0.6275, val_acc: 0.8521\n",
            "25\n",
            "Epoch [25], val_loss: 0.6189, val_acc: 0.8532\n",
            "26\n",
            "Epoch [26], val_loss: 0.6109, val_acc: 0.8546\n",
            "27\n",
            "Epoch [27], val_loss: 0.6034, val_acc: 0.8552\n",
            "28\n",
            "Epoch [28], val_loss: 0.5963, val_acc: 0.8566\n",
            "29\n",
            "Epoch [29], val_loss: 0.5895, val_acc: 0.8575\n",
            "30\n",
            "Epoch [30], val_loss: 0.5832, val_acc: 0.8588\n",
            "31\n",
            "Epoch [31], val_loss: 0.5772, val_acc: 0.8594\n",
            "32\n",
            "Epoch [32], val_loss: 0.5715, val_acc: 0.8604\n",
            "33\n",
            "Epoch [33], val_loss: 0.5660, val_acc: 0.8610\n",
            "34\n",
            "Epoch [34], val_loss: 0.5609, val_acc: 0.8617\n",
            "35\n",
            "Epoch [35], val_loss: 0.5559, val_acc: 0.8619\n",
            "36\n",
            "Epoch [36], val_loss: 0.5512, val_acc: 0.8626\n",
            "37\n",
            "Epoch [37], val_loss: 0.5467, val_acc: 0.8637\n",
            "38\n",
            "Epoch [38], val_loss: 0.5424, val_acc: 0.8639\n",
            "39\n",
            "Epoch [39], val_loss: 0.5383, val_acc: 0.8646\n",
            "40\n",
            "Epoch [40], val_loss: 0.5343, val_acc: 0.8663\n",
            "41\n",
            "Epoch [41], val_loss: 0.5305, val_acc: 0.8671\n",
            "42\n",
            "Epoch [42], val_loss: 0.5269, val_acc: 0.8678\n",
            "43\n",
            "Epoch [43], val_loss: 0.5234, val_acc: 0.8685\n",
            "44\n",
            "Epoch [44], val_loss: 0.5200, val_acc: 0.8692\n",
            "45\n",
            "Epoch [45], val_loss: 0.5167, val_acc: 0.8698\n",
            "46\n",
            "Epoch [46], val_loss: 0.5136, val_acc: 0.8707\n",
            "47\n",
            "Epoch [47], val_loss: 0.5105, val_acc: 0.8711\n",
            "48\n",
            "Epoch [48], val_loss: 0.5076, val_acc: 0.8712\n",
            "49\n",
            "Epoch [49], val_loss: 0.5047, val_acc: 0.8719\n",
            "50\n",
            "Epoch [50], val_loss: 0.5020, val_acc: 0.8725\n",
            "51\n",
            "Epoch [51], val_loss: 0.4993, val_acc: 0.8727\n",
            "52\n",
            "Epoch [52], val_loss: 0.4967, val_acc: 0.8737\n",
            "53\n",
            "Epoch [53], val_loss: 0.4942, val_acc: 0.8739\n",
            "54\n",
            "Epoch [54], val_loss: 0.4918, val_acc: 0.8748\n",
            "55\n",
            "Epoch [55], val_loss: 0.4895, val_acc: 0.8748\n",
            "56\n",
            "Epoch [56], val_loss: 0.4871, val_acc: 0.8748\n",
            "57\n",
            "Epoch [57], val_loss: 0.4849, val_acc: 0.8751\n",
            "58\n",
            "Epoch [58], val_loss: 0.4828, val_acc: 0.8755\n",
            "59\n",
            "Epoch [59], val_loss: 0.4807, val_acc: 0.8758\n",
            "60\n"
          ]
        }
      ]
    },
    {
      "cell_type": "code",
      "source": [
        "import matplotlib.pyplot as plt\n",
        "\n",
        "# Assuming history, history1, and history2 are lists of dictionaries containing 'val_acc' and 'val_loss' values\n",
        "\n",
        "accuracies = [result['val_acc'] for result in history]\n",
        "loss = [result['val_loss'] for result in history]\n",
        "\n",
        "\n",
        "plt.plot(accuracies, '-x', color='blue', label='Accuracy')\n",
        "plt.plot(loss, '-o', color='red', label='Loss')\n",
        "\n",
        "\n",
        "plt.xlabel('Epoch')\n",
        "plt.ylabel('Value')\n",
        "plt.title('Accuracy and Loss vs. No. of Epochs')\n",
        "plt.legend()  # Adding legend to differentiate between accuracy and loss\n",
        "\n",
        "plt.show()\n"
      ],
      "metadata": {
        "colab": {
          "base_uri": "https://localhost:8080/",
          "height": 472
        },
        "id": "9v59rP4Xf6vc",
        "outputId": "67a4a4bd-e209-4fdc-b51f-3dbbacdbee41"
      },
      "execution_count": null,
      "outputs": [
        {
          "output_type": "display_data",
          "data": {
            "text/plain": [
              "<Figure size 640x480 with 1 Axes>"
            ],
            "image/png": "[encoded data removed]"
          },
          "metadata": {}
        }
      ]
    },
    {
      "cell_type": "markdown",
      "source": [
        "## Testing Phase"
      ],
      "metadata": {
        "id": "-iWjpaWR7svm"
      }
    },
    {
      "cell_type": "markdown",
      "source": [
        "This is an image from test data set"
      ],
      "metadata": {
        "id": "82Xa5PZ_77i0"
      }
    },
    {
      "cell_type": "code",
      "source": [
        "img, label = test_dataset[0]\n",
        "plt.imshow(img[0], cmap='gray')\n",
        "print('Shape:', img.shape)\n",
        "print('Label:', label)"
      ],
      "metadata": {
        "id": "VZhXmHTOmVx9",
        "colab": {
          "base_uri": "https://localhost:8080/",
          "height": 465
        },
        "outputId": "5b0088c6-b705-4a12-c6f4-98657d5b1e58"
      },
      "execution_count": null,
      "outputs": [
        {
          "output_type": "stream",
          "name": "stdout",
          "text": [
            "Shape: torch.Size([1, 28, 28])\n",
            "Label: 7\n"
          ]
        },
        {
          "output_type": "display_data",
          "data": {
            "text/plain": [
              "<Figure size 640x480 with 1 Axes>"
            ],
            "image/png": "[encoded data removed]"
          },
          "metadata": {}
        }
      ]
    },
    {
      "cell_type": "markdown",
      "source": [
        "Let's define a helper function `predict_image`, which returns the predicted label for a single image tensor.\n",
        "\n",
        "torch.max() returns both the maximum values and their corresponding indices along a specified dimension of a tensor."
      ],
      "metadata": {
        "id": "Tsau4xzH8PaD"
      }
    },
    {
      "cell_type": "code",
      "source": [
        "def predict_image(img, model):\n",
        "    xb = img.unsqueeze(0)\n",
        "    yb = model(xb) #give tensor which contain 10 probabiliries for each number\n",
        "    _, preds = torch.max(yb, dim=1)#choose maximum probability\n",
        "    return preds[0].item()"
      ],
      "metadata": {
        "id": "4sjPmK7y8OXV"
      },
      "execution_count": null,
      "outputs": []
    },
    {
      "cell_type": "code",
      "source": [
        "img, label = test_dataset[0]\n",
        "plt.imshow(img[0], cmap='gray')\n",
        "print('Label:', label, ', Predicted:', predict_image(img, model))"
      ],
      "metadata": {
        "colab": {
          "base_uri": "https://localhost:8080/",
          "height": 447
        },
        "id": "54yVK2Tf9j8o",
        "outputId": "853a6db3-a484-47bd-e649-380e2d442733"
      },
      "execution_count": null,
      "outputs": [
        {
          "output_type": "stream",
          "name": "stdout",
          "text": [
            "Label: 7 , Predicted: 7\n"
          ]
        },
        {
          "output_type": "display_data",
          "data": {
            "text/plain": [
              "<Figure size 640x480 with 1 Axes>"
            ],
            "image/png": "[encoded data removed]"
          },
          "metadata": {}
        }
      ]
    },
    {
      "cell_type": "markdown",
      "source": [
        "Identifying where our model performs poorly can help us improve the model, by collecting more training data, increasing/decreasing the complexity of the model, and changing the hypeparameters.\n",
        "\n",
        "As a final step, let's also look at the overall loss and accuracy of the model on the test set."
      ],
      "metadata": {
        "id": "Xpa6i0c39-v5"
      }
    },
    {
      "cell_type": "code",
      "source": [
        "result = model.evaluate(test_loader)\n",
        "result"
      ],
      "metadata": {
        "colab": {
          "base_uri": "https://localhost:8080/"
        },
        "id": "k9PWXxyk92i2",
        "outputId": "dc0251b2-9238-4b26-ca68-b334d0b8ddf5"
      },
      "execution_count": null,
      "outputs": [
        {
          "output_type": "execute_result",
          "data": {
            "text/plain": [
              "{'val_loss': 0.44423937797546387, 'val_acc': 0.88623046875}"
            ]
          },
          "metadata": {},
          "execution_count": 85
        }
      ]
    },
    {
      "cell_type": "markdown",
      "source": [
        "##How to save the model\n",
        "\n",
        "Since we've trained our model for a long time and achieved a resonable accuracy, it would be a good idea to save the weights and bias matrices to disk, so that we can reuse the model later and avoid retraining from scratch. Here's how you can save the model."
      ],
      "metadata": {
        "id": "RPFIPZq9GyCm"
      }
    },
    {
      "cell_type": "code",
      "source": [
        "torch.save(model.state_dict(), 'hand_written_digit.pth')"
      ],
      "metadata": {
        "id": "VE6svJ3Q--BP"
      },
      "execution_count": null,
      "outputs": []
    },
    {
      "cell_type": "markdown",
      "source": [
        "The `.state_dict` method returns an `OrderedDict` containing all the weights and bias matrices mapped to the right attributes of the model."
      ],
      "metadata": {
        "id": "J2-FcyiYHK_R"
      }
    },
    {
      "cell_type": "code",
      "source": [
        "model.state_dict()"
      ],
      "metadata": {
        "colab": {
          "base_uri": "https://localhost:8080/"
        },
        "id": "UUNtjc_UIbg3",
        "outputId": "de6ac77d-f465-4267-c585-e92cc845aeaf"
      },
      "execution_count": null,
      "outputs": [
        {
          "output_type": "execute_result",
          "data": {
            "text/plain": [
              "OrderedDict([('linear.weight',\n",
              "              tensor([[-0.0136, -0.0313, -0.0354,  ...,  0.0171,  0.0085,  0.0037],\n",
              "                      [-0.0127,  0.0328,  0.0188,  ...,  0.0234,  0.0214, -0.0006],\n",
              "                      [ 0.0066, -0.0242, -0.0010,  ..., -0.0210, -0.0208, -0.0249],\n",
              "                      ...,\n",
              "                      [-0.0096, -0.0020,  0.0119,  ..., -0.0278,  0.0157, -0.0115],\n",
              "                      [-0.0167, -0.0258,  0.0294,  ..., -0.0177,  0.0125,  0.0028],\n",
              "                      [ 0.0282, -0.0176, -0.0315,  ...,  0.0083,  0.0264,  0.0336]])),\n",
              "             ('linear.bias',\n",
              "              tensor([-0.0669,  0.1598, -0.0166, -0.0359,  0.0537,  0.1251, -0.0330,  0.0861,\n",
              "                      -0.2198,  0.0005]))])"
            ]
          },
          "metadata": {},
          "execution_count": 97
        }
      ]
    },
    {
      "cell_type": "markdown",
      "source": [
        "#### load the saved model\n",
        "\n",
        "To load the model weights, we can instante a new object of the class `MnistModel`, and use the `.load_state_dict` method."
      ],
      "metadata": {
        "id": "rscVB3qbHVCE"
      }
    },
    {
      "cell_type": "code",
      "source": [
        "input_size = 28*28\n",
        "num_classes = 10\n",
        "\n",
        "\n",
        "model2 = MnistModel(input_size=input_size,num_classes=num_classes)\n",
        "model2.load_state_dict(torch.load('hand_written_digit.pth'))"
      ],
      "metadata": {
        "colab": {
          "base_uri": "https://localhost:8080/"
        },
        "id": "ZTMnexhCHUYR",
        "outputId": "d11110a5-1ca0-46a0-a83c-962f2d6d25e1"
      },
      "execution_count": null,
      "outputs": [
        {
          "output_type": "execute_result",
          "data": {
            "text/plain": [
              "<All keys matched successfully>"
            ]
          },
          "metadata": {},
          "execution_count": 93
        }
      ]
    },
    {
      "cell_type": "markdown",
      "source": [
        "Just as a sanity check, let's verify that this model has the same loss and accuracy on the test set as before."
      ],
      "metadata": {
        "id": "l9TUwbx8IEln"
      }
    },
    {
      "cell_type": "code",
      "source": [
        "result = model2.evaluate(test_loader)\n",
        "result"
      ],
      "metadata": {
        "colab": {
          "base_uri": "https://localhost:8080/"
        },
        "id": "u_uAYoVfHD3D",
        "outputId": "c94a7ed0-2517-4bba-cc3d-fab33d0a72d0"
      },
      "execution_count": null,
      "outputs": [
        {
          "output_type": "execute_result",
          "data": {
            "text/plain": [
              "{'val_loss': 0.44423937797546387, 'val_acc': 0.88623046875}"
            ]
          },
          "metadata": {},
          "execution_count": 95
        }
      ]
    },
    {
      "cell_type": "code",
      "source": [],
      "metadata": {
        "id": "zm_kEMxhHKtx"
      },
      "execution_count": null,
      "outputs": []
    }
  ]
}