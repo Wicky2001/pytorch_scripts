{
  "cells": [
    {
      "cell_type": "markdown",
      "metadata": {
        "id": "OZ0S8IQWfTTV"
      },
      "source": [
        "# Working with Images & Logistic Regression in PyTorch\n",
        "\n",
        "### Part 3 of \"Deep Learning with Pytorch: Zero to GANs\"\n",
        "\n",
        "This tutorial series is a hands-on beginner-friendly introduction to deep learning using [PyTorch](https://pytorch.org), an open-source neural networks library. These tutorials take a practical and coding-focused approach. The best way to learn the material is to execute the code and experiment with it yourself. Check out the full series here:\n",
        "\n",
        "1. [PyTorch Basics: Tensors & Gradients](https://jovian.ai/aakashns/01-pytorch-basics)\n",
        "2. [Gradient Descent & Linear Regression](https://jovian.ai/aakashns/02-linear-regression)\n",
        "3. [Working with Images & Logistic Regression](https://jovian.ai/aakashns/03-logistic-regression)\n",
        "4. [Training Deep Neural Networks on a GPU](https://jovian.ai/aakashns/04-feedforward-nn)\n",
        "5. [Image Classification using Convolutional Neural Networks](https://jovian.ai/aakashns/05-cifar10-cnn)\n",
        "6. [Data Augmentation, Regularization and ResNets](https://jovian.ai/aakashns/05b-cifar10-resnet)\n",
        "7. [Generating Images using Generative Adversarial Networks](https://jovian.ai/aakashns/06b-anime-dcgan/)"
      ]
    },
    {
      "cell_type": "markdown",
      "metadata": {
        "id": "YL4niY96fTTV"
      },
      "source": [
        "This tutorial covers the following topics:\n",
        "    \n",
        "* Working with images in PyTorch (using the MNIST dataset)\n",
        "* Splitting a dataset into training, validation, and test sets\n",
        "* Creating PyTorch models with custom logic by extending the `nn.Module` class\n",
        "* Interpreting model outputs as probabilities using Softmax and picking predicted labels\n",
        "* Picking a useful evaluation metric (accuracy) and loss function (cross-entropy) for classification problems\n",
        "* Setting up a training loop that also evaluates the model using the validation set\n",
        "* Testing the model manually on randomly picked examples\n",
        "* Saving and loading model checkpoints to avoid retraining from scratch\n",
        "\n"
      ]
    },
    {
      "cell_type": "markdown",
      "metadata": {
        "id": "l8SHC9wafTTV"
      },
      "source": [
        "### How to run the code\n",
        "\n",
        "This tutorial is an executable [Jupyter notebook](https://jupyter.org) hosted on [Jovian](https://www.jovian.ai). You can _run_ this tutorial and experiment with the code examples in a couple of ways: *using free online resources* (recommended) or *on your computer*.\n",
        "\n",
        "#### Option 1: Running using free online resources (1-click, recommended)\n",
        "\n",
        "The easiest way to start executing the code is to click the **Run** button at the top of this page and select **Run on Colab**. [Google Colab](https://colab.research.google.com) is a free online platform for running Jupyter notebooks using Google's cloud infrastructure. You can also select \"Run on Binder\" or \"Run on Kaggle\" if you face issues running the notebook on Google Colab.\n",
        "\n",
        "\n",
        "#### Option 2: Running on your computer locally\n",
        "\n",
        "To run the code on your computer locally, you'll need to set up [Python](https://www.python.org), download the notebook and install the required libraries. We recommend using the [Conda](https://docs.conda.io/projects/conda/en/latest/user-guide/install/) distribution of Python. Click the **Run** button at the top of this page, select the **Run Locally** option, and follow the instructions.\n",
        "\n",
        ">  **Jupyter Notebooks**: This tutorial is a [Jupyter notebook](https://jupyter.org) - a document made of _cells_. Each cell can contain code written in Python or explanations in plain English. You can execute code cells and view the results, e.g., numbers, messages, graphs, tables, files, etc., instantly within the notebook. Jupyter is a powerful platform for experimentation and analysis. Don't be afraid to mess around with the code & break things - you'll learn a lot by encountering and fixing errors. You can use the \"Kernel > Restart & Clear Output\" or \"Edit > Clear Outputs\" menu option to clear all outputs and start again from the top."
      ]
    },
    {
      "cell_type": "markdown",
      "metadata": {
        "id": "BlizBg8UfTTV"
      },
      "source": [
        "## Working with Images\n",
        "\n",
        "In this tutorial, we'll use our existing knowledge of PyTorch and linear regression to solve a very different kind of problem: *image classification*. We'll use the famous [*MNIST Handwritten Digits Database*](http://yann.lecun.com/exdb/mnist/) as our training dataset. It consists of 28px by 28px grayscale images of handwritten digits (0 to 9) and labels for each image indicating which digit it represents. Here are some sample images from the dataset:\n",
        "\n",
        "![mnist-sample](https://i.imgur.com/CAYnuo1.jpg)"
      ]
    },
    {
      "cell_type": "markdown",
      "metadata": {
        "id": "IArll2smfTTV"
      },
      "source": [
        "We begin by installing and importing `torch` and `torchvision`. `torchvision` contains some utilities for working with image data. It also provides helper classes to download and import popular datasets like MNIST automatically"
      ]
    },
    {
      "cell_type": "code",
      "execution_count": null,
      "metadata": {
        "id": "y_D8CGr0fTTV"
      },
      "outputs": [],
      "source": [
        "# Uncomment and run the appropriate command for your operating system, if required\n",
        "\n",
        "# Linux / Binder\n",
        "# !pip install numpy matplotlib torch==1.7.0+cpu torchvision==0.8.1+cpu torchaudio==0.7.0 -f https://download.pytorch.org/whl/torch_stable.html\n",
        "\n",
        "# Windows\n",
        "# !pip install numpy matplotlib torch==1.7.0+cpu torchvision==0.8.1+cpu torchaudio==0.7.0 -f https://download.pytorch.org/whl/torch_stable.html\n",
        "\n",
        "# MacOS\n",
        "# !pip install numpy matplotlib torch torchvision torchaudio"
      ]
    },
    {
      "cell_type": "code",
      "execution_count": null,
      "metadata": {
        "id": "o_xViEWvfTTV"
      },
      "outputs": [],
      "source": [
        "# Imports\n",
        "import torch\n",
        "import torchvision\n",
        "from torchvision.datasets import MNIST"
      ]
    },
    {
      "cell_type": "code",
      "execution_count": null,
      "metadata": {
        "id": "q1Skz7dlfTTV"
      },
      "outputs": [],
      "source": [
        "# Download training dataset\n",
        "dataset = MNIST(root='data/', download=True)"
      ]
    },
    {
      "cell_type": "markdown",
      "metadata": {
        "id": "Koi-fVbAfTTV"
      },
      "source": [
        "When this statement is executed for the first time, it downloads the data to the `data/` directory next to the notebook and creates a PyTorch `Dataset`. On subsequent executions, the download is skipped as the data is already downloaded. Let's check the size of the dataset."
      ]
    },
    {
      "cell_type": "code",
      "execution_count": null,
      "metadata": {
        "colab": {
          "base_uri": "https://localhost:8080/"
        },
        "id": "W9mWyKqAfTTV",
        "outputId": "84b4c83f-8fc5-4634-a4ff-ffdfd7437746"
      },
      "outputs": [
        {
          "data": {
            "text/plain": [
              "60000"
            ]
          },
          "execution_count": 65,
          "metadata": {},
          "output_type": "execute_result"
        }
      ],
      "source": [
        "len(dataset)"
      ]
    },
    {
      "cell_type": "markdown",
      "metadata": {
        "id": "6pRKB16NfTTW"
      },
      "source": [
        "The dataset has 60,000 images that we'll use to train the model. There is also an additional test set of 10,000 images used for evaluating models and reporting metrics in papers and reports. We can create the test dataset using the `MNIST` class by passing `train=False` to the constructor."
      ]
    },
    {
      "cell_type": "code",
      "execution_count": null,
      "metadata": {
        "colab": {
          "base_uri": "https://localhost:8080/"
        },
        "id": "zLqZQOlWfTTW",
        "outputId": "c3efce60-79f4-4c65-81e1-5d84bb37d47f"
      },
      "outputs": [
        {
          "data": {
            "text/plain": [
              "10000"
            ]
          },
          "execution_count": 66,
          "metadata": {},
          "output_type": "execute_result"
        }
      ],
      "source": [
        "test_dataset = MNIST(root='data/', train=False)\n",
        "len(test_dataset)"
      ]
    },
    {
      "cell_type": "markdown",
      "metadata": {
        "id": "bgJru-f7fTTW"
      },
      "source": [
        "Let's look at a sample element from the training dataset."
      ]
    },
    {
      "cell_type": "code",
      "execution_count": null,
      "metadata": {
        "colab": {
          "base_uri": "https://localhost:8080/"
        },
        "id": "4ZmSZeFGfTTW",
        "outputId": "fe09ce33-51ba-4ee0-eb5f-64b49a98655c"
      },
      "outputs": [
        {
          "data": {
            "text/plain": [
              "(<PIL.Image.Image image mode=L size=28x28>, 5)"
            ]
          },
          "execution_count": 67,
          "metadata": {},
          "output_type": "execute_result"
        }
      ],
      "source": [
        "dataset[0]"
      ]
    },
    {
      "cell_type": "markdown",
      "metadata": {
        "id": "2oBdGAc4fTTX"
      },
      "source": [
        "It's a pair, consisting of a 28x28px image and a label. The image is an object of the class `PIL.Image.Image`, which is a part of the Python imaging library [Pillow](https://pillow.readthedocs.io/en/stable/). We can view the image within Jupyter using [`matplotlib`](https://matplotlib.org/), the de-facto plotting and graphing library for data science in Python."
      ]
    },
    {
      "cell_type": "code",
      "execution_count": null,
      "metadata": {
        "id": "edyBIgXPfTTX"
      },
      "outputs": [],
      "source": [
        "import matplotlib.pyplot as plt\n",
        "%matplotlib inline"
      ]
    },
    {
      "cell_type": "markdown",
      "metadata": {
        "id": "TSVQL5vJfTTX"
      },
      "source": [
        "The statement `%matplotlib inline` indicates to Jupyter that we want to plot the graphs within the notebook. Without this line, Jupyter will show the image in a popup. Statements starting with `%` are called magic commands and are used to configure the behavior of Jupyter itself. You can find a full list of magic commands here: https://ipython.readthedocs.io/en/stable/interactive/magics.html .\n",
        "\n",
        "Let's look at a couple of images from the dataset."
      ]
    },
    {
      "cell_type": "code",
      "execution_count": null,
      "metadata": {
        "colab": {
          "base_uri": "https://localhost:8080/",
          "height": 447
        },
        "id": "3cxwpTQLfTTX",
        "outputId": "fb2390df-5742-44a1-a241-39cffba95284"
      },
      "outputs": [
        {
          "name": "stdout",
          "output_type": "stream",
          "text": [
            "Label: 5\n"
          ]
        },
        {
          "data": {
            "image/png": "[encoded data removed]",
            "text/plain": [
              "<Figure size 640x480 with 1 Axes>"
            ]
          },
          "metadata": {},
          "output_type": "display_data"
        }
      ],
      "source": [
        "image, label = dataset[0]\n",
        "plt.imshow(image, cmap='gray')\n",
        "print('Label:', label)"
      ]
    },
    {
      "cell_type": "code",
      "execution_count": null,
      "metadata": {
        "colab": {
          "base_uri": "https://localhost:8080/",
          "height": 447
        },
        "id": "35ELPbM7fTTX",
        "outputId": "09ab2a67-8148-44fe-d50c-489e76ab6703"
      },
      "outputs": [
        {
          "name": "stdout",
          "output_type": "stream",
          "text": [
            "Label: 3\n"
          ]
        },
        {
          "data": {
            "image/png": "[encoded data removed]",
            "text/plain": [
              "<Figure size 640x480 with 1 Axes>"
            ]
          },
          "metadata": {},
          "output_type": "display_data"
        }
      ],
      "source": [
        "image, label = dataset[10]\n",
        "plt.imshow(image, cmap='gray')\n",
        "print('Label:', label)"
      ]
    },
    {
      "cell_type": "markdown",
      "metadata": {
        "id": "5vO2Gh9RfTTX"
      },
      "source": [
        "It's evident that these images are relatively small in size, and recognizing the digits can sometimes be challenging even for the human eye. While it's useful to look at these images, there's just one problem here: PyTorch doesn't know how to work with images. We need to convert the images into tensors. We can do this by specifying a transform while creating our dataset."
      ]
    },
    {
      "cell_type": "code",
      "execution_count": null,
      "metadata": {
        "id": "FBnad_UDfTTX"
      },
      "outputs": [],
      "source": [
        "import torchvision.transforms as transforms"
      ]
    },
    {
      "cell_type": "markdown",
      "metadata": {
        "id": "084T0emtfTTX"
      },
      "source": [
        "PyTorch datasets allow us to specify one or more transformation functions that are applied to the images as they are loaded. The `torchvision.transforms` module contains many such predefined functions. We'll use the `ToTensor` transform to convert images into PyTorch tensors.\n",
        "\n",
        "\n",
        "\n",
        "---\n",
        "\n",
        "\n",
        "The MNIST dataset provided by torchvision is already in the form of a TensorDataset, so you don't need to explicitly create one. like this.\n",
        "train_ds = TensorDataset(inputs, targets).\n",
        "\n",
        "It contain both labels and targets\n",
        "\n",
        "---\n",
        "\n"
      ]
    },
    {
      "cell_type": "code",
      "execution_count": null,
      "metadata": {
        "id": "hYvBQ3LzfTTX"
      },
      "outputs": [],
      "source": [
        "# MNIST dataset (images and labels)\n",
        "dataset = MNIST(root='data/',\n",
        "                train=True,\n",
        "                transform=transforms.ToTensor())"
      ]
    },
    {
      "cell_type": "code",
      "execution_count": null,
      "metadata": {
        "colab": {
          "base_uri": "https://localhost:8080/"
        },
        "id": "nCZ4h7jMfTTX",
        "outputId": "e0e7e63a-0e97-4cac-fdc3-1f9bee5f2356"
      },
      "outputs": [
        {
          "name": "stdout",
          "output_type": "stream",
          "text": [
            "torch.Size([1, 28, 28]) 5\n"
          ]
        }
      ],
      "source": [
        "img_tensor, label = dataset[0]\n",
        "print(img_tensor.shape, label)"
      ]
    },
    {
      "cell_type": "markdown",
      "metadata": {
        "id": "Io317DfSfTTX"
      },
      "source": [
        "The image is now converted to a 1x28x28 tensor. The first dimension tracks color channels. The second and third dimensions represent pixels along the height and width of the image, respectively. Since images in the MNIST dataset are grayscale, there's just one channel. Other datasets have images with color, in which case there are three channels: red, green, and blue (RGB).\n",
        "\n",
        "Let's look at some sample values inside the tensor."
      ]
    },
    {
      "cell_type": "code",
      "execution_count": null,
      "metadata": {
        "colab": {
          "base_uri": "https://localhost:8080/"
        },
        "id": "prZFgdtefTTX",
        "outputId": "259a955e-01b7-461e-801a-3b542abadfe1"
      },
      "outputs": [
        {
          "name": "stdout",
          "output_type": "stream",
          "text": [
            "tensor([[0.0039, 0.6039, 0.9922, 0.3529, 0.0000],\n",
            "        [0.0000, 0.5451, 0.9922, 0.7451, 0.0078],\n",
            "        [0.0000, 0.0431, 0.7451, 0.9922, 0.2745],\n",
            "        [0.0000, 0.0000, 0.1373, 0.9451, 0.8824],\n",
            "        [0.0000, 0.0000, 0.0000, 0.3176, 0.9412]])\n",
            "tensor(1.) tensor(0.)\n"
          ]
        }
      ],
      "source": [
        "print(img_tensor[0,10:15,10:15])\n",
        "print(torch.max(img_tensor), torch.min(img_tensor))"
      ]
    },
    {
      "cell_type": "markdown",
      "metadata": {
        "id": "_2HjQ5P5fTTX"
      },
      "source": [
        "The values range from 0 to 1, with `0` representing black, `1` white, and the values in between different shades of grey. We can also plot the tensor as an image using `plt.imshow`."
      ]
    },
    {
      "cell_type": "code",
      "execution_count": null,
      "metadata": {
        "colab": {
          "base_uri": "https://localhost:8080/",
          "height": 430
        },
        "id": "Fw-NvsqpfTTX",
        "outputId": "34a6707a-a875-4489-c34b-8779e7729138"
      },
      "outputs": [
        {
          "data": {
            "image/png": "[encoded data removed]",
            "text/plain": [
              "<Figure size 640x480 with 1 Axes>"
            ]
          },
          "metadata": {},
          "output_type": "display_data"
        }
      ],
      "source": [
        "# Plot the image by passing in the 28x28 matrix\n",
        "plt.imshow(img_tensor[0,10:15,10:15], cmap='gray');"
      ]
    },
    {
      "cell_type": "markdown",
      "metadata": {
        "id": "WudqBr3pfTTX"
      },
      "source": [
        "Note that we need to pass just the 28x28 matrix to `plt.imshow`, without a channel dimension. We also pass a color map (`cmap=gray`) to indicate that we want to see a grayscale image."
      ]
    },
    {
      "cell_type": "markdown",
      "metadata": {
        "id": "qSKTZ8aifTTX"
      },
      "source": [
        "## Training and Validation Datasets\n",
        "\n",
        "While building real-world machine learning models, it is quite common to split the dataset into three parts:\n",
        "\n",
        "1. **Training set** - used to train the model, i.e., compute the loss and adjust the model's weights using gradient descent.\n",
        "2. **Validation set** - used to evaluate the model during training, adjust hyperparameters (learning rate, etc.), and pick the best version of the model.\n",
        "3. **Test set** - used to compare different models or approaches and report the model's final accuracy.\n",
        "\n",
        "In the MNIST dataset, there are 60,000 training images and 10,000 test images. The test set is standardized so that different researchers can report their models' results against the same collection of images.\n",
        "\n",
        "Since there's no predefined validation set, we must manually split the 60,000 images into training and validation datasets. Let's set aside 10,000 randomly chosen images for validation. We can do this using the `random_spilt` method from PyTorch."
      ]
    },
    {
      "cell_type": "code",
      "execution_count": null,
      "metadata": {
        "colab": {
          "base_uri": "https://localhost:8080/"
        },
        "id": "1dcE0OPBfTTX",
        "outputId": "06565cdc-d85d-4bf9-b371-f151df80f611"
      },
      "outputs": [
        {
          "data": {
            "text/plain": [
              "(50000, 10000)"
            ]
          },
          "execution_count": 76,
          "metadata": {},
          "output_type": "execute_result"
        }
      ],
      "source": [
        "from torch.utils.data import random_split\n",
        "\n",
        "train_ds, val_ds = random_split(dataset, [50000, 10000])\n",
        "len(train_ds), len(val_ds)"
      ]
    },
    {
      "cell_type": "markdown",
      "metadata": {
        "id": "CACcvMnZfTTX"
      },
      "source": [
        "It's essential to choose a random sample for creating a validation set. Training data is often sorted by the target labels, i.e., images of 0s, followed by 1s, followed by 2s, etc. If we create a validation set using the last 20% of images, it would only consist of 8s and 9s. In contrast, the training set would contain no 8s or 9s. Such a training-validation would make it impossible to train a useful model.\n",
        "\n",
        "We can now create data loaders to help us load the data in batches. We'll use a batch size of 128.\n",
        "\n",
        "\n"
      ]
    },
    {
      "cell_type": "code",
      "execution_count": null,
      "metadata": {
        "id": "pD_oD7BTfTTX"
      },
      "outputs": [],
      "source": [
        "from torch.utils.data import DataLoader\n",
        "\n",
        "batch_size = 128\n",
        "\n",
        "train_loader = DataLoader(train_ds, batch_size, shuffle=True)\n",
        "val_loader = DataLoader(val_ds, batch_size)"
      ]
    },
    {
      "cell_type": "markdown",
      "metadata": {
        "id": "NCtbVhkOfTTX"
      },
      "source": [
        "We set `shuffle=True` for the training data loader to ensure that the batches generated in each epoch are different. This randomization helps generalize & speed up the training process. On the other hand, since the validation data loader is used only for evaluating the model, there is no need to shuffle the images.\n"
      ]
    },
    {
      "cell_type": "markdown",
      "metadata": {
        "id": "HEyJshGxfTTY"
      },
      "source": [
        "### Save and upload your notebook\n",
        "\n",
        "Whether you're running this Jupyter notebook online or on your computer, it's essential to save your work from time to time. You can continue working on a saved notebook later or share it with friends and colleagues to let them execute your code. [Jovian](https://jovian.ai/platform-features) offers an easy way of saving and sharing your Jupyter notebooks online."
      ]
    },
    {
      "cell_type": "code",
      "execution_count": null,
      "metadata": {
        "id": "QWDMN_nsfTTY"
      },
      "outputs": [],
      "source": [
        "# Install the library\n",
        "!pip install jovian --upgrade --quiet"
      ]
    },
    {
      "cell_type": "code",
      "execution_count": null,
      "metadata": {
        "id": "HS6PzY2KfTTY"
      },
      "outputs": [],
      "source": [
        "import jovian"
      ]
    },
    {
      "cell_type": "code",
      "execution_count": null,
      "metadata": {
        "colab": {
          "base_uri": "https://localhost:8080/"
        },
        "id": "LkpRo2TffTTY",
        "outputId": "dabfa4be-35a3-4e93-c90c-c0e34ca27251"
      },
      "outputs": [
        {
          "name": "stdout",
          "output_type": "stream",
          "text": [
            "[jovian] Detected Colab notebook...\u001b[0m\n",
            "[jovian] jovian.commit() is no longer required on Google Colab. If you ran this notebook from Jovian, \n",
            "then just save this file in Colab using Ctrl+S/Cmd+S and it will be updated on Jovian. \n",
            "Also, you can also delete this cell, it's no longer necessary.\u001b[0m\n"
          ]
        }
      ],
      "source": [
        "jovian.commit(project='03-logistic-regression-live')"
      ]
    },
    {
      "cell_type": "markdown",
      "metadata": {
        "id": "rUFBNaPFfTTY"
      },
      "source": [
        "`jovian.commit` uploads the notebook to your Jovian account, captures the Python environment, and creates a shareable link for your notebook, as shown above. You can use this link to share your work and let anyone (including you) run your notebooks and reproduce your work."
      ]
    },
    {
      "cell_type": "markdown",
      "metadata": {
        "id": "Fy-lajKQfTTY"
      },
      "source": [
        "## Model\n",
        "\n",
        "Now that we have prepared our data loaders, we can define our model.\n",
        "\n",
        "* A **logistic regression** model is almost identical to a linear regression model. It contains weights and bias matrices, and the output is obtained using simple matrix operations (`pred = x @ w.t() + b`).\n",
        "\n",
        "* As we did with linear regression, we can use `nn.Linear` to create the model instead of manually creating and initializing the matrices.\n",
        "\n",
        "* Since `nn.Linear` expects each training example to be a vector, each `1x28x28` image tensor is _flattened_ into a vector of size 784 `(28*28)` before being passed into the model.\n",
        "\n",
        "* The output for each image is a vector of size 10, with each element signifying the probability of a particular target label (i.e., 0 to 9). The predicted label for an image is simply the one with the highest probability."
      ]
    },
    {
      "cell_type": "code",
      "execution_count": null,
      "metadata": {
        "id": "zzVbD7pifTTY"
      },
      "outputs": [],
      "source": [
        "import torch.nn as nn\n",
        "\n",
        "input_size = 28*28\n",
        "num_classes = 10\n",
        "\n",
        "# Logistic regression model\n",
        "model = nn.Linear(input_size, num_classes)"
      ]
    },
    {
      "cell_type": "markdown",
      "metadata": {
        "id": "2ilamccMfTTY"
      },
      "source": [
        "Of course, this model is a lot larger than our previous model in terms of the number of parameters. Let's take a look at the weights and biases."
      ]
    },
    {
      "cell_type": "code",
      "execution_count": null,
      "metadata": {
        "colab": {
          "base_uri": "https://localhost:8080/"
        },
        "id": "HAj8gVdUfTTY",
        "outputId": "10c18b0a-2552-4e1a-c7a2-0d129a6461fc"
      },
      "outputs": [
        {
          "name": "stdout",
          "output_type": "stream",
          "text": [
            "torch.Size([10, 784])\n"
          ]
        },
        {
          "data": {
            "text/plain": [
              "Parameter containing:\n",
              "tensor([[-0.0236,  0.0217, -0.0085,  ...,  0.0270,  0.0023, -0.0089],\n",
              "        [-0.0239, -0.0084, -0.0095,  ...,  0.0356, -0.0180,  0.0098],\n",
              "        [ 0.0121, -0.0322,  0.0187,  ...,  0.0203,  0.0070, -0.0290],\n",
              "        ...,\n",
              "        [ 0.0273, -0.0330, -0.0081,  ..., -0.0266, -0.0019, -0.0216],\n",
              "        [ 0.0166,  0.0222, -0.0218,  ...,  0.0042, -0.0270, -0.0297],\n",
              "        [ 0.0105,  0.0344,  0.0218,  ..., -0.0339,  0.0070,  0.0046]],\n",
              "       requires_grad=True)"
            ]
          },
          "execution_count": 82,
          "metadata": {},
          "output_type": "execute_result"
        }
      ],
      "source": [
        "print(model.weight.shape)\n",
        "model.weight"
      ]
    },
    {
      "cell_type": "code",
      "execution_count": null,
      "metadata": {
        "colab": {
          "base_uri": "https://localhost:8080/"
        },
        "id": "fRnviQ34fTTY",
        "outputId": "47fd1219-9825-4622-d286-996bbfdb7c27"
      },
      "outputs": [
        {
          "name": "stdout",
          "output_type": "stream",
          "text": [
            "torch.Size([10])\n"
          ]
        },
        {
          "data": {
            "text/plain": [
              "Parameter containing:\n",
              "tensor([ 0.0154, -0.0111,  0.0064, -0.0045,  0.0116, -0.0125, -0.0031, -0.0036,\n",
              "        -0.0166,  0.0194], requires_grad=True)"
            ]
          },
          "execution_count": 83,
          "metadata": {},
          "output_type": "execute_result"
        }
      ],
      "source": [
        "print(model.bias.shape)\n",
        "model.bias"
      ]
    },
    {
      "cell_type": "markdown",
      "metadata": {
        "id": "Is6yNefafTTY"
      },
      "source": [
        "Although there are a total of 7850 parameters here, conceptually, nothing has changed so far. Let's try and generate some outputs using our model. We'll take the first batch of 100 images from our dataset and pass them into our model."
      ]
    },
    {
      "cell_type": "code",
      "execution_count": null,
      "metadata": {
        "id": "qIuxYOy3fTTY"
      },
      "outputs": [],
      "source": [
        "# for images, labels in train_loader:\n",
        "#     print(labels)\n",
        "#     print(images.shape)\n",
        "#     outputs = model(images)\n",
        "#     print(outputs)\n",
        "#     break"
      ]
    },
    {
      "cell_type": "code",
      "execution_count": null,
      "metadata": {
        "colab": {
          "base_uri": "https://localhost:8080/"
        },
        "id": "6yufJiqB-O1n",
        "outputId": "27240427-2a58-4032-be10-c6f61e285101"
      },
      "outputs": [
        {
          "name": "stdout",
          "output_type": "stream",
          "text": [
            "tensor([3, 1, 5, 6, 8, 5, 4, 3, 1, 7, 1, 4, 5, 4, 8, 0, 2, 8, 7, 0, 4, 7, 9, 0,\n",
            "        8, 8, 6, 9, 6, 1, 1, 5, 4, 7, 8, 8, 4, 2, 8, 5, 7, 0, 8, 9, 9, 1, 1, 0,\n",
            "        4, 3, 5, 3, 7, 5, 8, 2, 7, 8, 2, 7, 2, 8, 1, 2, 2, 8, 8, 5, 9, 2, 3, 3,\n",
            "        9, 1, 3, 1, 0, 2, 2, 5, 0, 1, 5, 8, 9, 6, 2, 2, 5, 2, 4, 4, 8, 9, 0, 4,\n",
            "        1, 1, 7, 2, 1, 1, 0, 2, 2, 8, 0, 7, 9, 8, 6, 2, 0, 5, 7, 6, 8, 0, 8, 3,\n",
            "        6, 2, 8, 0, 2, 4, 7, 1])\n",
            "tensor([[[[0., 0., 0.,  ..., 0., 0., 0.],\n",
            "          [0., 0., 0.,  ..., 0., 0., 0.],\n",
            "          [0., 0., 0.,  ..., 0., 0., 0.],\n",
            "          ...,\n",
            "          [0., 0., 0.,  ..., 0., 0., 0.],\n",
            "          [0., 0., 0.,  ..., 0., 0., 0.],\n",
            "          [0., 0., 0.,  ..., 0., 0., 0.]]],\n",
            "\n",
            "\n",
            "        [[[0., 0., 0.,  ..., 0., 0., 0.],\n",
            "          [0., 0., 0.,  ..., 0., 0., 0.],\n",
            "          [0., 0., 0.,  ..., 0., 0., 0.],\n",
            "          ...,\n",
            "          [0., 0., 0.,  ..., 0., 0., 0.],\n",
            "          [0., 0., 0.,  ..., 0., 0., 0.],\n",
            "          [0., 0., 0.,  ..., 0., 0., 0.]]],\n",
            "\n",
            "\n",
            "        [[[0., 0., 0.,  ..., 0., 0., 0.],\n",
            "          [0., 0., 0.,  ..., 0., 0., 0.],\n",
            "          [0., 0., 0.,  ..., 0., 0., 0.],\n",
            "          ...,\n",
            "          [0., 0., 0.,  ..., 0., 0., 0.],\n",
            "          [0., 0., 0.,  ..., 0., 0., 0.],\n",
            "          [0., 0., 0.,  ..., 0., 0., 0.]]],\n",
            "\n",
            "\n",
            "        ...,\n",
            "\n",
            "\n",
            "        [[[0., 0., 0.,  ..., 0., 0., 0.],\n",
            "          [0., 0., 0.,  ..., 0., 0., 0.],\n",
            "          [0., 0., 0.,  ..., 0., 0., 0.],\n",
            "          ...,\n",
            "          [0., 0., 0.,  ..., 0., 0., 0.],\n",
            "          [0., 0., 0.,  ..., 0., 0., 0.],\n",
            "          [0., 0., 0.,  ..., 0., 0., 0.]]],\n",
            "\n",
            "\n",
            "        [[[0., 0., 0.,  ..., 0., 0., 0.],\n",
            "          [0., 0., 0.,  ..., 0., 0., 0.],\n",
            "          [0., 0., 0.,  ..., 0., 0., 0.],\n",
            "          ...,\n",
            "          [0., 0., 0.,  ..., 0., 0., 0.],\n",
            "          [0., 0., 0.,  ..., 0., 0., 0.],\n",
            "          [0., 0., 0.,  ..., 0., 0., 0.]]],\n",
            "\n",
            "\n",
            "        [[[0., 0., 0.,  ..., 0., 0., 0.],\n",
            "          [0., 0., 0.,  ..., 0., 0., 0.],\n",
            "          [0., 0., 0.,  ..., 0., 0., 0.],\n",
            "          ...,\n",
            "          [0., 0., 0.,  ..., 0., 0., 0.],\n",
            "          [0., 0., 0.,  ..., 0., 0., 0.],\n",
            "          [0., 0., 0.,  ..., 0., 0., 0.]]]])\n"
          ]
        }
      ],
      "source": [
        "for images, labels in train_loader:\n",
        "    print(labels)\n",
        "    print(images)\n",
        "\n",
        "    break"
      ]
    },
    {
      "cell_type": "code",
      "execution_count": null,
      "metadata": {
        "colab": {
          "base_uri": "https://localhost:8080/"
        },
        "id": "Fi-Hzg_t4lNc",
        "outputId": "64084848-695f-4c54-b205-40e32855f1f9"
      },
      "outputs": [
        {
          "name": "stdout",
          "output_type": "stream",
          "text": [
            "<torch.utils.data.dataloader.DataLoader object at 0x787b7356dd20>\n"
          ]
        }
      ],
      "source": [
        "print(train_loader)\n"
      ]
    },
    {
      "cell_type": "code",
      "execution_count": null,
      "metadata": {
        "colab": {
          "base_uri": "https://localhost:8080/"
        },
        "id": "9m-JsBr6lSO8",
        "outputId": "35c3a132-7a2e-49e7-b18a-5036aeec8af8"
      },
      "outputs": [
        {
          "data": {
            "text/plain": [
              "torch.Size([128, 1, 28, 28])"
            ]
          },
          "execution_count": 87,
          "metadata": {},
          "output_type": "execute_result"
        }
      ],
      "source": [
        "images.shape"
      ]
    },
    {
      "cell_type": "code",
      "execution_count": null,
      "metadata": {
        "colab": {
          "base_uri": "https://localhost:8080/"
        },
        "id": "X3_ktSR1lVJQ",
        "outputId": "c4cf3c77-f145-4a10-a66c-3298f128b695"
      },
      "outputs": [
        {
          "data": {
            "text/plain": [
              "torch.Size([128, 784])"
            ]
          },
          "execution_count": 88,
          "metadata": {},
          "output_type": "execute_result"
        }
      ],
      "source": [
        "images.reshape(128, 784).shape"
      ]
    },
    {
      "cell_type": "markdown",
      "metadata": {
        "id": "-lT2ZhMjfTTY"
      },
      "source": [
        "The code above leads to an error because our input data does not have the right shape. Our images are of the shape 1x28x28, but we need them to be vectors of size 784, i.e., we need to flatten them. We'll use the `.reshape` method of a tensor, which will allow us to efficiently 'view' each image as a flat vector without really creating a copy of the underlying data. To include this additional functionality within our model, we need to define a custom model by extending the `nn.Module` class from PyTorch.\n",
        "\n",
        "A class in Python provides a \"blueprint\" for creating objects. Let's look at an example of defining a new class in Python."
      ]
    },
    {
      "cell_type": "code",
      "execution_count": null,
      "metadata": {
        "id": "6u8YjzDwfTTY"
      },
      "outputs": [],
      "source": [
        "class Person:\n",
        "    # Class constructor\n",
        "    def __init__(self, name, age):\n",
        "        # Object properties\n",
        "        self.name = name\n",
        "        self.age = age\n",
        "\n",
        "    # Method\n",
        "    def say_hello(self):\n",
        "        print(\"Hello my name is \" + self.name + \"!\")"
      ]
    },
    {
      "cell_type": "markdown",
      "metadata": {
        "id": "Z3IlFc_8fTTY"
      },
      "source": [
        "Here's how we create or _instantiate_ an object of the class `Person`."
      ]
    },
    {
      "cell_type": "code",
      "execution_count": null,
      "metadata": {
        "id": "GTqhyYjifTTY"
      },
      "outputs": [],
      "source": [
        "bob = Person(\"Bob\", 32)"
      ]
    },
    {
      "cell_type": "markdown",
      "metadata": {
        "id": "ihjFg-KOfTTY"
      },
      "source": [
        "The object `bob` is an instance of the class `Person`.\n",
        "\n",
        "We can access the object's properties (also called attributes) or invoke its methods using the `.` notation."
      ]
    },
    {
      "cell_type": "code",
      "execution_count": null,
      "metadata": {
        "colab": {
          "base_uri": "https://localhost:8080/"
        },
        "id": "6vV3_NVyfTTY",
        "outputId": "1ee429e9-86e5-4cf0-f133-c907881c3ea0"
      },
      "outputs": [
        {
          "data": {
            "text/plain": [
              "('Bob', 32)"
            ]
          },
          "execution_count": 91,
          "metadata": {},
          "output_type": "execute_result"
        }
      ],
      "source": [
        "bob.name, bob.age"
      ]
    },
    {
      "cell_type": "code",
      "execution_count": null,
      "metadata": {
        "colab": {
          "base_uri": "https://localhost:8080/"
        },
        "id": "oMnNbsqWfTTY",
        "outputId": "378748eb-67ed-4c6f-c7aa-4df064d937c8"
      },
      "outputs": [
        {
          "name": "stdout",
          "output_type": "stream",
          "text": [
            "Hello my name is Bob!\n"
          ]
        }
      ],
      "source": [
        "bob.say_hello()"
      ]
    },
    {
      "cell_type": "markdown",
      "metadata": {
        "id": "wrI894tlfTTY"
      },
      "source": [
        "You can learn more about Python classes here: https://www.w3schools.com/python/python_classes.asp .\n",
        "\n",
        "Classes can also build upon or _extend_ the functionality of existing classes. Let's extend the `nn.Module` class from PyTorch to define a custom model."
      ]
    },
    {
      "cell_type": "markdown",
      "metadata": {
        "id": "xoBMvykJGXtw"
      },
      "source": [
        "## **forward method**\n",
        "forward() method is a abstract method inside nn.Module class.(nn.Module is the\n",
        "super class of all neural networks) when we extend a nn.Module to a child class\n",
        "we must implement the forward() method inside child class otherwise we get an error.\n",
        "\n",
        "This method defines the forward pass behavior of your model, specifying how input data should be processed through the layers of the model to produce output predictions.\n",
        "\n",
        "\n",
        "![array_dimentios.png](data:image/png;base64,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)\n",
        "\n",
        "In PyTorch, the `forward()` method is a part of the `nn.Module` class, and when you create a custom neural network model by subclassing `nn.Module`, you override this method with your own implementation to define the forward pass behavior of your model.\n",
        "\n",
        "Here's how it works:\n",
        "\n",
        "1. **Inheritance**: Your custom model class (`MnistModel` in this case) inherits from `nn.Module`. This means it inherits all the attributes and methods of `nn.Module`, including the `forward()` method.\n",
        "\n",
        "2. **Overriding**: By defining a `forward()` method inside your custom model class, you override the `forward()` method of the `nn.Module` class. This allows you to define the specific behavior of the forward pass for your model.\n",
        "\n",
        "3. **Automatic Invocation**: When you call your model instance (`model(images)`), Python automatically invokes the `__call__()` method of `nn.Module`, which in turn calls the overridden `forward()` method of your custom model class. This is why your customized `forward()` method is being called when you pass images to your model.\n",
        "\n",
        "If you change the name of the `forward()` method to something else, it won't be automatically called when you pass data to your model. This is because PyTorch expects the forward pass logic to be implemented in a method named `forward()`, as per the design of `nn.Module`.\n",
        "\n",
        "So, to ensure that your forward pass logic is executed when you pass data to your model, you need to define it in a method named `forward()` inside your custom model class, and Python will handle the invocation automatically."
      ]
    },
    {
      "cell_type": "code",
      "execution_count": null,
      "metadata": {
        "id": "c2HWol7qfTTY"
      },
      "outputs": [],
      "source": [
        "class MnistModel(nn.Module):\n",
        "    def __init__(self,input_size, num_classes):\n",
        "        super().__init__()\n",
        "        self.linear = nn.Linear(input_size, num_classes)\n",
        "\n",
        "    #override  method\n",
        "    def forward(self, xb):\n",
        "        xb = xb.reshape(-1, 784)\n",
        "        out = self.linear(xb)\n",
        "\n",
        "        return out\n",
        "\n",
        "model = MnistModel(input_size, num_classes)"
      ]
    },
    {
      "cell_type": "markdown",
      "metadata": {
        "id": "mZKn3GBFfTTY"
      },
      "source": [
        "Inside the `__init__` constructor method, we instantiate the weights and biases using `nn.Linear`. And inside the `forward` method, which is invoked when we pass a batch of inputs to the model, we flatten the input tensor and pass it into `self.linear`.\n",
        "\n",
        "`xb.reshape(-1, 28*28)` indicates to PyTorch that we want a *view* of the `xb` tensor with two dimensions. The length along the 2nd dimension is 28\\*28 (i.e., 784). One argument to `.reshape` can be set to `-1` (in this case, the first dimension) to let PyTorch figure it out automatically based on the shape of the original tensor.\n",
        "\n",
        "Note that the model no longer has `.weight` and `.bias` attributes (as they are now inside the `.linear` attribute), but it does have a `.parameters` method that returns a list containing the weights and bias."
      ]
    },
    {
      "cell_type": "code",
      "execution_count": null,
      "metadata": {
        "colab": {
          "base_uri": "https://localhost:8080/"
        },
        "id": "voZF2M_3nVnI",
        "outputId": "c7738e22-5349-42b6-9d28-2f77ca17ee1e"
      },
      "outputs": [
        {
          "data": {
            "text/plain": [
              "Linear(in_features=784, out_features=10, bias=True)"
            ]
          },
          "execution_count": 94,
          "metadata": {},
          "output_type": "execute_result"
        }
      ],
      "source": [
        "model.linear"
      ]
    },
    {
      "cell_type": "code",
      "execution_count": null,
      "metadata": {
        "colab": {
          "base_uri": "https://localhost:8080/"
        },
        "id": "JciejPo9fTTY",
        "outputId": "2ea073ff-b036-48c4-b161-0a8f5c080e9e"
      },
      "outputs": [
        {
          "name": "stdout",
          "output_type": "stream",
          "text": [
            "torch.Size([10, 784]) torch.Size([10])\n"
          ]
        },
        {
          "data": {
            "text/plain": [
              "[Parameter containing:\n",
              " tensor([[ 0.0045,  0.0030,  0.0341,  ...,  0.0285,  0.0199,  0.0149],\n",
              "         [ 0.0146, -0.0220,  0.0131,  ...,  0.0026, -0.0208, -0.0073],\n",
              "         [-0.0154,  0.0087, -0.0096,  ...,  0.0112, -0.0315, -0.0130],\n",
              "         ...,\n",
              "         [ 0.0274, -0.0130, -0.0233,  ...,  0.0225,  0.0251, -0.0265],\n",
              "         [-0.0316, -0.0065,  0.0352,  ...,  0.0194,  0.0268,  0.0207],\n",
              "         [ 0.0132, -0.0253,  0.0044,  ...,  0.0063,  0.0271,  0.0230]],\n",
              "        requires_grad=True),\n",
              " Parameter containing:\n",
              " tensor([ 0.0100,  0.0271,  0.0250,  0.0235, -0.0314, -0.0285,  0.0109, -0.0264,\n",
              "          0.0158,  0.0333], requires_grad=True)]"
            ]
          },
          "execution_count": 95,
          "metadata": {},
          "output_type": "execute_result"
        }
      ],
      "source": [
        "print(model.linear.weight.shape, model.linear.bias.shape)\n",
        "list(model.parameters())"
      ]
    },
    {
      "cell_type": "markdown",
      "metadata": {
        "id": "nGvgCQn2fTTY"
      },
      "source": [
        "We can use our new custom model in the same way as before. Let's see if it works."
      ]
    },
    {
      "cell_type": "code",
      "execution_count": null,
      "metadata": {
        "colab": {
          "base_uri": "https://localhost:8080/"
        },
        "id": "HJ6FGOvYfTTZ",
        "outputId": "a64ac04b-b40e-44a7-ac49-f2773fadd526"
      },
      "outputs": [
        {
          "name": "stdout",
          "output_type": "stream",
          "text": [
            "torch.Size([128, 1, 28, 28])\n",
            "outputs.shape :  torch.Size([128, 10])\n",
            "Sample outputs :\n",
            " tensor([[-0.0280,  0.0126, -0.1726,  0.2000, -0.2049, -0.0727, -0.0287, -0.3089,\n",
            "          0.1661, -0.1023],\n",
            "        [-0.1113, -0.0412, -0.1459,  0.7745,  0.1099, -0.0468,  0.3791, -0.5452,\n",
            "          0.0668,  0.3726]])\n"
          ]
        }
      ],
      "source": [
        "for images, labels in train_loader:\n",
        "    print(images.shape)\n",
        "    outputs = model(images)\n",
        "    break\n",
        "\n",
        "print('outputs.shape : ', outputs.shape)\n",
        "print('Sample outputs :\\n', outputs[:2].data)"
      ]
    },
    {
      "cell_type": "markdown",
      "metadata": {
        "id": "9v407S1jfTTZ"
      },
      "source": [
        "For each of the 100 input images, we get 10 outputs, one for each class. As discussed earlier, we'd like these outputs to represent probabilities. Each output row's elements must lie between 0 to 1 and add up to 1, which is not the case.\n",
        "\n",
        "To convert the output rows into probabilities, we use the softmax function, which has the following formula:\n",
        "\n",
        "![softmax](https://i.imgur.com/EAh9jLN.png)\n",
        "\n",
        "before input our verctor to softmaxfunction we must ensure that our vectore only contain positive values to ensure this we must apply belowe function to our values and then convert all the values to positive values\n",
        "\n",
        "First, we replace each element `yi` in values of our row by `e^yi`, making all the elements positive.\n",
        "\n",
        "![](https://www.montereyinstitute.org/courses/DevelopmentalMath/COURSE_TEXT2_RESOURCE/U18_L1_T1_text_final_6_files/image001.png)\n",
        "\n",
        "\n",
        "\n",
        "Then, we divide them by their sum to ensure that they add up to 1. The resulting vector can thus be interpreted as probabilities.\n",
        "\n",
        "While it's easy to implement the softmax function (you should try it!), we'll use the implementation that's provided within PyTorch because it works well with multidimensional tensors (a list of output rows in our case)."
      ]
    },
    {
      "cell_type": "code",
      "execution_count": null,
      "metadata": {
        "id": "Wc7d6WD0fTTZ"
      },
      "outputs": [],
      "source": [
        "import torch.nn.functional as F"
      ]
    },
    {
      "cell_type": "markdown",
      "metadata": {
        "id": "FbYF4auWfTTZ"
      },
      "source": [
        "The softmax function is included in the `torch.nn.functional` package and requires us to specify a dimension along which the function should be applied.\n",
        "\n",
        "\n",
        "#### Numpy array dimensions\n",
        "\n",
        "![](https://www.w3resource.com/w3r_images/n-dimension-array.png)\n",
        "\n",
        "\n"
      ]
    },
    {
      "cell_type": "code",
      "execution_count": null,
      "metadata": {
        "colab": {
          "base_uri": "https://localhost:8080/"
        },
        "id": "6xvjcBVTo14n",
        "outputId": "acb52bd9-25d0-4ff5-e3ca-22b45beaa79c"
      },
      "outputs": [
        {
          "data": {
            "text/plain": [
              "tensor([[-0.0280,  0.0126, -0.1726,  0.2000, -0.2049, -0.0727, -0.0287, -0.3089,\n",
              "          0.1661, -0.1023],\n",
              "        [-0.1113, -0.0412, -0.1459,  0.7745,  0.1099, -0.0468,  0.3791, -0.5452,\n",
              "          0.0668,  0.3726]], grad_fn=<SliceBackward0>)"
            ]
          },
          "execution_count": 98,
          "metadata": {},
          "output_type": "execute_result"
        }
      ],
      "source": [
        "outputs[:2]"
      ]
    },
    {
      "cell_type": "code",
      "execution_count": null,
      "metadata": {
        "colab": {
          "base_uri": "https://localhost:8080/"
        },
        "id": "C3neZ1YGfTTZ",
        "outputId": "cfdc3937-044f-468c-b427-fcb8528dc4e0"
      },
      "outputs": [
        {
          "name": "stdout",
          "output_type": "stream",
          "text": [
            "Sample probabilities:\n",
            " tensor([[0.1015, 0.1057, 0.0878, 0.1275, 0.0850, 0.0970, 0.1014, 0.0766, 0.1232,\n",
            "         0.0942],\n",
            "        [0.0777, 0.0833, 0.0750, 0.1883, 0.0969, 0.0828, 0.1268, 0.0503, 0.0928,\n",
            "         0.1260]])\n",
            "Sum:  0.9999999403953552\n"
          ]
        }
      ],
      "source": [
        "# Apply softmax for each output row\n",
        "probs = F.softmax(outputs, dim=1)\n",
        "\n",
        "# Look at sample probabilities\n",
        "print(\"Sample probabilities:\\n\", probs[:2].data)\n",
        "\n",
        "# Add up the probabilities of an output row\n",
        "print(\"Sum: \", torch.sum(probs[0]).item())"
      ]
    },
    {
      "cell_type": "markdown",
      "metadata": {
        "id": "k2cgqWGVfTTZ"
      },
      "source": [
        "Finally, we can determine the predicted label for each image by simply choosing the index of the element with the highest probability in each output row. We can do this using `torch.max`, which returns each row's largest element and the corresponding index."
      ]
    },
    {
      "cell_type": "code",
      "execution_count": null,
      "metadata": {
        "colab": {
          "base_uri": "https://localhost:8080/"
        },
        "id": "1o9a4hAufTTZ",
        "outputId": "67d3b9b3-c8a6-484e-8f58-85364187b941"
      },
      "outputs": [
        {
          "name": "stdout",
          "output_type": "stream",
          "text": [
            "tensor([3, 3, 3, 9, 3, 3, 0, 8, 3, 3, 3, 3, 1, 8, 8, 8, 3, 3, 9, 3, 8, 8, 3, 9,\n",
            "        3, 3, 8, 3, 9, 6, 3, 3, 3, 9, 3, 6, 3, 3, 3, 9, 3, 3, 3, 3, 8, 8, 8, 2,\n",
            "        3, 0, 3, 5, 3, 6, 4, 9, 6, 3, 3, 3, 3, 9, 0, 3, 1, 3, 9, 6, 0, 0, 3, 3,\n",
            "        3, 1, 6, 1, 3, 9, 3, 9, 9, 9, 4, 3, 3, 8, 3, 9, 3, 3, 3, 3, 3, 8, 3, 0,\n",
            "        9, 1, 9, 9, 3, 3, 2, 3, 3, 0, 9, 9, 3, 4, 8, 3, 9, 0, 9, 9, 3, 3, 9, 9,\n",
            "        9, 8, 3, 9, 8, 6, 3, 3])\n",
            "tensor([0.1275, 0.1883, 0.1254, 0.1466, 0.1678, 0.1804, 0.1304, 0.1396, 0.1427,\n",
            "        0.1356, 0.1389, 0.1653, 0.1232, 0.1206, 0.1251, 0.1496, 0.1360, 0.1355,\n",
            "        0.1348, 0.1373, 0.1271, 0.1267, 0.1513, 0.1318, 0.1303, 0.1515, 0.1534,\n",
            "        0.1440, 0.1529, 0.1244, 0.1432, 0.1325, 0.1370, 0.1281, 0.1447, 0.1451,\n",
            "        0.1500, 0.1819, 0.1207, 0.1666, 0.1349, 0.1272, 0.1384, 0.1368, 0.1286,\n",
            "        0.1343, 0.1249, 0.1164, 0.1400, 0.1363, 0.1433, 0.1256, 0.1420, 0.1181,\n",
            "        0.1293, 0.1489, 0.1250, 0.1335, 0.1552, 0.1790, 0.1995, 0.1396, 0.1530,\n",
            "        0.1360, 0.1309, 0.1270, 0.1235, 0.1210, 0.1252, 0.1211, 0.1239, 0.1303,\n",
            "        0.1946, 0.1194, 0.1298, 0.1224, 0.1355, 0.1225, 0.1370, 0.1382, 0.1355,\n",
            "        0.1287, 0.1333, 0.1990, 0.1550, 0.1336, 0.1951, 0.1413, 0.1264, 0.1379,\n",
            "        0.1239, 0.1375, 0.1568, 0.1311, 0.1597, 0.1326, 0.1293, 0.1213, 0.1392,\n",
            "        0.1321, 0.1434, 0.1263, 0.1251, 0.1659, 0.1728, 0.1242, 0.1418, 0.1206,\n",
            "        0.1473, 0.1171, 0.1445, 0.1246, 0.1265, 0.1459, 0.1243, 0.1348, 0.1812,\n",
            "        0.1488, 0.1316, 0.1420, 0.1370, 0.1289, 0.1492, 0.1274, 0.1363, 0.1339,\n",
            "        0.1330, 0.1278], grad_fn=<MaxBackward0>)\n"
          ]
        }
      ],
      "source": [
        "max_probs, preds = torch.max(probs, dim=1)\n",
        "print(preds)\n",
        "print(max_probs)"
      ]
    },
    {
      "cell_type": "markdown",
      "metadata": {
        "id": "IGvKME9WfTTZ"
      },
      "source": [
        "The numbers printed above are the predicted labels for the first batch of training images. Let's compare them with the actual labels."
      ]
    },
    {
      "cell_type": "code",
      "execution_count": null,
      "metadata": {
        "colab": {
          "base_uri": "https://localhost:8080/"
        },
        "id": "TsT85mhffTTZ",
        "outputId": "fa218bfb-7569-4916-e1e4-35e116d81290"
      },
      "outputs": [
        {
          "data": {
            "text/plain": [
              "tensor([1, 2, 3, 9, 6, 6, 7, 1, 9, 3, 3, 8, 1, 1, 8, 8, 4, 3, 4, 4, 1, 1, 2, 4,\n",
              "        6, 3, 1, 4, 9, 1, 4, 3, 2, 9, 4, 2, 3, 0, 1, 1, 8, 9, 0, 8, 1, 1, 3, 4,\n",
              "        0, 9, 3, 4, 9, 7, 9, 2, 7, 5, 4, 3, 0, 7, 9, 7, 1, 6, 5, 1, 9, 6, 5, 3,\n",
              "        6, 3, 8, 1, 4, 5, 4, 3, 9, 9, 4, 6, 4, 8, 8, 9, 5, 2, 4, 3, 2, 8, 8, 9,\n",
              "        4, 1, 3, 9, 4, 7, 7, 6, 3, 9, 7, 7, 9, 3, 5, 9, 8, 0, 4, 4, 8, 0, 9, 5,\n",
              "        8, 1, 4, 7, 8, 5, 7, 2])"
            ]
          },
          "execution_count": 101,
          "metadata": {},
          "output_type": "execute_result"
        }
      ],
      "source": [
        "labels"
      ]
    },
    {
      "cell_type": "markdown",
      "metadata": {
        "id": "8AFZgI8SfTTZ"
      },
      "source": [
        "Most of the predicted labels are different from the actual labels. That's because we have started with randomly initialized weights and biases. We need to train the model, i.e., adjust the weights using gradient descent to make better predictions."
      ]
    },
    {
      "cell_type": "markdown",
      "metadata": {
        "id": "FegT9vhlfTTZ"
      },
      "source": [
        "## Evaluation Metric and Loss Function"
      ]
    },
    {
      "cell_type": "markdown",
      "metadata": {
        "id": "MSiZ3KtqfTTZ"
      },
      "source": [
        "Just as with linear regression, we need a way to evaluate how well our model is performing. A natural way to do this would be to find the percentage of labels that were predicted correctly, i.e,. the **accuracy** of the predictions."
      ]
    },
    {
      "cell_type": "code",
      "execution_count": null,
      "metadata": {
        "colab": {
          "base_uri": "https://localhost:8080/"
        },
        "id": "wG0IBPVMp3UE",
        "outputId": "13b8fbe6-dd16-4565-bd10-068173da36dc"
      },
      "outputs": [
        {
          "data": {
            "text/plain": [
              "tensor([[-0.0280,  0.0126, -0.1726,  0.2000, -0.2049, -0.0727, -0.0287, -0.3089,\n",
              "          0.1661, -0.1023],\n",
              "        [-0.1113, -0.0412, -0.1459,  0.7745,  0.1099, -0.0468,  0.3791, -0.5452,\n",
              "          0.0668,  0.3726]], grad_fn=<SliceBackward0>)"
            ]
          },
          "execution_count": 102,
          "metadata": {},
          "output_type": "execute_result"
        }
      ],
      "source": [
        "outputs[:2]"
      ]
    },
    {
      "cell_type": "code",
      "execution_count": null,
      "metadata": {
        "colab": {
          "base_uri": "https://localhost:8080/"
        },
        "id": "hHgMnCL4qGDt",
        "outputId": "afc65f19-57db-4197-f3ae-1e438862b372"
      },
      "outputs": [
        {
          "data": {
            "text/plain": [
              "tensor(31)"
            ]
          },
          "execution_count": 103,
          "metadata": {},
          "output_type": "execute_result"
        }
      ],
      "source": [
        "torch.sum(preds == labels)"
      ]
    },
    {
      "cell_type": "code",
      "execution_count": null,
      "metadata": {
        "id": "11hDOTR1fTTZ"
      },
      "outputs": [],
      "source": [
        "def accuracy(outputs, labels):\n",
        "    _, preds = torch.max(outputs, dim=1)\n",
        "    return torch.tensor(torch.sum(preds == labels).item() / len(preds))"
      ]
    },
    {
      "cell_type": "markdown",
      "metadata": {
        "id": "E258dVOUfTTZ"
      },
      "source": [
        "The `==` operator performs an element-wise comparison of two tensors with the same shape and returns a tensor of the same shape, containing `True` for unequal elements and `False` for equal elements. Passing the result to `torch.sum` returns the number of labels that were predicted correctly. Finally, we divide by the total number of images to get the accuracy.\n",
        "\n",
        "Note that we don't need to apply softmax to the outputs since its results have the same relative order. This is because `e^x` is an increasing function, i.e., if `y1 > y2`, then `e^y1 > e^y2`. The same holds after averaging out the values to get the softmax.\n",
        "\n",
        "Let's calculate the accuracy of the current model on the first batch of data."
      ]
    },
    {
      "cell_type": "code",
      "execution_count": null,
      "metadata": {
        "colab": {
          "base_uri": "https://localhost:8080/"
        },
        "id": "HwVAxpZXfTTZ",
        "outputId": "63c66257-8078-48cf-cd03-eda4d00fb580"
      },
      "outputs": [
        {
          "data": {
            "text/plain": [
              "tensor(0.2422)"
            ]
          },
          "execution_count": 105,
          "metadata": {},
          "output_type": "execute_result"
        }
      ],
      "source": [
        "accuracy(outputs, labels)"
      ]
    },
    {
      "cell_type": "code",
      "execution_count": null,
      "metadata": {
        "colab": {
          "base_uri": "https://localhost:8080/"
        },
        "id": "jEyaxGIBrNFm",
        "outputId": "33b90ef7-a00c-4240-a9f7-03a65eca2ae2"
      },
      "outputs": [
        {
          "data": {
            "text/plain": [
              "tensor([[0.1015, 0.1057, 0.0878,  ..., 0.0766, 0.1232, 0.0942],\n",
              "        [0.0777, 0.0833, 0.0750,  ..., 0.0503, 0.0928, 0.1260],\n",
              "        [0.1028, 0.1208, 0.1057,  ..., 0.0620, 0.1049, 0.1110],\n",
              "        ...,\n",
              "        [0.0979, 0.0887, 0.0918,  ..., 0.0777, 0.1035, 0.1189],\n",
              "        [0.1186, 0.0991, 0.1069,  ..., 0.0486, 0.1148, 0.0833],\n",
              "        [0.0744, 0.1136, 0.0831,  ..., 0.0739, 0.1017, 0.1175]],\n",
              "       grad_fn=<SoftmaxBackward0>)"
            ]
          },
          "execution_count": 106,
          "metadata": {},
          "output_type": "execute_result"
        }
      ],
      "source": [
        "probs"
      ]
    },
    {
      "cell_type": "markdown",
      "metadata": {
        "id": "Te7ORtqVfTTZ"
      },
      "source": [
        "Accuracy is an excellent way for us (humans) to evaluate the model. However, we can't use it as a loss function for optimizing our model using gradient descent for the following reasons:\n",
        "\n",
        "1. It's not a differentiable function. `torch.max` and `==` are both non-continuous and non-differentiable operations, so we can't use the accuracy for computing gradients w.r.t the weights and biases.\n",
        "\n",
        "2. It doesn't take into account the actual probabilities predicted by the model, so it can't provide sufficient feedback for incremental improvements.\n",
        "\n",
        "For these reasons, accuracy is often used as an **evaluation metric** for classification, but not as a loss function. A commonly used loss function for classification problems is the **cross-entropy**, which has the following formula:\n",
        "\n",
        "![cross-entropy](https://i.imgur.com/VDRDl1D.png)\n",
        "\n",
        "While it looks complicated, it's actually quite simple:\n",
        "\n",
        "* For each output row, pick the predicted probability for the correct label. E.g., if the predicted probabilities for an image are `[0.1, 0.3, 0.2, ...]` and the correct label is `1`, we pick the corresponding element `0.3` and ignore the rest.\n",
        "\n",
        "* Then, take the [logarithm](https://en.wikipedia.org/wiki/Logarithm) of the picked probability. If the probability is high, i.e., close to 1, then its logarithm is a very small negative value, close to 0. And if the probability is low (close to 0), then the logarithm is a very large negative value. We also multiply the result by -1, which results is a large postive value of the loss for poor predictions.\n",
        "\n",
        "![](https://www.intmath.com/blog/wp-content/images/2019/05/log10.png)\n",
        "\n",
        "* Finally, take the average of the cross entropy across all the output rows to get the overall loss for a batch of data.\n",
        "\n",
        "Unlike accuracy, cross-entropy is a continuous and differentiable function. It also provides useful feedback for incremental improvements in the model (a slightly higher probability for the correct label leads to a lower loss). These two factors make cross-entropy a better choice for the loss function.\n",
        "\n",
        "As you might expect, PyTorch provides an efficient and tensor-friendly implementation of cross-entropy as part of the `torch.nn.functional` package. Moreover, **it also performs softmax internally**, so we can directly pass in the model's outputs without converting them into probabilities."
      ]
    },
    {
      "cell_type": "code",
      "execution_count": null,
      "metadata": {
        "colab": {
          "base_uri": "https://localhost:8080/"
        },
        "id": "AkkyxKR1r8nm",
        "outputId": "ead99c15-f65f-4d10-8185-a2a6bb9e052f"
      },
      "outputs": [
        {
          "data": {
            "text/plain": [
              "tensor([[-2.7996e-02,  1.2554e-02, -1.7258e-01,  ..., -3.0892e-01,\n",
              "          1.6613e-01, -1.0227e-01],\n",
              "        [-1.1128e-01, -4.1182e-02, -1.4588e-01,  ..., -5.4522e-01,\n",
              "          6.6796e-02,  3.7257e-01],\n",
              "        [ 8.6984e-02,  2.4883e-01,  1.1501e-01,  ..., -4.1870e-01,\n",
              "          1.0726e-01,  1.6422e-01],\n",
              "        ...,\n",
              "        [-5.5980e-02, -1.5498e-01, -1.2025e-01,  ..., -2.8668e-01,\n",
              "         -8.2276e-05,  1.3812e-01],\n",
              "        [ 3.3931e-01,  1.5930e-01,  2.3509e-01,  ..., -5.5295e-01,\n",
              "          3.0665e-01, -1.3680e-02],\n",
              "        [-2.1299e-01,  2.1063e-01, -1.0185e-01,  ..., -2.1940e-01,\n",
              "          9.9230e-02,  2.4379e-01]], grad_fn=<AddmmBackward0>)"
            ]
          },
          "execution_count": 107,
          "metadata": {},
          "output_type": "execute_result"
        }
      ],
      "source": [
        "outputs"
      ]
    },
    {
      "cell_type": "code",
      "execution_count": null,
      "metadata": {
        "id": "OqWUQpANfTTZ"
      },
      "outputs": [],
      "source": [
        "loss_fn = F.cross_entropy"
      ]
    },
    {
      "cell_type": "code",
      "execution_count": null,
      "metadata": {
        "colab": {
          "base_uri": "https://localhost:8080/"
        },
        "id": "SuESG0hbfTTZ",
        "outputId": "8d946ffd-05de-494f-b252-4b80d7d40cf5"
      },
      "outputs": [
        {
          "name": "stdout",
          "output_type": "stream",
          "text": [
            "tensor(2.2540, grad_fn=<NllLossBackward0>)\n"
          ]
        }
      ],
      "source": [
        "# Loss for current batch of data\n",
        "loss = loss_fn(outputs, labels)\n",
        "print(loss)"
      ]
    },
    {
      "cell_type": "markdown",
      "metadata": {
        "id": "wFOtpxUqfTTZ"
      },
      "source": [
        "We know that cross-entropy is the negative logarithm of the predicted probability of the correct label averaged over all training samples. Therefore, one way to interpret the resulting number e.g. `2.23` is look at `e^-2.23` which is around `0.1` as the predicted probability of the correct label, on average. *The lower the loss, The better the model.*\n",
        "\n",
        "\n",
        "if the cross-entropy is 2.23, and we calculate e raised to the power of -2.23, we get approximately 0.1. This means that, on average, the model's **predicted probability for the correct label** across all training samples is around 0.1.\n",
        "\n",
        "\n",
        "A lower cross-entropy value indicates that, on average, the model is more confident in its correct predictions across all the training data."
      ]
    },
    {
      "cell_type": "markdown",
      "metadata": {
        "id": "hTgl76MgfTTZ"
      },
      "source": [
        "## Training the model\n",
        "\n",
        "Now that we have defined the data loaders, model, loss function and optimizer, we are ready to train the model. The training process is identical to linear regression, with the addition of a \"validation phase\" to evaluate the model in each epoch. Here's what it looks like in pseudocode:\n",
        "\n",
        "```\n",
        "for epoch in range(num_epochs):\n",
        "    # Training phase\n",
        "    for batch in train_loader:\n",
        "        # Generate predictions\n",
        "        # Calculate loss\n",
        "        # Compute gradients\n",
        "        # Update weights\n",
        "        # Reset gradients\n",
        "    \n",
        "    # Validation phase\n",
        "    for batch in val_loader:\n",
        "        # Generate predictions\n",
        "        # Calculate loss\n",
        "        # Calculate metrics (accuracy etc.)\n",
        "    # Calculate average validation loss & metrics\n",
        "    \n",
        "    # Log epoch, loss & metrics for inspection\n",
        "```\n",
        "\n",
        "Some parts of the training loop are specific the specific problem we're solving (e.g. loss function, metrics etc.) whereas others are generic and can be applied to any deep learning problem.\n",
        "\n",
        "We'll include the problem-independent parts within a function called `fit`, which will be used to train the model. The problem-specific parts will be implemented by adding new methods to the `nn.Module` class.\n",
        "\n"
      ]
    },
    {
      "cell_type": "code",
      "execution_count": null,
      "metadata": {
        "id": "1cv7a7ukfTTZ"
      },
      "outputs": [],
      "source": [
        "def fit(epochs, lr, model, train_loader, val_loader, opt_func=torch.optim.SGD):\n",
        "    optimizer = opt_func(model.parameters(), lr)\n",
        "    history = [] # for recording epoch-wise results\n",
        "\n",
        "    for epoch in range(epochs):\n",
        "\n",
        "        # Training Phase\n",
        "        for batch in train_loader:\n",
        "            loss = model.training_step(batch)\n",
        "            loss.backward()\n",
        "            optimizer.step()\n",
        "            optimizer.zero_grad()\n",
        "\n",
        "        # Validation phase\n",
        "        result = evaluate(model, val_loader)\n",
        "        model.epoch_end(epoch, result)\n",
        "        history.append(result)\n",
        "\n",
        "    return history"
      ]
    },
    {
      "cell_type": "markdown",
      "metadata": {
        "id": "TAuhlro7fTTZ"
      },
      "source": [
        "The `fit` function records the validation loss and metric from each epoch. It returns a history of the training, useful for debugging & visualization.\n",
        "\n",
        "Configurations like batch size, learning rate, etc. (called hyperparameters), need to picked in advance while training machine learning models. Choosing the right hyperparameters is critical for training a reasonably accurate model within a reasonable amount of time. It is an active area of research and experimentation in machine learning. Feel free to try different learning rates and see how it affects the training process.\n",
        "\n",
        "\n",
        "Let's define the `evaluate` function, used in the validation phase of `fit`."
      ]
    },
    {
      "cell_type": "code",
      "execution_count": null,
      "metadata": {
        "id": "N064K5H9ujtQ"
      },
      "outputs": [],
      "source": [
        "l1 = [1, 2, 3, 4, 5]"
      ]
    },
    {
      "cell_type": "code",
      "execution_count": null,
      "metadata": {
        "colab": {
          "base_uri": "https://localhost:8080/"
        },
        "id": "5W8a_hmFujqa",
        "outputId": "4beb560b-b17e-4b69-ad91-625273b917ed"
      },
      "outputs": [
        {
          "data": {
            "text/plain": [
              "[2, 4, 6, 8, 10]"
            ]
          },
          "execution_count": 112,
          "metadata": {},
          "output_type": "execute_result"
        }
      ],
      "source": [
        "l2 = [x*2 for x in l1]\n",
        "l2"
      ]
    },
    {
      "cell_type": "code",
      "execution_count": null,
      "metadata": {
        "id": "wgWjXs5mfTTZ"
      },
      "outputs": [],
      "source": [
        "def evaluate(model, val_loader):\n",
        "    outputs = [model.validation_step(batch) for batch in val_loader]\n",
        "    return model.validation_epoch_end(outputs)"
      ]
    },
    {
      "cell_type": "code",
      "execution_count": null,
      "metadata": {
        "id": "_dfSkLOcCS3d"
      },
      "outputs": [],
      "source": [
        "def accuracy(outputs, labels):\n",
        "    _, preds = torch.max(outputs, dim=1)\n",
        "    return torch.tensor(torch.sum(preds == labels).item() / len(preds))"
      ]
    },
    {
      "cell_type": "markdown",
      "metadata": {
        "id": "FdcKIXvMfTTZ"
      },
      "source": [
        "\n",
        "Finally, let's redefine the `MnistModel` class to include additional methods `training_step`, `validation_step`, `validation_epoch_end`, and `epoch_end` used by `fit` and `evaluate`."
      ]
    },
    {
      "cell_type": "code",
      "execution_count": null,
      "metadata": {
        "id": "SbJN7ICGfTTZ"
      },
      "outputs": [],
      "source": [
        "class MnistModel(nn.Module):\n",
        "    def __init__(self):\n",
        "        super().__init__()\n",
        "        self.linear = nn.Linear(input_size, num_classes)\n",
        "\n",
        "    def forward(self, xb):\n",
        "        xb = xb.reshape(-1, 784)\n",
        "        out = self.linear(xb)\n",
        "        return out\n",
        "\n",
        "    def training_step(self, batch):\n",
        "        images, labels = batch\n",
        "        out = self(images)                  # Generate predictions\n",
        "        loss = F.cross_entropy(out, labels) # Calculate loss\n",
        "        return loss\n",
        "\n",
        "    def validation_step(self, batch):\n",
        "        images, labels = batch\n",
        "        out = self(images)                    # Generate predictions\n",
        "        loss = F.cross_entropy(out, labels)   # Calculate loss\n",
        "        acc = accuracy(out, labels)           # Calculate accuracy\n",
        "        return {'val_loss': loss, 'val_acc': acc}\n",
        "\n",
        "    def validation_epoch_end(self, outputs):\n",
        "        batch_losses = [x['val_loss'] for x in outputs]\n",
        "        epoch_loss = torch.stack(batch_losses).mean()   # Combine losses\n",
        "        batch_accs = [x['val_acc'] for x in outputs]\n",
        "        epoch_acc = torch.stack(batch_accs).mean()      # Combine accuracies\n",
        "        return {'val_loss': epoch_loss.item(), 'val_acc': epoch_acc.item()}\n",
        "\n",
        "    #method overriding\n",
        "    def epoch_end(self, epoch, result):\n",
        "        print(\"Epoch [{}], val_loss: {:.4f}, val_acc: {:.4f}\".format(epoch, result['val_loss'], result['val_acc']))\n",
        "\n",
        "model = MnistModel()"
      ]
    },
    {
      "cell_type": "markdown",
      "metadata": {},
      "source": [
        "## Note\n",
        "\n",
        "#### How outputs = model(images) / out = self(images) work \n",
        "#### How forward()  method triggers\n",
        "\n",
        "**The `__call__` Method:**\n",
        "\n",
        "- In Python, `__call__` is a special method that allows objects to be treated like functions.This means when you use an object with paranthases `ie -: \n",
        "object(arguments) the __call__  method automatically trigger`\n",
        "\n",
        "\n",
        "\n",
        "\n",
        "**Behind the Scenes:**\n",
        "\n",
        "1. **Implicit `__call__` Trigger:** When you write `model(images)`, Python automatically calls the `__call__` method behind the scenes.\n",
        "2. **`__call__` Behavior in PyTorch:** In PyTorch's `nn.Module` class (the base class for neural networks), the `__call__` method typically doesn't perform extensive logic itself. Its primary role is often to forward the call to another method designed for the core model functionality, usually the `forward` method.\n",
        "3. **`forward` Method Activation:** This forwarded method, the `forward` method, is responsible for the actual computation within the model. So, calling `model(inputs)` ultimately triggers the execution of the `forward` method within the `MnistModel` class.\n",
        "\n",
        "**Simplified Analogy:**\n",
        "\n",
        "\n",
        "Imagine that the `model` object is a complex machine. The `__call__` method acts like a hidden button that activates the machine. However, the button itself doesn't perform the calculations. It simply initiates the machine's main processing unit (the `forward` method), which takes care of the core work using the provided input data (`inputs`)."
      ]
    },
    {
      "cell_type": "markdown",
      "metadata": {},
      "source": [
        "## Below code is a example for usage of __call__"
      ]
    },
    {
      "cell_type": "code",
      "execution_count": null,
      "metadata": {},
      "outputs": [],
      "source": [
        "def fit(epochs, lr, model, train_loader, val_loader, opt_func=torch.optim.SGD):\n",
        "    optimizer = opt_func(model.parameters(), lr)\n",
        "    history = [] # for recording epoch-wise results\n",
        "\n",
        "    for epoch in range(epochs):\n",
        "\n",
        "        # Training Phase\n",
        "        for batch in train_loader:\n",
        "            loss = model.training_step(batch)\n",
        "            loss.backward()\n",
        "            optimizer.step()\n",
        "            optimizer.zero_grad()\n",
        "\n",
        "        # Validation phase\n",
        "        result = evaluate(model, val_loader)\n",
        "        model.epoch_end(epoch, result)\n",
        "        history.append(result)\n",
        "\n",
        "    return history"
      ]
    },
    {
      "cell_type": "markdown",
      "metadata": {
        "id": "Y-omw1RBfTTZ"
      },
      "source": [
        "Before we train the model, let's see how the model performs on the validation set with the initial set of randomly initialized weights & biases.\n",
        "\n"
      ]
    },
    {
      "cell_type": "code",
      "execution_count": null,
      "metadata": {
        "colab": {
          "base_uri": "https://localhost:8080/"
        },
        "id": "tNUBy9qTfTTZ",
        "outputId": "27ef2bea-fcb4-41ad-fc32-b4c4e128fa86"
      },
      "outputs": [
        {
          "data": {
            "text/plain": [
              "{'val_loss': 2.321408748626709, 'val_acc': 0.1080894023180008}"
            ]
          },
          "execution_count": 117,
          "metadata": {},
          "output_type": "execute_result"
        }
      ],
      "source": [
        "result0 = evaluate(model, val_loader)\n",
        "result0"
      ]
    },
    {
      "cell_type": "markdown",
      "metadata": {
        "id": "KapQW0CDfTTZ"
      },
      "source": [
        "The initial accuracy is around 10%, which one might expect from a randomly initialized model (since it has a 1 in 10 chance of getting a label right by guessing randomly).\n",
        "\n",
        "We are now ready to train the model. Let's train for five epochs and look at the results."
      ]
    },
    {
      "cell_type": "code",
      "execution_count": null,
      "metadata": {
        "colab": {
          "base_uri": "https://localhost:8080/"
        },
        "id": "MQRahsa6fTTZ",
        "outputId": "98d7257a-8fdc-4ca2-922b-8c30d8ae479c"
      },
      "outputs": [
        {
          "name": "stdout",
          "output_type": "stream",
          "text": [
            "Epoch [0], val_loss: 1.9571, val_acc: 0.5906\n",
            "Epoch [1], val_loss: 1.6898, val_acc: 0.7130\n",
            "Epoch [2], val_loss: 1.4895, val_acc: 0.7585\n",
            "Epoch [3], val_loss: 1.3378, val_acc: 0.7777\n",
            "Epoch [4], val_loss: 1.2210, val_acc: 0.7946\n"
          ]
        }
      ],
      "source": [
        "history1 = fit(5, 0.001, model, train_loader, val_loader)"
      ]
    },
    {
      "cell_type": "code",
      "execution_count": null,
      "metadata": {
        "colab": {
          "base_uri": "https://localhost:8080/"
        },
        "id": "2mxbVMe_q7br",
        "outputId": "5460252a-46f5-4e28-f44d-4e329473bce1"
      },
      "outputs": [
        {
          "name": "stdout",
          "output_type": "stream",
          "text": [
            "5\n"
          ]
        }
      ],
      "source": [
        "print(len(history1))"
      ]
    },
    {
      "cell_type": "markdown",
      "metadata": {
        "id": "5mcIbHuKfTTa"
      },
      "source": [
        "That's a great result! With just 5 epochs of training, our model has reached an accuracy of over 80% on the validation set. Let's see if we can improve that by training for a few more epochs. Try changing the learning rates and number of epochs in each of the cells below."
      ]
    },
    {
      "cell_type": "code",
      "execution_count": null,
      "metadata": {
        "colab": {
          "base_uri": "https://localhost:8080/"
        },
        "id": "cJvMd9CufTTa",
        "outputId": "a7829cc7-69b4-40b5-e76a-a82d449a9f7b"
      },
      "outputs": [
        {
          "name": "stdout",
          "output_type": "stream",
          "text": [
            "Epoch [0], val_loss: 1.1291, val_acc: 0.8069\n",
            "Epoch [1], val_loss: 1.0553, val_acc: 0.8154\n",
            "Epoch [2], val_loss: 0.9949, val_acc: 0.8218\n",
            "Epoch [3], val_loss: 0.9446, val_acc: 0.8271\n",
            "Epoch [4], val_loss: 0.9021, val_acc: 0.8315\n"
          ]
        }
      ],
      "source": [
        "history2 = fit(5, 0.001, model, train_loader, val_loader)"
      ]
    },
    {
      "cell_type": "code",
      "execution_count": null,
      "metadata": {
        "colab": {
          "base_uri": "https://localhost:8080/"
        },
        "id": "hON9V8GBfTTa",
        "outputId": "38d34ff3-dd66-4ad1-d81c-f4cd29e41172"
      },
      "outputs": [
        {
          "name": "stdout",
          "output_type": "stream",
          "text": [
            "Epoch [0], val_loss: 0.8657, val_acc: 0.8357\n",
            "Epoch [1], val_loss: 0.8342, val_acc: 0.8376\n",
            "Epoch [2], val_loss: 0.8065, val_acc: 0.8400\n",
            "Epoch [3], val_loss: 0.7822, val_acc: 0.8436\n",
            "Epoch [4], val_loss: 0.7605, val_acc: 0.8443\n"
          ]
        }
      ],
      "source": [
        "history3 = fit(5, 0.001, model, train_loader, val_loader)"
      ]
    },
    {
      "cell_type": "code",
      "execution_count": null,
      "metadata": {
        "colab": {
          "base_uri": "https://localhost:8080/"
        },
        "id": "V5ALmwZjfTTa",
        "outputId": "4b331423-f2c3-46ea-af57-fc26a24cf9a7"
      },
      "outputs": [
        {
          "name": "stdout",
          "output_type": "stream",
          "text": [
            "Epoch [0], val_loss: 0.7410, val_acc: 0.8465\n",
            "Epoch [1], val_loss: 0.7234, val_acc: 0.8482\n",
            "Epoch [2], val_loss: 0.7075, val_acc: 0.8500\n",
            "Epoch [3], val_loss: 0.6929, val_acc: 0.8510\n",
            "Epoch [4], val_loss: 0.6796, val_acc: 0.8533\n"
          ]
        }
      ],
      "source": [
        "history4 = fit(5, 0.001, model, train_loader, val_loader)"
      ]
    },
    {
      "cell_type": "markdown",
      "metadata": {
        "id": "sCm1903IfTTa"
      },
      "source": [
        "While the accuracy does continue to increase as we train for more epochs, the improvements get smaller with every epoch. Let's visualize this using a line graph."
      ]
    },
    {
      "cell_type": "code",
      "execution_count": null,
      "metadata": {
        "colab": {
          "base_uri": "https://localhost:8080/",
          "height": 489
        },
        "id": "swNRQSa0fTTa",
        "outputId": "e4ca3e59-809e-41ba-a964-6a6044b292dd"
      },
      "outputs": [
        {
          "name": "stdout",
          "output_type": "stream",
          "text": [
            "20\n"
          ]
        },
        {
          "data": {
            "image/png": "[encoded data removed]",
            "text/plain": [
              "<Figure size 640x480 with 1 Axes>"
            ]
          },
          "metadata": {},
          "output_type": "display_data"
        }
      ],
      "source": [
        "history = history1 + history2 + history3 + history4\n",
        "print(len(history))\n",
        "accuracies = [result['val_acc'] for result in history]\n",
        "plt.plot(accuracies, '-x')\n",
        "plt.xlabel('epoch')\n",
        "plt.ylabel('accuracy')\n",
        "plt.title('Accuracy vs. No. of epochs');"
      ]
    },
    {
      "cell_type": "markdown",
      "metadata": {
        "id": "G-a7zRGxfTTa"
      },
      "source": [
        "It's quite clear from the above picture that the model probably won't cross the accuracy threshold of 90% even after training for a very long time. One possible reason for this is that the learning rate might be too high. The model's parameters may be \"bouncing\" around the optimal set of parameters for the lowest loss. You can try reducing the learning rate and training for a few more epochs to see if it helps.\n",
        "\n",
        "The more likely reason that **the model just isn't powerful enough**. If you remember our initial hypothesis, we have assumed that the output (in this case the class probabilities) is a **linear function** of the input (pixel intensities), obtained by perfoming a matrix multiplication with the weights matrix and adding the bias. This is a fairly weak assumption, as there may not actually exist a linear relationship between the pixel intensities in an image and the digit it represents. While it works reasonably well for a simple dataset like MNIST (getting us to 85% accuracy), we need more sophisticated models that can capture non-linear relationships between image pixels and labels for complex tasks like recognizing everyday objects, animals etc.\n",
        "\n",
        "Let's save our work using `jovian.commit`. Along with the notebook, we can also record some metrics from our training."
      ]
    },
    {
      "cell_type": "code",
      "execution_count": null,
      "metadata": {
        "colab": {
          "base_uri": "https://localhost:8080/",
          "height": 321
        },
        "id": "4ec-7b_jfTTa",
        "outputId": "31e4b111-ddfb-4abf-9f1b-50a60cf3984a"
      },
      "outputs": [
        {
          "name": "stdout",
          "output_type": "stream",
          "text": [
            "[jovian] Please enter your API key ( from https://jovian.com/ ):\u001b[0m\n",
            "API KEY:\n"
          ]
        },
        {
          "ename": "Abort",
          "evalue": "",
          "output_type": "error",
          "traceback": [
            "\u001b[0;31m---------------------------------------------------------------------------\u001b[0m",
            "\u001b[0;31mAbort\u001b[0m                                     Traceback (most recent call last)",
            "\u001b[0;32m<ipython-input-123-5a05df2b2c34>\u001b[0m in \u001b[0;36m<cell line: 1>\u001b[0;34m()\u001b[0m\n\u001b[0;32m----> 1\u001b[0;31m \u001b[0mjovian\u001b[0m\u001b[0;34m.\u001b[0m\u001b[0mlog_metrics\u001b[0m\u001b[0;34m(\u001b[0m\u001b[0mval_acc\u001b[0m\u001b[0;34m=\u001b[0m\u001b[0mhistory\u001b[0m\u001b[0;34m[\u001b[0m\u001b[0;34m-\u001b[0m\u001b[0;36m1\u001b[0m\u001b[0;34m]\u001b[0m\u001b[0;34m[\u001b[0m\u001b[0;34m'val_acc'\u001b[0m\u001b[0;34m]\u001b[0m\u001b[0;34m,\u001b[0m \u001b[0mval_loss\u001b[0m\u001b[0;34m=\u001b[0m\u001b[0mhistory\u001b[0m\u001b[0;34m[\u001b[0m\u001b[0;34m-\u001b[0m\u001b[0;36m1\u001b[0m\u001b[0;34m]\u001b[0m\u001b[0;34m[\u001b[0m\u001b[0;34m'val_loss'\u001b[0m\u001b[0;34m]\u001b[0m\u001b[0;34m)\u001b[0m\u001b[0;34m\u001b[0m\u001b[0;34m\u001b[0m\u001b[0m\n\u001b[0m",
            "\u001b[0;32m/usr/local/lib/python3.10/dist-packages/jovian/utils/records.py\u001b[0m in \u001b[0;36mlog_metrics\u001b[0;34m(data_dict, verbose, **data_args)\u001b[0m\n\u001b[1;32m    108\u001b[0m             \u001b[0mjovian\u001b[0m\u001b[0;34m.\u001b[0m\u001b[0mlog_metrics\u001b[0m\u001b[0;34m(\u001b[0m\u001b[0;34m{\u001b[0m \u001b[0;34m'epochs'\u001b[0m\u001b[0;34m:\u001b[0m \u001b[0;36m1\u001b[0m\u001b[0;34m,\u001b[0m \u001b[0;34m'train_loss'\u001b[0m\u001b[0;34m:\u001b[0m \u001b[0;36m0.5\u001b[0m \u001b[0;34m}\u001b[0m\u001b[0;34m)\u001b[0m\u001b[0;34m\u001b[0m\u001b[0;34m\u001b[0m\u001b[0m\n\u001b[1;32m    109\u001b[0m     \"\"\"\n\u001b[0;32m--> 110\u001b[0;31m     \u001b[0mlog_record\u001b[0m\u001b[0;34m(\u001b[0m\u001b[0;34m'metrics'\u001b[0m\u001b[0;34m,\u001b[0m \u001b[0mdata_dict\u001b[0m\u001b[0;34m,\u001b[0m \u001b[0mverbose\u001b[0m\u001b[0;34m,\u001b[0m \u001b[0;34m**\u001b[0m\u001b[0mdata_args\u001b[0m\u001b[0;34m)\u001b[0m\u001b[0;34m\u001b[0m\u001b[0;34m\u001b[0m\u001b[0m\n\u001b[0m\u001b[1;32m    111\u001b[0m \u001b[0;34m\u001b[0m\u001b[0m\n\u001b[1;32m    112\u001b[0m \u001b[0;34m\u001b[0m\u001b[0m\n",
            "\u001b[0;32m/usr/local/lib/python3.10/dist-packages/jovian/utils/records.py\u001b[0m in \u001b[0;36mlog_record\u001b[0;34m(record_type, data, verbose, **data_args)\u001b[0m\n\u001b[1;32m     56\u001b[0m         \u001b[0;32mreturn\u001b[0m\u001b[0;34m\u001b[0m\u001b[0;34m\u001b[0m\u001b[0m\n\u001b[1;32m     57\u001b[0m     \u001b[0;31m# Send to API endpoint\u001b[0m\u001b[0;34m\u001b[0m\u001b[0;34m\u001b[0m\u001b[0m\n\u001b[0;32m---> 58\u001b[0;31m     \u001b[0mres\u001b[0m \u001b[0;34m=\u001b[0m \u001b[0mapi\u001b[0m\u001b[0;34m.\u001b[0m\u001b[0mpost_block\u001b[0m\u001b[0;34m(\u001b[0m\u001b[0mdata\u001b[0m\u001b[0;34m,\u001b[0m \u001b[0mrecord_type\u001b[0m\u001b[0;34m)\u001b[0m\u001b[0;34m\u001b[0m\u001b[0;34m\u001b[0m\u001b[0m\n\u001b[0m\u001b[1;32m     59\u001b[0m     \u001b[0mtracking_slug\u001b[0m \u001b[0;34m=\u001b[0m \u001b[0mres\u001b[0m\u001b[0;34m[\u001b[0m\u001b[0;34m'tracking'\u001b[0m\u001b[0;34m]\u001b[0m\u001b[0;34m[\u001b[0m\u001b[0;34m'trackingSlug'\u001b[0m\u001b[0;34m]\u001b[0m\u001b[0;34m\u001b[0m\u001b[0;34m\u001b[0m\u001b[0m\n\u001b[1;32m     60\u001b[0m     \u001b[0;31m# Save to data block\u001b[0m\u001b[0;34m\u001b[0m\u001b[0;34m\u001b[0m\u001b[0m\n",
            "\u001b[0;32m/usr/local/lib/python3.10/dist-packages/jovian/utils/api.py\u001b[0m in \u001b[0;36mpost_block\u001b[0;34m(data, data_type, version)\u001b[0m\n\u001b[1;32m    115\u001b[0m                \u001b[0;34m\"data\"\u001b[0m\u001b[0;34m:\u001b[0m \u001b[0mdata\u001b[0m\u001b[0;34m,\u001b[0m\u001b[0;34m\u001b[0m\u001b[0;34m\u001b[0m\u001b[0m\n\u001b[1;32m    116\u001b[0m                \"recordType\": data_type}]\n\u001b[0;32m--> 117\u001b[0;31m     \u001b[0;32mreturn\u001b[0m \u001b[0mpost_blocks\u001b[0m\u001b[0;34m(\u001b[0m\u001b[0mblocks\u001b[0m\u001b[0;34m,\u001b[0m \u001b[0mversion\u001b[0m\u001b[0;34m)\u001b[0m\u001b[0;34m\u001b[0m\u001b[0;34m\u001b[0m\u001b[0m\n\u001b[0m\u001b[1;32m    118\u001b[0m \u001b[0;34m\u001b[0m\u001b[0m\n\u001b[1;32m    119\u001b[0m \u001b[0;34m\u001b[0m\u001b[0m\n",
            "\u001b[0;32m/usr/local/lib/python3.10/dist-packages/jovian/utils/api.py\u001b[0m in \u001b[0;36mpost_blocks\u001b[0;34m(blocks, version)\u001b[0m\n\u001b[1;32m    103\u001b[0m \u001b[0;32mdef\u001b[0m \u001b[0mpost_blocks\u001b[0m\u001b[0;34m(\u001b[0m\u001b[0mblocks\u001b[0m\u001b[0;34m,\u001b[0m \u001b[0mversion\u001b[0m\u001b[0;34m=\u001b[0m\u001b[0;32mNone\u001b[0m\u001b[0;34m)\u001b[0m\u001b[0;34m:\u001b[0m\u001b[0;34m\u001b[0m\u001b[0;34m\u001b[0m\u001b[0m\n\u001b[1;32m    104\u001b[0m     \u001b[0murl\u001b[0m \u001b[0;34m=\u001b[0m \u001b[0m_u\u001b[0m\u001b[0;34m(\u001b[0m\u001b[0;34m'/data/record'\u001b[0m \u001b[0;34m+\u001b[0m \u001b[0m_v\u001b[0m\u001b[0;34m(\u001b[0m\u001b[0mversion\u001b[0m\u001b[0;34m)\u001b[0m\u001b[0;34m)\u001b[0m\u001b[0;34m\u001b[0m\u001b[0;34m\u001b[0m\u001b[0m\n\u001b[0;32m--> 105\u001b[0;31m     \u001b[0mres\u001b[0m \u001b[0;34m=\u001b[0m \u001b[0mpost\u001b[0m\u001b[0;34m(\u001b[0m\u001b[0murl\u001b[0m\u001b[0;34m,\u001b[0m \u001b[0mjson\u001b[0m\u001b[0;34m=\u001b[0m\u001b[0mblocks\u001b[0m\u001b[0;34m,\u001b[0m \u001b[0mheaders\u001b[0m\u001b[0;34m=\u001b[0m\u001b[0m_h\u001b[0m\u001b[0;34m(\u001b[0m\u001b[0;34m)\u001b[0m\u001b[0;34m)\u001b[0m\u001b[0;34m\u001b[0m\u001b[0;34m\u001b[0m\u001b[0m\n\u001b[0m\u001b[1;32m    106\u001b[0m     \u001b[0;32mif\u001b[0m \u001b[0mres\u001b[0m\u001b[0;34m.\u001b[0m\u001b[0mstatus_code\u001b[0m \u001b[0;34m==\u001b[0m \u001b[0;36m200\u001b[0m\u001b[0;34m:\u001b[0m\u001b[0;34m\u001b[0m\u001b[0;34m\u001b[0m\u001b[0m\n\u001b[1;32m    107\u001b[0m         \u001b[0;32mreturn\u001b[0m \u001b[0mres\u001b[0m\u001b[0;34m.\u001b[0m\u001b[0mjson\u001b[0m\u001b[0;34m(\u001b[0m\u001b[0;34m)\u001b[0m\u001b[0;34m[\u001b[0m\u001b[0;34m'data'\u001b[0m\u001b[0;34m]\u001b[0m\u001b[0;34m\u001b[0m\u001b[0;34m\u001b[0m\u001b[0m\n",
            "\u001b[0;32m/usr/local/lib/python3.10/dist-packages/jovian/utils/api.py\u001b[0m in \u001b[0;36m_h\u001b[0;34m()\u001b[0m\n\u001b[1;32m     10\u001b[0m \u001b[0;32mdef\u001b[0m \u001b[0m_h\u001b[0m\u001b[0;34m(\u001b[0m\u001b[0;34m)\u001b[0m\u001b[0;34m:\u001b[0m\u001b[0;34m\u001b[0m\u001b[0;34m\u001b[0m\u001b[0m\n\u001b[1;32m     11\u001b[0m     \u001b[0;34m\"\"\"Create authorization header with API key\"\"\"\u001b[0m\u001b[0;34m\u001b[0m\u001b[0;34m\u001b[0m\u001b[0m\n\u001b[0;32m---> 12\u001b[0;31m     return {\"Authorization\": \"Bearer \" + get_api_key(),\n\u001b[0m\u001b[1;32m     13\u001b[0m             \u001b[0;34m\"x-jovian-source\"\u001b[0m\u001b[0;34m:\u001b[0m \u001b[0;34m\"library\"\u001b[0m\u001b[0;34m,\u001b[0m\u001b[0;34m\u001b[0m\u001b[0;34m\u001b[0m\u001b[0m\n\u001b[1;32m     14\u001b[0m             \u001b[0;34m\"x-jovian-library-version\"\u001b[0m\u001b[0;34m:\u001b[0m \u001b[0m__version__\u001b[0m\u001b[0;34m,\u001b[0m\u001b[0;34m\u001b[0m\u001b[0;34m\u001b[0m\u001b[0m\n",
            "\u001b[0;32m/usr/local/lib/python3.10/dist-packages/jovian/utils/credentials.py\u001b[0m in \u001b[0;36mget_api_key\u001b[0;34m()\u001b[0m\n\u001b[1;32m    263\u001b[0m     \u001b[0mcreds\u001b[0m \u001b[0;34m=\u001b[0m \u001b[0mread_creds\u001b[0m\u001b[0;34m(\u001b[0m\u001b[0;34m)\u001b[0m\u001b[0;34m\u001b[0m\u001b[0;34m\u001b[0m\u001b[0m\n\u001b[1;32m    264\u001b[0m     \u001b[0;32mif\u001b[0m \u001b[0mAPI_TOKEN_KEY\u001b[0m \u001b[0;32mnot\u001b[0m \u001b[0;32min\u001b[0m \u001b[0mcreds\u001b[0m\u001b[0;34m:\u001b[0m\u001b[0;34m\u001b[0m\u001b[0;34m\u001b[0m\u001b[0m\n\u001b[0;32m--> 265\u001b[0;31m         \u001b[0mkey\u001b[0m\u001b[0;34m,\u001b[0m \u001b[0m_\u001b[0m \u001b[0;34m=\u001b[0m \u001b[0mread_or_request_api_key\u001b[0m\u001b[0;34m(\u001b[0m\u001b[0;34m)\u001b[0m\u001b[0;34m\u001b[0m\u001b[0;34m\u001b[0m\u001b[0m\n\u001b[0m\u001b[1;32m    266\u001b[0m         \u001b[0;32mif\u001b[0m \u001b[0;32mnot\u001b[0m \u001b[0mvalidate_api_key\u001b[0m\u001b[0;34m(\u001b[0m\u001b[0mkey\u001b[0m\u001b[0;34m)\u001b[0m\u001b[0;34m:\u001b[0m\u001b[0;34m\u001b[0m\u001b[0;34m\u001b[0m\u001b[0m\n\u001b[1;32m    267\u001b[0m             \u001b[0mlog\u001b[0m\u001b[0;34m(\u001b[0m\u001b[0;34m'The current API key is invalid or expired.'\u001b[0m\u001b[0;34m,\u001b[0m \u001b[0merror\u001b[0m\u001b[0;34m=\u001b[0m\u001b[0;32mTrue\u001b[0m\u001b[0;34m)\u001b[0m\u001b[0;34m\u001b[0m\u001b[0;34m\u001b[0m\u001b[0m\n",
            "\u001b[0;32m/usr/local/lib/python3.10/dist-packages/jovian/utils/credentials.py\u001b[0m in \u001b[0;36mread_or_request_api_key\u001b[0;34m()\u001b[0m\n\u001b[1;32m    302\u001b[0m         \u001b[0;32mreturn\u001b[0m \u001b[0mapi_key\u001b[0m\u001b[0;34m,\u001b[0m \u001b[0msource\u001b[0m\u001b[0;34m\u001b[0m\u001b[0;34m\u001b[0m\u001b[0m\n\u001b[1;32m    303\u001b[0m     \u001b[0;32melse\u001b[0m\u001b[0;34m:\u001b[0m\u001b[0;34m\u001b[0m\u001b[0;34m\u001b[0m\u001b[0m\n\u001b[0;32m--> 304\u001b[0;31m         \u001b[0;32mreturn\u001b[0m \u001b[0mrequest_api_key\u001b[0m\u001b[0;34m(\u001b[0m\u001b[0;34m)\u001b[0m\u001b[0;34m,\u001b[0m \u001b[0;34m'request'\u001b[0m\u001b[0;34m\u001b[0m\u001b[0;34m\u001b[0m\u001b[0m\n\u001b[0m\u001b[1;32m    305\u001b[0m \u001b[0;34m\u001b[0m\u001b[0m\n\u001b[1;32m    306\u001b[0m \u001b[0;34m\u001b[0m\u001b[0m\n",
            "\u001b[0;32m/usr/local/lib/python3.10/dist-packages/jovian/utils/credentials.py\u001b[0m in \u001b[0;36mrequest_api_key\u001b[0;34m()\u001b[0m\n\u001b[1;32m    285\u001b[0m     \u001b[0mhide_api_key\u001b[0m \u001b[0;34m=\u001b[0m \u001b[0min_notebook\u001b[0m\u001b[0;34m(\u001b[0m\u001b[0;34m)\u001b[0m \u001b[0;32mor\u001b[0m \u001b[0mget_platform\u001b[0m\u001b[0;34m(\u001b[0m\u001b[0;34m)\u001b[0m \u001b[0;34m!=\u001b[0m \u001b[0;34m'windows'\u001b[0m\u001b[0;34m\u001b[0m\u001b[0;34m\u001b[0m\u001b[0m\n\u001b[1;32m    286\u001b[0m     \u001b[0mlog\u001b[0m\u001b[0;34m(\u001b[0m\u001b[0;34m\"Please enter your API key ( from \"\u001b[0m \u001b[0;34m+\u001b[0m \u001b[0mread_webapp_url\u001b[0m\u001b[0;34m(\u001b[0m\u001b[0;34m)\u001b[0m \u001b[0;34m+\u001b[0m \u001b[0;34m\" ):\"\u001b[0m\u001b[0;34m)\u001b[0m\u001b[0;34m\u001b[0m\u001b[0;34m\u001b[0m\u001b[0m\n\u001b[0;32m--> 287\u001b[0;31m     \u001b[0mapi_key\u001b[0m \u001b[0;34m=\u001b[0m \u001b[0mclick\u001b[0m\u001b[0;34m.\u001b[0m\u001b[0mprompt\u001b[0m\u001b[0;34m(\u001b[0m\u001b[0;34m\"API KEY\"\u001b[0m\u001b[0;34m,\u001b[0m \u001b[0mhide_input\u001b[0m\u001b[0;34m=\u001b[0m\u001b[0mhide_api_key\u001b[0m\u001b[0;34m)\u001b[0m\u001b[0;34m\u001b[0m\u001b[0;34m\u001b[0m\u001b[0m\n\u001b[0m\u001b[1;32m    288\u001b[0m     \u001b[0;32mreturn\u001b[0m \u001b[0mapi_key\u001b[0m\u001b[0;34m\u001b[0m\u001b[0;34m\u001b[0m\u001b[0m\n\u001b[1;32m    289\u001b[0m \u001b[0;34m\u001b[0m\u001b[0m\n",
            "\u001b[0;32m/usr/local/lib/python3.10/dist-packages/click/termui.py\u001b[0m in \u001b[0;36mprompt\u001b[0;34m(text, default, hide_input, confirmation_prompt, type, value_proc, prompt_suffix, show_default, err, show_choices)\u001b[0m\n\u001b[1;32m    162\u001b[0m     \u001b[0;32mwhile\u001b[0m \u001b[0;32mTrue\u001b[0m\u001b[0;34m:\u001b[0m\u001b[0;34m\u001b[0m\u001b[0;34m\u001b[0m\u001b[0m\n\u001b[1;32m    163\u001b[0m         \u001b[0;32mwhile\u001b[0m \u001b[0;32mTrue\u001b[0m\u001b[0;34m:\u001b[0m\u001b[0;34m\u001b[0m\u001b[0;34m\u001b[0m\u001b[0m\n\u001b[0;32m--> 164\u001b[0;31m             \u001b[0mvalue\u001b[0m \u001b[0;34m=\u001b[0m \u001b[0mprompt_func\u001b[0m\u001b[0;34m(\u001b[0m\u001b[0mprompt\u001b[0m\u001b[0;34m)\u001b[0m\u001b[0;34m\u001b[0m\u001b[0;34m\u001b[0m\u001b[0m\n\u001b[0m\u001b[1;32m    165\u001b[0m             \u001b[0;32mif\u001b[0m \u001b[0mvalue\u001b[0m\u001b[0;34m:\u001b[0m\u001b[0;34m\u001b[0m\u001b[0;34m\u001b[0m\u001b[0m\n\u001b[1;32m    166\u001b[0m                 \u001b[0;32mbreak\u001b[0m\u001b[0;34m\u001b[0m\u001b[0;34m\u001b[0m\u001b[0m\n",
            "\u001b[0;32m/usr/local/lib/python3.10/dist-packages/click/termui.py\u001b[0m in \u001b[0;36mprompt_func\u001b[0;34m(text)\u001b[0m\n\u001b[1;32m    145\u001b[0m             \u001b[0;32mif\u001b[0m \u001b[0mhide_input\u001b[0m\u001b[0;34m:\u001b[0m\u001b[0;34m\u001b[0m\u001b[0;34m\u001b[0m\u001b[0m\n\u001b[1;32m    146\u001b[0m                 \u001b[0mecho\u001b[0m\u001b[0;34m(\u001b[0m\u001b[0;32mNone\u001b[0m\u001b[0;34m,\u001b[0m \u001b[0merr\u001b[0m\u001b[0;34m=\u001b[0m\u001b[0merr\u001b[0m\u001b[0;34m)\u001b[0m\u001b[0;34m\u001b[0m\u001b[0;34m\u001b[0m\u001b[0m\n\u001b[0;32m--> 147\u001b[0;31m             \u001b[0;32mraise\u001b[0m \u001b[0mAbort\u001b[0m\u001b[0;34m(\u001b[0m\u001b[0;34m)\u001b[0m \u001b[0;32mfrom\u001b[0m \u001b[0;32mNone\u001b[0m\u001b[0;34m\u001b[0m\u001b[0;34m\u001b[0m\u001b[0m\n\u001b[0m\u001b[1;32m    148\u001b[0m \u001b[0;34m\u001b[0m\u001b[0m\n\u001b[1;32m    149\u001b[0m     \u001b[0;32mif\u001b[0m \u001b[0mvalue_proc\u001b[0m \u001b[0;32mis\u001b[0m \u001b[0;32mNone\u001b[0m\u001b[0;34m:\u001b[0m\u001b[0;34m\u001b[0m\u001b[0;34m\u001b[0m\u001b[0m\n",
            "\u001b[0;31mAbort\u001b[0m: "
          ]
        }
      ],
      "source": [
        "jovian.log_metrics(val_acc=history[-1]['val_acc'], val_loss=history[-1]['val_loss'])"
      ]
    },
    {
      "cell_type": "code",
      "execution_count": null,
      "metadata": {
        "id": "y0qr0ZNAfTTa"
      },
      "outputs": [],
      "source": [
        "jovian.commit(project='03-logistic-regression', environment=None)"
      ]
    },
    {
      "cell_type": "markdown",
      "metadata": {
        "id": "HXgOorOIfTTa"
      },
      "source": [
        "## Testing with individual images"
      ]
    },
    {
      "cell_type": "markdown",
      "metadata": {
        "id": "_qUQKIJefTTa"
      },
      "source": [
        "While we have been tracking the overall accuracy of a model so far, it's also a good idea to look at model's results on some sample images. Let's test out our model with some images from the predefined test dataset of 10000 images. We begin by recreating the test dataset with the `ToTensor` transform."
      ]
    },
    {
      "cell_type": "code",
      "execution_count": null,
      "metadata": {
        "id": "KqcHUQK3fTTa"
      },
      "outputs": [],
      "source": [
        "# Define test dataset\n",
        "test_dataset = MNIST(root='data/',\n",
        "                     train=False,\n",
        "                     transform=transforms.ToTensor())"
      ]
    },
    {
      "cell_type": "markdown",
      "metadata": {
        "id": "Sw9J_viefTTa"
      },
      "source": [
        "Here's a sample image from the dataset."
      ]
    },
    {
      "cell_type": "code",
      "execution_count": null,
      "metadata": {
        "colab": {
          "base_uri": "https://localhost:8080/",
          "height": 465
        },
        "id": "yzEdFHq6fTTa",
        "outputId": "1ee2c24d-2f0f-4546-fa0e-5e7f9a888a11"
      },
      "outputs": [
        {
          "name": "stdout",
          "output_type": "stream",
          "text": [
            "Shape: torch.Size([1, 28, 28])\n",
            "Label: 7\n"
          ]
        },
        {
          "data": {
            "image/png": "[encoded data removed]",
            "text/plain": [
              "<Figure size 640x480 with 1 Axes>"
            ]
          },
          "metadata": {},
          "output_type": "display_data"
        }
      ],
      "source": [
        "img, label = test_dataset[0]\n",
        "plt.imshow(img[0], cmap='gray')\n",
        "print('Shape:', img.shape)\n",
        "print('Label:', label)"
      ]
    },
    {
      "cell_type": "markdown",
      "metadata": {
        "id": "QgwbsDUjfTTa"
      },
      "source": [
        "Let's define a helper function `predict_image`, which returns the predicted label for a single image tensor.\n",
        "\n",
        "torch.max() returns both the maximum values and their corresponding indices along a specified dimension of a tensor."
      ]
    },
    {
      "cell_type": "code",
      "execution_count": null,
      "metadata": {
        "id": "9FfeYQaOfTTa"
      },
      "outputs": [],
      "source": [
        "def predict_image(img, model):\n",
        "    xb = img.unsqueeze(0)\n",
        "    yb = model(xb)\n",
        "    _, preds = torch.max(yb, dim=1)\n",
        "    return preds[0].item()"
      ]
    },
    {
      "cell_type": "markdown",
      "metadata": {
        "id": "9ppgosBYfTTa"
      },
      "source": [
        "`img.unsqueeze` simply adds another dimension at the begining of the 1x28x28 tensor, making it a 1x1x28x28 tensor, which the model views as a batch containing a single image.\n",
        "\n",
        "Let's try it out with a few images."
      ]
    },
    {
      "cell_type": "code",
      "execution_count": null,
      "metadata": {
        "colab": {
          "base_uri": "https://localhost:8080/",
          "height": 465
        },
        "id": "sPNcp52ifTTa",
        "outputId": "ac41d15b-14f4-4fe0-e580-196d0dd767ad"
      },
      "outputs": [
        {
          "name": "stdout",
          "output_type": "stream",
          "text": [
            "tensor([7]) tensor([4.3494], grad_fn=<MaxBackward0>)\n",
            "Label: 7 , Predicted: 7\n"
          ]
        },
        {
          "data": {
            "image/png": "[encoded data removed]",
            "text/plain": [
              "<Figure size 640x480 with 1 Axes>"
            ]
          },
          "metadata": {},
          "output_type": "display_data"
        }
      ],
      "source": [
        "img, label = test_dataset[0]\n",
        "plt.imshow(img[0], cmap='gray')\n",
        "print('Label:', label, ', Predicted:', predict_image(img, model))"
      ]
    },
    {
      "cell_type": "code",
      "execution_count": null,
      "metadata": {
        "colab": {
          "base_uri": "https://localhost:8080/",
          "height": 482
        },
        "id": "Nrj-w1COfTTa",
        "outputId": "5ead886a-97d4-4b60-b54a-85a7188b5536"
      },
      "outputs": [
        {
          "name": "stdout",
          "output_type": "stream",
          "text": [
            "yb = tensor([[ 4.6964, -2.8506,  1.1928,  1.3732, -1.4515,  2.0789, -0.7741, -1.7952,\n",
            "          1.2089, -2.7601]], grad_fn=<AddmmBackward0>)\n",
            "Label: 0 , Predicted: 0\n"
          ]
        },
        {
          "data": {
            "image/png": "[encoded data removed]",
            "text/plain": [
              "<Figure size 640x480 with 1 Axes>"
            ]
          },
          "metadata": {},
          "output_type": "display_data"
        }
      ],
      "source": [
        "img, label = test_dataset[10]\n",
        "plt.imshow(img[0], cmap='gray')\n",
        "print('Label:', label, ', Predicted:', predict_image(img, model))"
      ]
    },
    {
      "cell_type": "code",
      "execution_count": null,
      "metadata": {
        "colab": {
          "base_uri": "https://localhost:8080/",
          "height": 499
        },
        "id": "EPrF7gB4fTTb",
        "outputId": "8864e6e4-b122-4d15-e796-054135a3abc8"
      },
      "outputs": [
        {
          "name": "stdout",
          "output_type": "stream",
          "text": [
            "yb = tensor([[-2.4366e+00, -1.7304e+00, -3.5756e-01,  1.4699e+00,  1.1920e+00,\n",
            "          4.0852e-01, -4.8048e-01,  3.8443e-01,  1.8532e-03,  1.5163e+00]],\n",
            "       grad_fn=<AddmmBackward0>)\n",
            "Label: 9 , Predicted: 9\n"
          ]
        },
        {
          "data": {
            "image/png": "[encoded data removed]",
            "text/plain": [
              "<Figure size 640x480 with 1 Axes>"
            ]
          },
          "metadata": {},
          "output_type": "display_data"
        }
      ],
      "source": [
        "img, label = test_dataset[193]\n",
        "plt.imshow(img[0], cmap='gray')\n",
        "print('Label:', label, ', Predicted:', predict_image(img, model))"
      ]
    },
    {
      "cell_type": "code",
      "execution_count": null,
      "metadata": {
        "colab": {
          "base_uri": "https://localhost:8080/",
          "height": 482
        },
        "id": "eetYJdoFfTTb",
        "outputId": "8eb25fae-2e59-4ece-fdfb-ebffc0539856"
      },
      "outputs": [
        {
          "name": "stdout",
          "output_type": "stream",
          "text": [
            "yb = tensor([[-1.1310,  1.5091,  1.5753,  1.9433, -1.3532,  0.0953, -2.2666, -1.3511,\n",
            "          2.7158, -1.2163]], grad_fn=<AddmmBackward0>)\n",
            "Label: 2 , Predicted: 8\n"
          ]
        },
        {
          "data": {
            "image/png": "[encoded data removed]",
            "text/plain": [
              "<Figure size 640x480 with 1 Axes>"
            ]
          },
          "metadata": {},
          "output_type": "display_data"
        }
      ],
      "source": [
        "img, label = test_dataset[1839]\n",
        "plt.imshow(img[0], cmap='gray')\n",
        "print('Label:', label, ', Predicted:', predict_image(img, model))"
      ]
    },
    {
      "cell_type": "markdown",
      "metadata": {
        "id": "jQ6Wsk4TfTTb"
      },
      "source": [
        "Identifying where our model performs poorly can help us improve the model, by collecting more training data, increasing/decreasing the complexity of the model, and changing the hypeparameters.\n",
        "\n",
        "As a final step, let's also look at the overall loss and accuracy of the model on the test set."
      ]
    },
    {
      "cell_type": "code",
      "execution_count": null,
      "metadata": {
        "colab": {
          "base_uri": "https://localhost:8080/"
        },
        "id": "6bdjaeG-fTTb",
        "outputId": "47ab52d3-0818-4e6f-a3de-8bd2661f0e1a"
      },
      "outputs": [
        {
          "data": {
            "text/plain": [
              "{'val_loss': 0.6421490907669067, 'val_acc': 0.861132800579071}"
            ]
          },
          "execution_count": 179,
          "metadata": {},
          "output_type": "execute_result"
        }
      ],
      "source": [
        "test_loader = DataLoader(test_dataset, batch_size=256)\n",
        "result = evaluate(model, test_loader)\n",
        "result"
      ]
    },
    {
      "cell_type": "code",
      "execution_count": null,
      "metadata": {
        "colab": {
          "base_uri": "https://localhost:8080/"
        },
        "id": "w2mwuuG0_Eev",
        "outputId": "04e65b34-368c-42ac-fe0b-aefb4fe50375"
      },
      "outputs": [
        {
          "name": "stdout",
          "output_type": "stream",
          "text": [
            "10000\n"
          ]
        }
      ],
      "source": [
        "print(len(test_dataset))"
      ]
    },
    {
      "cell_type": "markdown",
      "metadata": {
        "id": "pfe2IzF3fTTb"
      },
      "source": [
        "We expect this to be similar to the accuracy/loss on the validation set. If not, we might need a better validation set that has similar data and distribution as the test set (which often comes from real world data)."
      ]
    },
    {
      "cell_type": "markdown",
      "metadata": {
        "id": "TqC3HEZJfTTb"
      },
      "source": [
        "## Saving and loading the model"
      ]
    },
    {
      "cell_type": "markdown",
      "metadata": {
        "id": "KyE7vx_zfTTb"
      },
      "source": [
        "Since we've trained our model for a long time and achieved a resonable accuracy, it would be a good idea to save the weights and bias matrices to disk, so that we can reuse the model later and avoid retraining from scratch. Here's how you can save the model."
      ]
    },
    {
      "cell_type": "code",
      "execution_count": null,
      "metadata": {
        "id": "xESC-106fTTb"
      },
      "outputs": [],
      "source": [
        "torch.save(model.state_dict(), 'mnist-logistic.pth')"
      ]
    },
    {
      "cell_type": "markdown",
      "metadata": {
        "id": "CAHSyFLPfTTb"
      },
      "source": [
        "The `.state_dict` method returns an `OrderedDict` containing all the weights and bias matrices mapped to the right attributes of the model."
      ]
    },
    {
      "cell_type": "code",
      "execution_count": null,
      "metadata": {
        "colab": {
          "base_uri": "https://localhost:8080/"
        },
        "id": "elbp48SCfTTb",
        "outputId": "579292dd-3384-41ad-bc25-ad1988809333"
      },
      "outputs": [
        {
          "data": {
            "text/plain": [
              "OrderedDict([('linear.weight',\n",
              "              tensor([[-0.0131,  0.0206, -0.0201,  ...,  0.0104,  0.0067,  0.0158],\n",
              "                      [-0.0269,  0.0203,  0.0060,  ...,  0.0149, -0.0318, -0.0210],\n",
              "                      [ 0.0200,  0.0305,  0.0263,  ..., -0.0177,  0.0178, -0.0124],\n",
              "                      ...,\n",
              "                      [-0.0065, -0.0163,  0.0320,  ..., -0.0197,  0.0150,  0.0208],\n",
              "                      [ 0.0315,  0.0034,  0.0194,  ...,  0.0016, -0.0225,  0.0162],\n",
              "                      [-0.0250,  0.0120,  0.0261,  ..., -0.0332,  0.0244, -0.0286]])),\n",
              "             ('linear.bias',\n",
              "              tensor([-0.0509,  0.0761, -0.0339, -0.0073,  0.0087,  0.0489, -0.0104,  0.0396,\n",
              "                      -0.0864, -0.0102]))])"
            ]
          },
          "execution_count": 170,
          "metadata": {},
          "output_type": "execute_result"
        }
      ],
      "source": [
        "model.state_dict()"
      ]
    },
    {
      "cell_type": "markdown",
      "metadata": {
        "id": "Qc9kRTDpfTTb"
      },
      "source": [
        "To load the model weights, we can instante a new object of the class `MnistModel`, and use the `.load_state_dict` method."
      ]
    },
    {
      "cell_type": "code",
      "execution_count": null,
      "metadata": {
        "id": "OO666r7_1rbW"
      },
      "outputs": [],
      "source": [
        "model2 = MnistModel()"
      ]
    },
    {
      "cell_type": "code",
      "execution_count": null,
      "metadata": {
        "colab": {
          "base_uri": "https://localhost:8080/"
        },
        "id": "aUvYwe4Q1six",
        "outputId": "1b3f6d0c-8190-4161-be22-eff6cd4ed36e"
      },
      "outputs": [
        {
          "data": {
            "text/plain": [
              "OrderedDict([('linear.weight',\n",
              "              tensor([[-0.0312,  0.0068, -0.0123,  ...,  0.0297,  0.0018, -0.0057],\n",
              "                      [ 0.0314,  0.0241, -0.0108,  ...,  0.0240, -0.0270,  0.0354],\n",
              "                      [-0.0071, -0.0138, -0.0282,  ..., -0.0108,  0.0012, -0.0124],\n",
              "                      ...,\n",
              "                      [-0.0270, -0.0117,  0.0038,  ..., -0.0118,  0.0185,  0.0220],\n",
              "                      [-0.0337, -0.0006, -0.0311,  ...,  0.0344, -0.0095, -0.0123],\n",
              "                      [-0.0265,  0.0190, -0.0343,  ...,  0.0092,  0.0090, -0.0198]])),\n",
              "             ('linear.bias',\n",
              "              tensor([ 0.0132,  0.0320,  0.0344,  0.0207, -0.0069,  0.0272, -0.0135, -0.0313,\n",
              "                       0.0198,  0.0202]))])"
            ]
          },
          "execution_count": 172,
          "metadata": {},
          "output_type": "execute_result"
        }
      ],
      "source": [
        "model2.state_dict()"
      ]
    },
    {
      "cell_type": "code",
      "execution_count": null,
      "metadata": {
        "colab": {
          "base_uri": "https://localhost:8080/"
        },
        "id": "gHac9s6e1vyS",
        "outputId": "ef781006-b1a3-418f-9ca4-467cc11b2ea6"
      },
      "outputs": [
        {
          "data": {
            "text/plain": [
              "{'val_loss': 2.3258988857269287, 'val_acc': 0.11630859225988388}"
            ]
          },
          "execution_count": 136,
          "metadata": {},
          "output_type": "execute_result"
        }
      ],
      "source": [
        "evaluate(model2, test_loader)"
      ]
    },
    {
      "cell_type": "code",
      "execution_count": null,
      "metadata": {
        "colab": {
          "base_uri": "https://localhost:8080/"
        },
        "id": "bvR1g8ggfTTb",
        "outputId": "73c68b3b-0b4b-4bd2-c2d8-2183efd88625"
      },
      "outputs": [
        {
          "data": {
            "text/plain": [
              "OrderedDict([('linear.weight',\n",
              "              tensor([[-0.0131,  0.0206, -0.0201,  ...,  0.0104,  0.0067,  0.0158],\n",
              "                      [-0.0269,  0.0203,  0.0060,  ...,  0.0149, -0.0318, -0.0210],\n",
              "                      [ 0.0200,  0.0305,  0.0263,  ..., -0.0177,  0.0178, -0.0124],\n",
              "                      ...,\n",
              "                      [-0.0065, -0.0163,  0.0320,  ..., -0.0197,  0.0150,  0.0208],\n",
              "                      [ 0.0315,  0.0034,  0.0194,  ...,  0.0016, -0.0225,  0.0162],\n",
              "                      [-0.0250,  0.0120,  0.0261,  ..., -0.0332,  0.0244, -0.0286]])),\n",
              "             ('linear.bias',\n",
              "              tensor([-0.0509,  0.0761, -0.0339, -0.0073,  0.0087,  0.0489, -0.0104,  0.0396,\n",
              "                      -0.0864, -0.0102]))])"
            ]
          },
          "execution_count": 173,
          "metadata": {},
          "output_type": "execute_result"
        }
      ],
      "source": [
        "model2.load_state_dict(torch.load('mnist-logistic.pth'))\n",
        "model2.state_dict()"
      ]
    },
    {
      "cell_type": "markdown",
      "metadata": {
        "id": "zhjBm4BMfTTb"
      },
      "source": [
        "Just as a sanity check, let's verify that this model has the same loss and accuracy on the test set as before."
      ]
    },
    {
      "cell_type": "code",
      "execution_count": null,
      "metadata": {
        "colab": {
          "base_uri": "https://localhost:8080/"
        },
        "id": "UynZ4aSLfTTb",
        "outputId": "ce8deb57-12c6-4c7e-889b-b5b585bcd3d5"
      },
      "outputs": [
        {
          "data": {
            "text/plain": [
              "{'val_loss': 0.6421490907669067, 'val_acc': 0.861132800579071}"
            ]
          },
          "execution_count": 174,
          "metadata": {},
          "output_type": "execute_result"
        }
      ],
      "source": [
        "test_loader = DataLoader(test_dataset, batch_size=256)\n",
        "result = evaluate(model2, test_loader)\n",
        "result"
      ]
    },
    {
      "cell_type": "markdown",
      "metadata": {
        "id": "BRMNaQUWfTTb"
      },
      "source": [
        "As a final step, we can save and commit our work using the `jovian` library. Along with the notebook, we can also attach the weights of our trained model, so that we can use it later."
      ]
    },
    {
      "cell_type": "code",
      "execution_count": null,
      "metadata": {
        "colab": {
          "base_uri": "https://localhost:8080/"
        },
        "id": "p1cuCZ6afTTb",
        "outputId": "3a7a41ed-2cdc-4248-fa8a-1891a369d294",
        "scrolled": true
      },
      "outputs": [
        {
          "name": "stdout",
          "output_type": "stream",
          "text": [
            "[jovian] Detected Colab notebook...\u001b[0m\n",
            "[jovian] jovian.commit() is no longer required on Google Colab. If you ran this notebook from Jovian, \n",
            "then just save this file in Colab using Ctrl+S/Cmd+S and it will be updated on Jovian. \n",
            "Also, you can also delete this cell, it's no longer necessary.\u001b[0m\n"
          ]
        }
      ],
      "source": [
        "jovian.commit(project='03-logistic-regression', environment=None, outputs=['mnist-logistic.pth'])"
      ]
    },
    {
      "cell_type": "markdown",
      "metadata": {
        "id": "r1F3EHgSfTTb"
      },
      "source": [
        "## Exercises\n",
        "\n",
        "Try out the following exercises to apply the concepts and techniques you have learned so far:\n",
        "\n",
        "* Coding exercises on end-to-end model training: https://jovian.ai/aakashns/02-insurance-linear-regression\n",
        "* Starter notebook for logistic regression projects: https://jovian.ai/aakashns/mnist-logistic-minimal\n",
        "* Starter notebook for linear regression projects: https://jovian.ai/aakashns/housing-linear-minimal\n",
        "\n",
        "Training great machine learning models within a short time takes practice and experience. Try experimenting with different datasets, models and hyperparameters, it's the best way to acquire this skill."
      ]
    },
    {
      "cell_type": "markdown",
      "metadata": {
        "id": "_Q8EnndBfTTb"
      },
      "source": [
        "## Summary and Further Reading\n",
        "\n",
        "We've created a fairly sophisticated training and evaluation pipeline in this tutorial. Here's a list of the topics we've covered:\n",
        "\n",
        "* Working with images in PyTorch (using the MNIST dataset)\n",
        "* Splitting a dataset into training, validation and test sets\n",
        "* Creating PyTorch models with custom logic by extending the `nn.Module` class\n",
        "* Interpreting model ouputs as probabilities using softmax, and picking predicted labels\n",
        "* Picking a good evaluation metric (accuracy) and loss function (cross entropy) for classification problems\n",
        "* Setting up a training loop that also evaluates the model using the validation set\n",
        "* Testing the model manually on randomly picked examples\n",
        "* Saving and loading model checkpoints to avoid retraining from scratch\n",
        "\n",
        "There's a lot of scope to experiment here, and I encourage you to use the interactive nature of Jupyter to play around with the various parameters. Here are a few ideas:\n",
        "\n",
        "* Try making the validation set smaller or larger, and see how it affects the model.\n",
        "* Try changing the learning rate and see if you can achieve the same accuracy in fewer epochs.\n",
        "* Try changing the batch size. What happens if you use too high a batch size, or too low?\n",
        "* Modify the `fit` function to also track the overall loss and accuracy on the training set, and see how it compares with the validation loss/accuracy. Can you explain why it's lower/higher?\n",
        "* Train with a small subset of the data, and see if you can reach a similar level of accuracy.\n",
        "* Try building a model for a different dataset, such as the [CIFAR10 or CIFAR100 datasets](https://www.cs.toronto.edu/~kriz/cifar.html).\n",
        "\n",
        "Here are some references for further reading:\n",
        "* For a more mathematical treatment, see the popular [Machine Learning](https://www.coursera.org/lecture/machine-learning/classification-wlPeP) course on Coursera. Most of the images used in this tutorial series have been taken from this course.\n",
        "* The training loop defined in this notebook was inspired from [FastAI development notebooks](https://github.com/fastai/fastai_docs/blob/master/dev_nb/001a_nn_basics.ipynb) which contain a wealth of other useful stuff if you can read and understand the code.\n",
        "* For a deep dive into softmax and cross entropy, see [this blog post on DeepNotes](https://deepnotes.io/softmax-crossentropy).\n",
        "\n",
        "\n",
        "With this we complete our discussion of logistic regression, and we're ready to move on to the next topic: [Training Deep Neural Networks on a GPU](https://jovian.ai/aakashns/04-feedforward-nn)!"
      ]
    }
  ],
  "metadata": {
    "colab": {
      "provenance": []
    },
    "kernelspec": {
      "display_name": "Python 3",
      "language": "python",
      "name": "python3"
    },
    "language_info": {
      "codemirror_mode": {
        "name": "ipython",
        "version": 3
      },
      "file_extension": ".py",
      "mimetype": "text/x-python",
      "name": "python",
      "nbconvert_exporter": "python",
      "pygments_lexer": "ipython3",
      "version": "3.8.5"
    }
  },
  "nbformat": 4,
  "nbformat_minor": 0
}
