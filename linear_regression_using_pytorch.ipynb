{
  "cells": [
    {
      "cell_type": "markdown",
      "metadata": {
        "id": "FYLGRY14J8-I"
      },
      "source": [
        "## Gradient Descent and Linear Regression with PyTorch\n",
        "\n",
        "### Part 2 of \"Deep Learning with Pytorch: Zero to GANs\"\n",
        "\n",
        "This tutorial series is a hands-on beginner-friendly introduction to deep learning using [PyTorch](https://pytorch.org), an open-source neural networks library. These tutorials take a practical and coding-focused approach. The best way to learn the material is to execute the code and experiment with it yourself. Check out the full series here:\n",
        "\n",
        "1. [PyTorch Basics: Tensors & Gradients](https://jovian.ai/aakashns/01-pytorch-basics)\n",
        "2. [Gradient Descent & Linear Regression](https://jovian.ai/aakashns/02-linear-regression)\n",
        "3. [Working with Images & Logistic Regression](https://jovian.ai/aakashns/03-logistic-regression)\n",
        "4. [Training Deep Neural Networks on a GPU](https://jovian.ai/aakashns/04-feedforward-nn)\n",
        "5. [Image Classification using Convolutional Neural Networks](https://jovian.ai/aakashns/05-cifar10-cnn)\n",
        "6. [Data Augmentation, Regularization and ResNets](https://jovian.ai/aakashns/05b-cifar10-resnet)\n",
        "7. [Generating Images using Generative Adversarial Networks](https://jovian.ai/aakashns/06b-anime-dcgan/)\n"
      ]
    },
    {
      "cell_type": "markdown",
      "metadata": {
        "id": "WS5fz_njJ8-J"
      },
      "source": [
        "This tutorial covers the following topics:\n",
        "\n",
        "- Introduction to linear regression and gradient descent\n",
        "- Implementing a linear regression model using PyTorch tensors\n",
        "- Training a linear regression model using the gradient descent algorithm\n",
        "- Implementing gradient descent and linear regression using PyTorch built-in"
      ]
    },
    {
      "cell_type": "markdown",
      "metadata": {
        "id": "eqPNjcknJ8-K"
      },
      "source": [
        "### How to run the code\n",
        "\n",
        "This tutorial is an executable [Jupyter notebook](https://jupyter.org) hosted on [Jovian](https://www.jovian.ai) (don't worry if these terms seem unfamiliar; we'll learn more about them soon). You can _run_ this tutorial and experiment with the code examples in a couple of ways: *using free online resources* (recommended) or *on your computer*.\n",
        "\n",
        "#### Option 1: Running using free online resources (1-click, recommended)\n",
        "\n",
        "The easiest way to start executing the code is to click the **Run** button at the top of this page and select **Run on Colab**. [Google Colab](https://colab.research.google.com) is a free online platform for running Jupyter notebooks using Google's cloud infrastructure. You can also select \"Run on Binder\" or \"Run on Kaggle\" if you face issues running the notebook on Google Colab.\n",
        "\n",
        "\n",
        "#### Option 2: Running on your computer locally\n",
        "\n",
        "To run the code on your computer locally, you'll need to set up [Python](https://www.python.org), download the notebook and install the required libraries. We recommend using the [Conda](https://docs.conda.io/projects/conda/en/latest/user-guide/install/) distribution of Python. Click the **Run** button at the top of this page, select the **Run Locally** option, and follow the instructions.\n",
        "\n",
        ">  **Jupyter Notebooks**: This tutorial is a [Jupyter notebook](https://jupyter.org) - a document made of _cells_. Each cell can contain code written in Python or explanations in plain English. You can execute code cells and view the results, e.g., numbers, messages, graphs, tables, files, etc. instantly within the notebook. Jupyter is a powerful platform for experimentation and analysis. Don't be afraid to mess around with the code & break things - you'll learn a lot by encountering and fixing errors. You can use the \"Kernel > Restart & Clear Output\" or \"Edit > Clear Outputs\" menu option to clear all outputs and start again from the top."
      ]
    },
    {
      "cell_type": "markdown",
      "metadata": {
        "id": "0oq7l7w7J8-K"
      },
      "source": [
        "Before we begin, we need to install the required libraries. The installation of PyTorch may differ based on your operating system / cloud environment. You can find detailed installation instructions here: https://pytorch.org ."
      ]
    },
    {
      "cell_type": "code",
      "execution_count": null,
      "metadata": {
        "id": "2S6TU2ubJ8-K"
      },
      "outputs": [],
      "source": [
        "# Uncomment and run the appropriate command for your operating system, if required\n",
        "\n",
        "# Linux / Binder\n",
        "# !pip install numpy torch==1.7.0+cpu torchvision==0.8.1+cpu torchaudio==0.7.0 -f https://download.pytorch.org/whl/torch_stable.html\n",
        "\n",
        "# Windows\n",
        "# !pip install numpy torch==1.7.0+cpu torchvision==0.8.1+cpu torchaudio==0.7.0 -f https://download.pytorch.org/whl/torch_stable.html\n",
        "\n",
        "# MacOS\n",
        "# !pip install numpy torch torchvision torchaudio"
      ]
    },
    {
      "cell_type": "markdown",
      "metadata": {
        "id": "yj4xuy9lJ8-L"
      },
      "source": [
        "## Introduction to Linear Regression\n",
        "\n",
        "In this tutorial, we'll discuss one of the foundational algorithms in machine learning: *Linear regression*. We'll create a model that predicts crop yields for apples and oranges (*target variables*) by looking at the average temperature, rainfall, and humidity (*input variables or features*) in a region. Here's the training data:\n",
        "\n",
        "![linear-regression-training-data](https://i.imgur.com/6Ujttb4.png)\n",
        "\n",
        "In a linear regression model, each target variable is estimated to be a weighted sum of the input variables, offset by some constant, known as a bias :\n",
        "\n",
        "```\n",
        "yield_apple  = w11 * temp + w12 * rainfall + w13 * humidity + b1\n",
        "yield_orange = w21 * temp + w22 * rainfall + w23 * humidity + b2\n",
        "```\n",
        "\n",
        "Visually, it means that the yield of apples is a linear or planar function of temperature, rainfall and humidity:\n",
        "\n",
        "![linear-regression-graph](https://i.imgur.com/4DJ9f8X.png)"
      ]
    },
    {
      "cell_type": "markdown",
      "metadata": {
        "id": "By7NJnuzJ8-L"
      },
      "source": [
        "The *learning* part of linear regression is to figure out a set of weights `w11, w12,... w23, b1 & b2` using the training data, to make accurate predictions for new data. The _learned_ weights will be used to predict the yields for apples and oranges in a new region using the average temperature, rainfall, and humidity for that region.\n",
        "\n",
        "We'll _train_ our model by adjusting the weights slightly many times to make better predictions, using an optimization technique called *gradient descent*. Let's begin by importing Numpy and PyTorch."
      ]
    },
    {
      "cell_type": "code",
      "execution_count": null,
      "metadata": {
        "id": "Ni71VWe8J8-L"
      },
      "outputs": [],
      "source": [
        "import numpy as np\n",
        "import torch"
      ]
    },
    {
      "cell_type": "markdown",
      "metadata": {
        "id": "Z-tFdslhJ8-L"
      },
      "source": [
        "## Training data\n",
        "\n",
        "We can represent the training data using two matrices: `inputs` and `targets`, each with one row per observation, and one column per variable."
      ]
    },
    {
      "cell_type": "code",
      "execution_count": null,
      "metadata": {
        "id": "h6dFGVQbJ8-L"
      },
      "outputs": [],
      "source": [
        "# Input (temp, rainfall, humidity)\n",
        "inputs = np.array([[73, 67, 43],\n",
        "                   [91, 88, 64],\n",
        "                   [87, 134, 58],\n",
        "                   [102, 43, 37],\n",
        "                   [69, 96, 70]], dtype='float32')"
      ]
    },
    {
      "cell_type": "code",
      "execution_count": null,
      "metadata": {
        "id": "25FXGBlXJ8-L"
      },
      "outputs": [],
      "source": [
        "# Targets (apples, oranges)\n",
        "targets = np.array([[56, 70],\n",
        "                    [81, 101],\n",
        "                    [119, 133],\n",
        "                    [22, 37],\n",
        "                    [103, 119]], dtype='float32')"
      ]
    },
    {
      "cell_type": "markdown",
      "metadata": {
        "id": "UAApzAWOJ8-L"
      },
      "source": [
        "We've separated the input and target variables because we'll operate on them separately. Also, we've created numpy arrays, because this is typically how you would work with training data: read some CSV files as numpy arrays, do some processing, and then convert them to PyTorch tensors.\n",
        "\n",
        "Let's convert the arrays to PyTorch tensors."
      ]
    },
    {
      "cell_type": "code",
      "execution_count": null,
      "metadata": {
        "colab": {
          "base_uri": "https://localhost:8080/"
        },
        "id": "Ano57yZ7J8-L",
        "outputId": "d52218ae-e32b-48df-88b3-66ed8bda301a"
      },
      "outputs": [
        {
          "output_type": "stream",
          "name": "stdout",
          "text": [
            "tensor([[ 73.,  67.,  43.],\n",
            "        [ 91.,  88.,  64.],\n",
            "        [ 87., 134.,  58.],\n",
            "        [102.,  43.,  37.],\n",
            "        [ 69.,  96.,  70.]])\n",
            "tensor([[ 56.,  70.],\n",
            "        [ 81., 101.],\n",
            "        [119., 133.],\n",
            "        [ 22.,  37.],\n",
            "        [103., 119.]])\n"
          ]
        }
      ],
      "source": [
        "# Convert inputs and targets to tensors\n",
        "inputs = torch.from_numpy(inputs)\n",
        "targets = torch.from_numpy(targets)\n",
        "print(inputs)\n",
        "print(targets)"
      ]
    },
    {
      "cell_type": "markdown",
      "metadata": {
        "id": "l0ufcmk0J8-M"
      },
      "source": [
        "## Linear regression model from scratch\n",
        "\n",
        "The weights and biases (`w11, w12,... w23, b1 & b2`) can also be represented as matrices, initialized as random values. The first row of `w` and the first element of `b` are used to predict the first target variable, i.e., yield of apples, and similarly, the second for oranges."
      ]
    },
    {
      "cell_type": "code",
      "execution_count": null,
      "metadata": {
        "colab": {
          "base_uri": "https://localhost:8080/"
        },
        "id": "4zBLp50mJ8-M",
        "outputId": "b8d7547c-680d-4cad-dd27-78848271d3e1"
      },
      "outputs": [
        {
          "output_type": "stream",
          "name": "stdout",
          "text": [
            "tensor([[ 1.9421,  0.7727,  0.3825],\n",
            "        [ 0.4189, -1.1810,  0.1767]], requires_grad=True)\n",
            "tensor([ 0.9188, -1.5595], requires_grad=True)\n"
          ]
        }
      ],
      "source": [
        "# Weights and biases\n",
        "w = torch.randn(2, 3, requires_grad=True)\n",
        "b = torch.randn(2, requires_grad=True)\n",
        "print(w)\n",
        "print(b)"
      ]
    },
    {
      "cell_type": "markdown",
      "metadata": {
        "id": "A2IkJ5r5J8-M"
      },
      "source": [
        "`torch.randn` creates a tensor with the given shape, with elements picked randomly from a [normal distribution](https://en.wikipedia.org/wiki/Normal_distribution) with mean 0 and standard deviation 1.\n",
        "\n",
        "Our *model* is simply a function that performs a matrix multiplication of the `inputs` and the weights `w` (transposed) and adds the bias `b` (replicated for each observation).\n",
        "\n",
        "![matrix-mult](https://i.imgur.com/WGXLFvA.png)\n",
        "\n",
        "We can define the model as follows:"
      ]
    },
    {
      "cell_type": "code",
      "execution_count": null,
      "metadata": {
        "id": "bYFOUKtnJ8-M"
      },
      "outputs": [],
      "source": [
        "def model(x):\n",
        "    return x @ w.t() + b"
      ]
    },
    {
      "cell_type": "markdown",
      "metadata": {
        "id": "7ak5WgBVJ8-M"
      },
      "source": [
        "`@` represents matrix multiplication in PyTorch, and the `.t` method returns the transpose of a tensor.\n",
        "\n",
        "The matrix obtained by passing the input data into the model is a set of predictions for the target variables."
      ]
    },
    {
      "cell_type": "code",
      "execution_count": null,
      "metadata": {
        "colab": {
          "base_uri": "https://localhost:8080/"
        },
        "id": "peoMdAMGJ8-M",
        "outputId": "50c85844-6751-49cb-c73d-9933a794ecd2"
      },
      "outputs": [
        {
          "output_type": "stream",
          "name": "stdout",
          "text": [
            "tensor([[ 210.9119,  -42.5121],\n",
            "        [ 270.1292,  -56.0635],\n",
            "        [ 295.6109, -113.1261],\n",
            "        [ 246.3930,   -3.0793],\n",
            "        [ 235.8794,  -73.6676]], grad_fn=<AddBackward0>)\n"
          ]
        }
      ],
      "source": [
        "# Generate predictions\n",
        "preds = model(inputs)\n",
        "print(preds)"
      ]
    },
    {
      "cell_type": "markdown",
      "metadata": {
        "id": "-TT6FXshJ8-M"
      },
      "source": [
        "Let's compare the predictions of our model with the actual targets."
      ]
    },
    {
      "cell_type": "code",
      "execution_count": null,
      "metadata": {
        "colab": {
          "base_uri": "https://localhost:8080/"
        },
        "id": "OECr27d9J8-M",
        "outputId": "f71648a5-7e0b-451b-9326-5199bb59592e"
      },
      "outputs": [
        {
          "output_type": "stream",
          "name": "stdout",
          "text": [
            "tensor([[ 56.,  70.],\n",
            "        [ 81., 101.],\n",
            "        [119., 133.],\n",
            "        [ 22.,  37.],\n",
            "        [103., 119.]])\n"
          ]
        }
      ],
      "source": [
        "# Compare with targets\n",
        "print(targets)"
      ]
    },
    {
      "cell_type": "markdown",
      "metadata": {
        "id": "U_uwtqxRJ8-M"
      },
      "source": [
        "You can see a big difference between our model's predictions and the actual targets because we've initialized our model with random weights and biases. Obviously, we can't expect a randomly initialized model to *just work*."
      ]
    },
    {
      "cell_type": "markdown",
      "metadata": {
        "id": "X0Swu69QJ8-N"
      },
      "source": [
        "## Loss function\n",
        "\n",
        "Before we improve our model, we need a way to evaluate how well our model is performing. We can compare the model's predictions with the actual targets using the following method:\n",
        "\n",
        "* Calculate the difference between the two matrices (`preds` and `targets`).\n",
        "* Square all elements of the difference matrix to remove negative values.\n",
        "* Calculate the average of the elements in the resulting matrix.\n",
        "\n",
        "The result is a single number, known as the **mean squared error** (MSE)."
      ]
    },
    {
      "cell_type": "code",
      "execution_count": null,
      "metadata": {
        "id": "tikoVLnSJ8-N"
      },
      "outputs": [],
      "source": [
        "# MSE loss\n",
        "def mse(t1, t2):\n",
        "    diff = t1 - t2\n",
        "    return torch.sum(diff * diff) / diff.numel()"
      ]
    },
    {
      "cell_type": "markdown",
      "metadata": {
        "id": "-2_7aHy1J8-N"
      },
      "source": [
        "`torch.sum` returns the sum of all the elements in a tensor. The `.numel` method of a tensor returns the number of elements in a tensor. Let's compute the mean squared error for the current predictions of our model."
      ]
    },
    {
      "cell_type": "code",
      "execution_count": null,
      "metadata": {
        "colab": {
          "base_uri": "https://localhost:8080/"
        },
        "id": "o-uISmT-J8-N",
        "outputId": "5e08f9fe-eedb-4d12-d9bc-0b15edec6579"
      },
      "outputs": [
        {
          "output_type": "stream",
          "name": "stdout",
          "text": [
            "tensor(29560.1211, grad_fn=<DivBackward0>)\n"
          ]
        }
      ],
      "source": [
        "# Compute loss\n",
        "loss = mse(preds, targets)\n",
        "print(loss)"
      ]
    },
    {
      "cell_type": "markdown",
      "metadata": {
        "id": "93AoB1u9J8-N"
      },
      "source": [
        "Here’s how we can interpret the result: *On average, each element in the prediction differs from the actual target by the square root of the loss*. And that’s pretty bad, considering the numbers we are trying to predict are themselves in the range 50–200. The result is called the *loss* because it indicates how bad the model is at predicting the target variables. It represents information loss in the model: the lower the loss, the better the model."
      ]
    },
    {
      "cell_type": "markdown",
      "metadata": {
        "id": "EfMvD2rtJ8-N"
      },
      "source": [
        "## Compute gradients\n",
        "\n",
        "With PyTorch, we can automatically compute the gradient or derivative of the loss w.r.t. to the weights and biases because they have `requires_grad` set to `True`. We'll see how this is useful in just a moment."
      ]
    },
    {
      "cell_type": "code",
      "execution_count": null,
      "metadata": {
        "id": "HA9BmLJwJ8-N"
      },
      "outputs": [],
      "source": [
        "# Compute gradients\n",
        "loss.backward()"
      ]
    },
    {
      "cell_type": "markdown",
      "metadata": {
        "id": "9QKhp0U2J8-N"
      },
      "source": [
        "The gradients are stored in the `.grad` property of the respective tensors. Note that the derivative of the loss w.r.t. the weights matrix is itself a matrix with the same dimensions."
      ]
    },
    {
      "cell_type": "code",
      "execution_count": null,
      "metadata": {
        "id": "IN2QN7wEJ8-N",
        "outputId": "12aa6f00-ce99-48d2-895f-ff50d5d42fb3"
      },
      "outputs": [
        {
          "name": "stdout",
          "output_type": "stream",
          "text": [
            "tensor([[-0.2910, -0.3450,  0.0305],\n",
            "        [-0.6528,  0.7386, -0.5153]], requires_grad=True)\n",
            "tensor([[-10740.7393, -12376.3008,  -7471.2300],\n",
            "        [ -9458.5078, -10033.8672,  -6344.1094]])\n"
          ]
        }
      ],
      "source": [
        "# Gradients for weights\n",
        "print(w)\n",
        "print(w.grad)"
      ]
    },
    {
      "cell_type": "markdown",
      "metadata": {
        "id": "z7uVGuEzJ8-N"
      },
      "source": [
        "## Adjust weights and biases to reduce the loss\n",
        "\n",
        "The loss is a [quadratic function](https://en.wikipedia.org/wiki/Quadratic_function) of our weights and biases, and our objective is to find the set of weights where the loss is the lowest. If we plot a graph of the loss w.r.t any individual weight or bias element, it will look like the figure shown below. An important insight from calculus is that the gradient indicates the rate of change of the loss, i.e., the loss function's [slope](https://en.wikipedia.org/wiki/Slope) w.r.t. the weights and biases.\n",
        "\n",
        "If a gradient element is **positive**:\n",
        "\n",
        "* **increasing** the weight element's value slightly will **increase** the loss\n",
        "* **decreasing** the weight element's value slightly will **decrease** the loss\n",
        "\n",
        "![postive-gradient](https://i.imgur.com/WLzJ4xP.png)\n",
        "\n",
        "If a gradient element is **negative**:\n",
        "\n",
        "* **increasing** the weight element's value slightly will **decrease** the loss\n",
        "* **decreasing** the weight element's value slightly will **increase** the loss\n",
        "\n",
        "![negative=gradient](https://i.imgur.com/dvG2fxU.png)\n",
        "\n",
        "The increase or decrease in the loss by changing a weight element is proportional to the gradient of the loss w.r.t. that element. This observation forms the basis of _the gradient descent_ optimization algorithm that we'll use to improve our model (by _descending_ along the _gradient_).\n",
        "\n",
        "We can subtract from each weight element a small quantity proportional to the derivative of the loss w.r.t. that element to reduce the loss slightly."
      ]
    },
    {
      "cell_type": "code",
      "execution_count": null,
      "metadata": {
        "colab": {
          "base_uri": "https://localhost:8080/"
        },
        "id": "R_0Zt_mBJ8-O",
        "outputId": "1ff23224-697e-4dde-8de5-d080fea7f48f"
      },
      "outputs": [
        {
          "output_type": "execute_result",
          "data": {
            "text/plain": [
              "tensor([[ 10515.4512,   9620.6064,   6233.4014],\n",
              "        [ -7979.8096, -10291.8770,  -5980.5952]])"
            ]
          },
          "metadata": {},
          "execution_count": 44
        }
      ],
      "source": [
        "w\n",
        "w.grad"
      ]
    },
    {
      "cell_type": "code",
      "execution_count": null,
      "metadata": {
        "id": "FGWSjOx2J8-O"
      },
      "outputs": [],
      "source": [
        "with torch.no_grad():\n",
        "    w -= w.grad * 1e-5\n",
        "    b -= b.grad * 1e-5"
      ]
    },
    {
      "cell_type": "markdown",
      "metadata": {
        "id": "riHEfnHfJ8-O"
      },
      "source": [
        "We multiply the gradients with a very small number (`10^-5` in this case) to ensure that we don't modify the weights by a very large amount. We want to take a small step in the downhill direction of the gradient, not a giant leap. This number is called the *learning rate* of the algorithm.\n",
        "\n",
        "We use `torch.no_grad` to indicate to PyTorch that we shouldn't track, calculate, or modify gradients while updating the weights and biases."
      ]
    },
    {
      "cell_type": "code",
      "execution_count": null,
      "metadata": {
        "colab": {
          "base_uri": "https://localhost:8080/"
        },
        "id": "rsq-SWyoJ8-O",
        "outputId": "f874f529-4d6d-456f-a3f7-78fa767a7bac"
      },
      "outputs": [
        {
          "output_type": "stream",
          "name": "stdout",
          "text": [
            "tensor(14582.4707, grad_fn=<DivBackward0>)\n"
          ]
        }
      ],
      "source": [
        "# Let's verify that the loss is actually lower\n",
        "loss = mse(preds, targets)\n",
        "print(loss)"
      ]
    },
    {
      "cell_type": "markdown",
      "metadata": {
        "id": "qJB2hGueJ8-O"
      },
      "source": [
        "Before we proceed, we reset the gradients to zero by invoking the `.zero_()` method. We need to do this because PyTorch accumulates gradients. Otherwise, the next time we invoke `.backward` on the loss, the new gradient values are added to the existing gradients, which may lead to unexpected results."
      ]
    },
    {
      "cell_type": "code",
      "execution_count": null,
      "metadata": {
        "colab": {
          "base_uri": "https://localhost:8080/"
        },
        "id": "v8cWU4QxJ8-O",
        "outputId": "3ec88238-08e0-4096-f5c6-abe7f2ca7b58"
      },
      "outputs": [
        {
          "output_type": "stream",
          "name": "stdout",
          "text": [
            "tensor([[0., 0., 0.],\n",
            "        [0., 0., 0.]])\n",
            "tensor([0., 0.])\n"
          ]
        }
      ],
      "source": [
        "w.grad.zero_()\n",
        "b.grad.zero_()\n",
        "print(w.grad)\n",
        "print(b.grad)"
      ]
    },
    {
      "cell_type": "markdown",
      "metadata": {
        "id": "Nq61y9-sJ8-O"
      },
      "source": [
        "## Train the model using gradient descent\n",
        "\n",
        "As seen above, we reduce the loss and improve our model using the gradient descent optimization algorithm. Thus, we can _train_ the model using the following steps:\n",
        "\n",
        "1. Generate predictions\n",
        "\n",
        "2. Calculate the loss\n",
        "\n",
        "3. Compute gradients w.r.t the weights and biases\n",
        "\n",
        "4. Adjust the weights by subtracting a small quantity proportional to the gradient\n",
        "\n",
        "5. Reset the gradients to zero\n",
        "\n",
        "Let's implement the above step by step."
      ]
    },
    {
      "cell_type": "code",
      "execution_count": null,
      "metadata": {
        "colab": {
          "base_uri": "https://localhost:8080/"
        },
        "id": "pApHriAqJ8-S",
        "outputId": "fa0aa8f0-6098-49ac-de97-fb3b0e6315fb"
      },
      "outputs": [
        {
          "output_type": "stream",
          "name": "stdout",
          "text": [
            "tensor([[148.7655,  14.1692],\n",
            "        [188.6321,  18.5712],\n",
            "        [200.4259, -23.7352],\n",
            "        [183.1899,  52.0020],\n",
            "        [158.5342,  -1.3351]], grad_fn=<AddBackward0>)\n"
          ]
        }
      ],
      "source": [
        "# Generate predictions\n",
        "preds = model(inputs)\n",
        "print(preds)"
      ]
    },
    {
      "cell_type": "code",
      "execution_count": null,
      "metadata": {
        "colab": {
          "base_uri": "https://localhost:8080/"
        },
        "id": "5l8Zp7-xJ8-S",
        "outputId": "d409aee7-c958-41b4-b34b-30eea9e10bb5"
      },
      "outputs": [
        {
          "output_type": "stream",
          "name": "stdout",
          "text": [
            "tensor(10506.9609, grad_fn=<DivBackward0>)\n"
          ]
        }
      ],
      "source": [
        "# Calculate the loss\n",
        "loss = mse(preds, targets)\n",
        "print(loss)"
      ]
    },
    {
      "cell_type": "code",
      "execution_count": null,
      "metadata": {
        "colab": {
          "base_uri": "https://localhost:8080/"
        },
        "id": "RdkTm7f5J8-S",
        "outputId": "5bbe3612-45d6-46b8-e784-db73c69ed847"
      },
      "outputs": [
        {
          "output_type": "stream",
          "name": "stdout",
          "text": [
            "tensor([[ 8784.7393,  7772.0884,  5090.2998],\n",
            "        [-6397.1094, -8580.7988, -4927.0371]])\n",
            "tensor([ 99.7095, -80.0656])\n"
          ]
        }
      ],
      "source": [
        "# Compute gradients\n",
        "loss.backward()\n",
        "print(w.grad)\n",
        "print(b.grad)"
      ]
    },
    {
      "cell_type": "markdown",
      "metadata": {
        "id": "eSoioVOnJ8-S"
      },
      "source": [
        "Let's update the weights and biases using the gradients computed above."
      ]
    },
    {
      "cell_type": "code",
      "execution_count": null,
      "metadata": {
        "id": "HPCIjTSHJ8-S"
      },
      "outputs": [],
      "source": [
        "# Adjust weights & reset gradients\n",
        "with torch.no_grad():\n",
        "    w -= w.grad * 1e-5\n",
        "    b -= b.grad * 1e-5\n",
        "    w.grad.zero_()\n",
        "    b.grad.zero_()"
      ]
    },
    {
      "cell_type": "markdown",
      "metadata": {
        "id": "ej8XUnyuJ8-S"
      },
      "source": [
        "Let's take a look at the new weights and biases."
      ]
    },
    {
      "cell_type": "code",
      "source": [
        "w.grad"
      ],
      "metadata": {
        "colab": {
          "base_uri": "https://localhost:8080/"
        },
        "id": "hsQP6P1ZEPhg",
        "outputId": "ca75e453-0a8e-4762-e5ab-1427e8f3128e"
      },
      "execution_count": null,
      "outputs": [
        {
          "output_type": "execute_result",
          "data": {
            "text/plain": [
              "tensor([[0., 0., 0.],\n",
              "        [0., 0., 0.]])"
            ]
          },
          "metadata": {},
          "execution_count": 38
        }
      ]
    },
    {
      "cell_type": "code",
      "execution_count": null,
      "metadata": {
        "colab": {
          "base_uri": "https://localhost:8080/"
        },
        "id": "hjh6hglOJ8-S",
        "outputId": "c5fa81cc-f50f-4090-fdc7-34aed45ff165"
      },
      "outputs": [
        {
          "output_type": "stream",
          "name": "stdout",
          "text": [
            "tensor([[ 1.4710,  0.3339,  0.0998],\n",
            "        [ 0.7844, -0.7194,  0.4466]], requires_grad=True)\n",
            "tensor([ 0.9134, -1.5550], requires_grad=True)\n"
          ]
        }
      ],
      "source": [
        "print(w)\n",
        "print(b)"
      ]
    },
    {
      "cell_type": "markdown",
      "metadata": {
        "id": "GH1htzgVJ8-S"
      },
      "source": [
        "With the new weights and biases, the model should have a lower loss."
      ]
    },
    {
      "cell_type": "code",
      "execution_count": null,
      "metadata": {
        "colab": {
          "base_uri": "https://localhost:8080/"
        },
        "id": "A1SUGsj3J8-T",
        "outputId": "00e4c6b5-6316-4c62-fc51-90ec68c9e006"
      },
      "outputs": [
        {
          "output_type": "stream",
          "name": "stdout",
          "text": [
            "tensor(7752.0420, grad_fn=<DivBackward0>)\n"
          ]
        }
      ],
      "source": [
        "# Calculate loss\n",
        "preds = model(inputs)\n",
        "loss = mse(preds, targets)\n",
        "print(loss)"
      ]
    },
    {
      "cell_type": "markdown",
      "metadata": {
        "id": "4uX846QkJ8-T"
      },
      "source": [
        "We have already achieved a significant reduction in the loss merely by adjusting the weights and biases slightly using gradient descent."
      ]
    },
    {
      "cell_type": "markdown",
      "metadata": {
        "id": "eHOWV0iVJ8-T"
      },
      "source": [
        "## Train for multiple epochs\n",
        "\n",
        "To reduce the loss further, we can repeat the process of adjusting the weights and biases using the gradients multiple times. Each iteration is called an _epoch_. Let's train the model for 100 epochs.\n",
        "\n",
        "\n",
        "## Why w.grad.zero_() is necessary\n",
        "\n",
        "Yes, exactly. If you don't zero out the gradients (w.grad.zero_() and b.grad.zero_()) after each call to loss.backward(), then the gradients will accumulate.\n",
        "\n",
        "Each time you call loss.backward(), gradients are computed and stored in the .grad attribute of each parameter tensor. If you don't zero out these gradients before the next call to loss.backward(), the new gradients will be added to the existing gradients, leading to accumulation.\n",
        "\n",
        "##  with torch.no_grad():\n",
        "\n",
        "suppose w = m+n when we do computation for w inside torch.no_grad() we tell that\n",
        "we don't want gradients for m and n. that means we don't want dw/dm and dw/dn.\n",
        "\n",
        "Removing the torch.no_grad() context manager from the loop would not affect the final values of w and b, assuming that the only purpose of this context manager is to prevent gradient tracking during manual parameter updates.\n",
        "\n",
        "But it will add unecessary computation to pytorch"
      ]
    },
    {
      "cell_type": "code",
      "execution_count": null,
      "metadata": {
        "id": "5btaDNrqJ8-T"
      },
      "outputs": [],
      "source": [
        "# Train for 100 epochstorch.no_grad()\n",
        "for i in range(100):\n",
        "    preds = model(inputs)\n",
        "    loss = mse(preds, targets)\n",
        "    loss.backward()\n",
        "    with torch.no_grad():\n",
        "        w -= w.grad * 1e-5\n",
        "        b -= b.grad * 1e-5\n",
        "        w.grad.zero_()\n",
        "        b.grad.zero_()"
      ]
    },
    {
      "cell_type": "markdown",
      "metadata": {
        "id": "6AdVb_ALJ8-T"
      },
      "source": [
        "Once again, let's verify that the loss is now lower:"
      ]
    },
    {
      "cell_type": "code",
      "execution_count": null,
      "metadata": {
        "colab": {
          "base_uri": "https://localhost:8080/"
        },
        "id": "w2vQAEy0J8-T",
        "outputId": "8ede58d4-ef50-4286-ed7c-1294c01643f3"
      },
      "outputs": [
        {
          "output_type": "stream",
          "name": "stdout",
          "text": [
            "tensor(608.6288, grad_fn=<DivBackward0>)\n"
          ]
        }
      ],
      "source": [
        "# Calculate loss\n",
        "preds = model(inputs)\n",
        "loss = mse(preds, targets)\n",
        "print(loss)"
      ]
    },
    {
      "cell_type": "markdown",
      "metadata": {
        "id": "3sQL90b1J8-T"
      },
      "source": [
        "The loss is now much lower than its initial value. Let's look at the model's predictions and compare them with the targets."
      ]
    },
    {
      "cell_type": "code",
      "execution_count": null,
      "metadata": {
        "colab": {
          "base_uri": "https://localhost:8080/"
        },
        "id": "mejBxERuJ8-T",
        "outputId": "5fb6d284-e9dd-4514-a18d-1141d160868b"
      },
      "outputs": [
        {
          "output_type": "execute_result",
          "data": {
            "text/plain": [
              "tensor([[ 65.3654,  77.7955],\n",
              "        [ 83.2244, 105.9919],\n",
              "        [103.1985, 108.8147],\n",
              "        [ 67.4073,  82.0667],\n",
              "        [ 76.8350, 101.7988]], grad_fn=<AddBackward0>)"
            ]
          },
          "metadata": {},
          "execution_count": 56
        }
      ],
      "source": [
        "# Predictions\n",
        "preds"
      ]
    },
    {
      "cell_type": "code",
      "execution_count": null,
      "metadata": {
        "colab": {
          "base_uri": "https://localhost:8080/"
        },
        "id": "6sUU6CE6J8-T",
        "outputId": "79d0978d-9471-4abd-b453-3a41a97efbb8"
      },
      "outputs": [
        {
          "output_type": "execute_result",
          "data": {
            "text/plain": [
              "tensor([[ 56.,  70.],\n",
              "        [ 81., 101.],\n",
              "        [119., 133.],\n",
              "        [ 22.,  37.],\n",
              "        [103., 119.]])"
            ]
          },
          "metadata": {},
          "execution_count": 57
        }
      ],
      "source": [
        "# Targets\n",
        "targets"
      ]
    },
    {
      "cell_type": "markdown",
      "metadata": {
        "id": "mV52SFpjJ8-T"
      },
      "source": [
        "The predictions are now quite close to the target variables. We can get even better results by training for a few more epochs."
      ]
    },
    {
      "cell_type": "markdown",
      "metadata": {
        "id": "gu75CqNcJ8-T"
      },
      "source": [
        "## Save and upload your notebook\n",
        "\n",
        "Whether you're running this Jupyter notebook online or on your computer, it's essential to save your work from time to time. You can continue working on a saved notebook later or share it with friends and colleagues to let them execute your code. [Jovian](https://jovian.ai/platform-features) offers an easy way of saving and sharing your Jupyter notebooks online.\n",
        "\n",
        "First, you need to install the Jovian python library if it isn't already installed."
      ]
    },
    {
      "cell_type": "code",
      "execution_count": null,
      "metadata": {
        "id": "N5WLhVAQJ8-U"
      },
      "outputs": [],
      "source": [
        "!pip install jovian --upgrade -q"
      ]
    },
    {
      "cell_type": "code",
      "execution_count": null,
      "metadata": {
        "id": "nMqiUY7mJ8-U"
      },
      "outputs": [],
      "source": [
        "import jovian"
      ]
    },
    {
      "cell_type": "code",
      "execution_count": null,
      "metadata": {
        "id": "zKDyPUI5J8-U",
        "outputId": "f8a452ab-aefb-4c71-87a4-bd4e2fdd2915"
      },
      "outputs": [
        {
          "data": {
            "application/javascript": [
              "window.require && require([\"base/js/namespace\"],function(Jupyter){Jupyter.notebook.save_checkpoint()})"
            ],
            "text/plain": [
              "<IPython.core.display.Javascript object>"
            ]
          },
          "metadata": {},
          "output_type": "display_data"
        },
        {
          "name": "stdout",
          "output_type": "stream",
          "text": [
            "[jovian] Attempting to save notebook..\u001b[0m\n",
            "[jovian] Updating notebook \"aakashns/02-linear-regression\" on https://jovian.ai/\u001b[0m\n",
            "[jovian] Uploading notebook..\u001b[0m\n",
            "[jovian] Capturing environment..\u001b[0m\n",
            "[jovian] Committed successfully! https://jovian.ai/aakashns/02-linear-regression\u001b[0m\n"
          ]
        },
        {
          "data": {
            "text/plain": [
              "'https://jovian.ai/aakashns/02-linear-regression'"
            ]
          },
          "execution_count": 58,
          "metadata": {},
          "output_type": "execute_result"
        }
      ],
      "source": [
        "jovian.commit(project='02-linear-regression')"
      ]
    },
    {
      "cell_type": "markdown",
      "metadata": {
        "id": "hxtZFP9NJ8-U"
      },
      "source": [
        "`jovian.commit` uploads the notebook to your Jovian account, captures the Python environment, and creates a shareable link for your notebook, as shown above. You can use this link to share your work and let anyone (including you) run your notebooks and reproduce your work.\n",
        "\n",
        "> The first time you run `jovian.commit`, you may be asked to provide an _API Key_ to securely upload the notebook to your Jovian account. You can get the API key from your [Jovian profile page](https://jovian.ai) after logging in / signing up.\n",
        "\n"
      ]
    },
    {
      "cell_type": "markdown",
      "metadata": {
        "id": "YoRAKROgJ8-U"
      },
      "source": [
        "## Linear regression using PyTorch built-ins\n",
        "\n",
        "We've implemented linear regression & gradient descent model using some basic tensor operations. However, since this is a common pattern in deep learning, PyTorch provides several built-in functions and classes to make it easy to create and train models with just a few lines of code.\n",
        "\n",
        "Let's begin by importing the `torch.nn` package from PyTorch, which contains utility classes for building neural networks."
      ]
    },
    {
      "cell_type": "code",
      "execution_count": null,
      "metadata": {
        "id": "I7hf4OaTJ8-U"
      },
      "outputs": [],
      "source": [
        "import torch.nn as nn"
      ]
    },
    {
      "cell_type": "markdown",
      "metadata": {
        "id": "TrJQCyP-J8-U"
      },
      "source": [
        "As before, we represent the inputs and targets and matrices."
      ]
    },
    {
      "cell_type": "code",
      "execution_count": null,
      "metadata": {
        "id": "CvA1r9XxJ8-U"
      },
      "outputs": [],
      "source": [
        "# Input (temp, rainfall, humidity)\n",
        "inputs = np.array([[73, 67, 43],\n",
        "                   [91, 88, 64],\n",
        "                   [87, 134, 58],\n",
        "                   [102, 43, 37],\n",
        "                   [69, 96, 70],\n",
        "                   [74, 66, 43],\n",
        "                   [91, 87, 65],\n",
        "                   [88, 134, 59],\n",
        "                   [101, 44, 37],\n",
        "                   [68, 96, 71],\n",
        "                   [73, 66, 44],\n",
        "                   [92, 87, 64],\n",
        "                   [87, 135, 57],\n",
        "                   [103, 43, 36],\n",
        "                   [68, 97, 70]],\n",
        "                  dtype='float32')\n",
        "\n",
        "# Targets (apples, oranges)\n",
        "targets = np.array([[56, 70],\n",
        "                    [81, 101],\n",
        "                    [119, 133],\n",
        "                    [22, 37],\n",
        "                    [103, 119],\n",
        "                    [57, 69],\n",
        "                    [80, 102],\n",
        "                    [118, 132],\n",
        "                    [21, 38],\n",
        "                    [104, 118],\n",
        "                    [57, 69],\n",
        "                    [82, 100],\n",
        "                    [118, 134],\n",
        "                    [20, 38],\n",
        "                    [102, 120]],\n",
        "                   dtype='float32')\n",
        "\n",
        "inputs = torch.from_numpy(inputs)\n",
        "targets = torch.from_numpy(targets)"
      ]
    },
    {
      "cell_type": "code",
      "execution_count": null,
      "metadata": {
        "colab": {
          "base_uri": "https://localhost:8080/"
        },
        "id": "2dAmnFBrJ8-U",
        "outputId": "ae438362-31f6-47d6-9ea6-a6d4b74b7c93"
      },
      "outputs": [
        {
          "output_type": "execute_result",
          "data": {
            "text/plain": [
              "tensor([[ 73.,  67.,  43.],\n",
              "        [ 91.,  88.,  64.],\n",
              "        [ 87., 134.,  58.],\n",
              "        [102.,  43.,  37.],\n",
              "        [ 69.,  96.,  70.],\n",
              "        [ 74.,  66.,  43.],\n",
              "        [ 91.,  87.,  65.],\n",
              "        [ 88., 134.,  59.],\n",
              "        [101.,  44.,  37.],\n",
              "        [ 68.,  96.,  71.],\n",
              "        [ 73.,  66.,  44.],\n",
              "        [ 92.,  87.,  64.],\n",
              "        [ 87., 135.,  57.],\n",
              "        [103.,  43.,  36.],\n",
              "        [ 68.,  97.,  70.]])"
            ]
          },
          "metadata": {},
          "execution_count": 60
        }
      ],
      "source": [
        "inputs"
      ]
    },
    {
      "cell_type": "markdown",
      "metadata": {
        "id": "57he9ow8J8-U"
      },
      "source": [
        "We are using 15 training examples to illustrate how to work with large datasets in small batches."
      ]
    },
    {
      "cell_type": "markdown",
      "metadata": {
        "id": "eUQC4SZvJ8-U"
      },
      "source": [
        "## Dataset and DataLoader\n",
        "\n",
        "We'll create a `TensorDataset`, which allows access to rows from `inputs` and `targets` as tuples, and provides standard APIs for working with many different types of datasets in PyTorch."
      ]
    },
    {
      "cell_type": "code",
      "execution_count": null,
      "metadata": {
        "id": "gkWucr6qJ8-U"
      },
      "outputs": [],
      "source": [
        "from torch.utils.data import TensorDataset"
      ]
    },
    {
      "cell_type": "code",
      "execution_count": null,
      "metadata": {
        "colab": {
          "base_uri": "https://localhost:8080/"
        },
        "id": "PNpc_nnRJ8-U",
        "outputId": "aeff81ae-0291-40b4-f878-d1a193b605d1"
      },
      "outputs": [
        {
          "output_type": "execute_result",
          "data": {
            "text/plain": [
              "(tensor([[ 73.,  67.,  43.],\n",
              "         [ 91.,  88.,  64.],\n",
              "         [ 87., 134.,  58.]]),\n",
              " tensor([[ 56.,  70.],\n",
              "         [ 81., 101.],\n",
              "         [119., 133.]]))"
            ]
          },
          "metadata": {},
          "execution_count": 63
        }
      ],
      "source": [
        "# Define dataset\n",
        "train_ds = TensorDataset(inputs, targets)\n",
        "train_ds[0:3]"
      ]
    },
    {
      "cell_type": "markdown",
      "metadata": {
        "id": "OjuvEcq2J8-V"
      },
      "source": [
        "The `TensorDataset` allows us to access a small section of the training data using the array indexing notation (`[0:3]` in the above code). It returns a tuple with two elements. The first element contains the input variables for the selected rows, and the second contains the targets."
      ]
    },
    {
      "cell_type": "markdown",
      "metadata": {
        "id": "3Fm_37s5J8-V"
      },
      "source": [
        "We'll also create a `DataLoader`, which can split the data into batches of a predefined size while training. It also provides other utilities like shuffling and random sampling of the data."
      ]
    },
    {
      "cell_type": "code",
      "execution_count": null,
      "metadata": {
        "id": "3zU4AuoWJ8-V"
      },
      "outputs": [],
      "source": [
        "from torch.utils.data import DataLoader"
      ]
    },
    {
      "cell_type": "code",
      "execution_count": null,
      "metadata": {
        "id": "QjbZOU4mJ8-V"
      },
      "outputs": [],
      "source": [
        "# Define data loader\n",
        "batch_size = 10\n",
        "train_dl = DataLoader(train_ds, batch_size, shuffle=True)"
      ]
    },
    {
      "cell_type": "markdown",
      "metadata": {
        "id": "fVMPIAytJ8-V"
      },
      "source": [
        "We can use the data loader in a `for` loop. Let's look at an example."
      ]
    },
    {
      "cell_type": "code",
      "execution_count": null,
      "metadata": {
        "colab": {
          "base_uri": "https://localhost:8080/"
        },
        "id": "I7NjNYwxJ8-V",
        "outputId": "19dbadfa-6634-4ec8-bdbd-1c533f9c8a92"
      },
      "outputs": [
        {
          "output_type": "stream",
          "name": "stdout",
          "text": [
            "tensor([[ 68.,  96.,  71.],\n",
            "        [ 68.,  97.,  70.],\n",
            "        [ 91.,  87.,  65.],\n",
            "        [ 73.,  66.,  44.],\n",
            "        [ 88., 134.,  59.],\n",
            "        [103.,  43.,  36.],\n",
            "        [102.,  43.,  37.],\n",
            "        [ 73.,  67.,  43.],\n",
            "        [ 87., 135.,  57.],\n",
            "        [101.,  44.,  37.]])\n",
            "tensor([[104., 118.],\n",
            "        [102., 120.],\n",
            "        [ 80., 102.],\n",
            "        [ 57.,  69.],\n",
            "        [118., 132.],\n",
            "        [ 20.,  38.],\n",
            "        [ 22.,  37.],\n",
            "        [ 56.,  70.],\n",
            "        [118., 134.],\n",
            "        [ 21.,  38.]])\n"
          ]
        }
      ],
      "source": [
        "for xb, yb in train_dl:\n",
        "    print(xb)\n",
        "    print(yb)\n",
        "    break"
      ]
    },
    {
      "cell_type": "markdown",
      "metadata": {
        "id": "8pWy6sSfJ8-V"
      },
      "source": [
        "In each iteration, the data loader returns one batch of data with the given batch size. If `shuffle` is set to `True`, it shuffles the training data before creating batches. Shuffling helps randomize the input to the optimization algorithm, leading to a faster reduction in the loss."
      ]
    },
    {
      "cell_type": "markdown",
      "metadata": {
        "id": "TK6ul2wYJ8-V"
      },
      "source": [
        "## nn.Linear\n",
        "\n",
        "Instead of initializing the weights & biases manually, we can define the model using the `nn.Linear` class from PyTorch, which does it automatically.\n",
        "\n",
        "#### nn.Linear(number_of_input_features, number_of_out_put_features)"
      ]
    },
    {
      "cell_type": "code",
      "execution_count": null,
      "metadata": {
        "colab": {
          "base_uri": "https://localhost:8080/"
        },
        "id": "s_u5dDglJ8-V",
        "outputId": "87091f06-40d5-4fe8-f1ee-8dfc1931e390"
      },
      "outputs": [
        {
          "output_type": "stream",
          "name": "stdout",
          "text": [
            "Parameter containing:\n",
            "tensor([[ 0.0366, -0.0339, -0.0770],\n",
            "        [ 0.5059, -0.2574,  0.1367]], requires_grad=True)\n",
            "Parameter containing:\n",
            "tensor([0.4881, 0.4912], requires_grad=True)\n"
          ]
        }
      ],
      "source": [
        "# Define model\n",
        "model = nn.Linear(3, 2)\n",
        "print(model.weight)\n",
        "print(model.bias)"
      ]
    },
    {
      "cell_type": "markdown",
      "metadata": {
        "id": "2Bkzj9BBJ8-V"
      },
      "source": [
        "PyTorch models also have a helpful `.parameters` method, which returns a list containing all the weights and bias matrices present in the model. For our linear regression model, we have one weight matrix and one bias matrix."
      ]
    },
    {
      "cell_type": "code",
      "execution_count": null,
      "metadata": {
        "colab": {
          "base_uri": "https://localhost:8080/"
        },
        "id": "OCjN3Qv8J8-V",
        "outputId": "41e32328-3d73-40dc-894a-f16d7a70aa0a"
      },
      "outputs": [
        {
          "output_type": "execute_result",
          "data": {
            "text/plain": [
              "[Parameter containing:\n",
              " tensor([[ 0.0366, -0.0339, -0.0770],\n",
              "         [ 0.5059, -0.2574,  0.1367]], requires_grad=True),\n",
              " Parameter containing:\n",
              " tensor([0.4881, 0.4912], requires_grad=True)]"
            ]
          },
          "metadata": {},
          "execution_count": 70
        }
      ],
      "source": [
        "# Parameters\n",
        "list(model.parameters())"
      ]
    },
    {
      "cell_type": "markdown",
      "metadata": {
        "id": "95lMe9BCJ8-V"
      },
      "source": [
        "We can use the model to generate predictions in the same way as before."
      ]
    },
    {
      "cell_type": "code",
      "execution_count": null,
      "metadata": {
        "colab": {
          "base_uri": "https://localhost:8080/"
        },
        "id": "lJY7yDsDJ8-W",
        "outputId": "2c810db1-83a3-4dcd-f656-412f20b3c483"
      },
      "outputs": [
        {
          "output_type": "execute_result",
          "data": {
            "text/plain": [
              "tensor([[-2.4251e+00,  2.6052e+01],\n",
              "        [-4.0956e+00,  3.2622e+01],\n",
              "        [-5.3412e+00,  1.7936e+01],\n",
              "        [-8.8197e-02,  4.6083e+01],\n",
              "        [-5.6335e+00,  2.0252e+01],\n",
              "        [-2.3546e+00,  2.6815e+01],\n",
              "        [-4.1386e+00,  3.3017e+01],\n",
              "        [-5.3816e+00,  1.8579e+01],\n",
              "        [-1.5871e-01,  4.5320e+01],\n",
              "        [-5.7471e+00,  1.9883e+01],\n",
              "        [-2.4681e+00,  2.6446e+01],\n",
              "        [-4.0251e+00,  3.3386e+01],\n",
              "        [-5.2982e+00,  1.7542e+01],\n",
              "        [ 2.5339e-02,  4.6452e+01],\n",
              "        [-5.7040e+00,  1.9489e+01]], grad_fn=<AddmmBackward0>)"
            ]
          },
          "metadata": {},
          "execution_count": 71
        }
      ],
      "source": [
        "# Generate predictions\n",
        "preds = model(inputs)\n",
        "preds"
      ]
    },
    {
      "cell_type": "markdown",
      "metadata": {
        "id": "ARGPA6baJ8-W"
      },
      "source": [
        "## Loss Function\n",
        "\n",
        "Instead of defining a loss function manually, we can use the built-in loss function `mse_loss`."
      ]
    },
    {
      "cell_type": "code",
      "execution_count": null,
      "metadata": {
        "id": "399YchhFJ8-W"
      },
      "outputs": [],
      "source": [
        "# Import nn.functional\n",
        "import torch.nn.functional as F"
      ]
    },
    {
      "cell_type": "markdown",
      "metadata": {
        "id": "1-Qwl8l8J8-W"
      },
      "source": [
        "The `nn.functional` package contains many useful loss functions and several other utilities."
      ]
    },
    {
      "cell_type": "code",
      "execution_count": null,
      "metadata": {
        "id": "5mHN0uGpJ8-W"
      },
      "outputs": [],
      "source": [
        "# Define loss function\n",
        "loss_fn = F.mse_loss"
      ]
    },
    {
      "cell_type": "markdown",
      "metadata": {
        "id": "3EGc2Y6uJ8-W"
      },
      "source": [
        "Let's compute the loss for the current predictions of our model."
      ]
    },
    {
      "cell_type": "code",
      "execution_count": null,
      "metadata": {
        "colab": {
          "base_uri": "https://localhost:8080/"
        },
        "id": "MeR_SxhTJ8-W",
        "outputId": "13d1f603-a20e-4444-aef4-20c9f15c8d82"
      },
      "outputs": [
        {
          "output_type": "stream",
          "name": "stdout",
          "text": [
            "tensor(6786.9434, grad_fn=<MseLossBackward0>)\n"
          ]
        }
      ],
      "source": [
        "loss = loss_fn(model(inputs), targets)\n",
        "print(loss)"
      ]
    },
    {
      "cell_type": "markdown",
      "metadata": {
        "id": "VLwGfNqtJ8-W"
      },
      "source": [
        "## Optimizer\n",
        "\n",
        "Instead of manually manipulating the model's weights & biases using gradients, we can use the optimizer `optim.SGD`. SGD is short for \"stochastic gradient descent\". The term _stochastic_ indicates that samples are selected in random batches instead of as a single group."
      ]
    },
    {
      "cell_type": "code",
      "execution_count": null,
      "metadata": {
        "id": "1TdaMCHqJ8-W"
      },
      "outputs": [],
      "source": [
        "# Define optimizer\n",
        "opt = torch.optim.SGD(model.parameters(), lr=1e-5)"
      ]
    },
    {
      "cell_type": "markdown",
      "metadata": {
        "id": "YRczmKiyJ8-W"
      },
      "source": [
        "Note that `model.parameters()` is passed as an argument to `optim.SGD` so that the optimizer knows which matrices should be modified during the update step. Also, we can specify a learning rate that controls the amount by which the parameters are modified."
      ]
    },
    {
      "cell_type": "markdown",
      "metadata": {
        "id": "zVh_j8rAJ8-W"
      },
      "source": [
        "## Train the model\n",
        "\n",
        "We are now ready to train the model. We'll follow the same process to implement gradient descent:\n",
        "\n",
        "1. Generate predictions\n",
        "\n",
        "2. Calculate the loss\n",
        "\n",
        "3. Compute gradients w.r.t the weights and biases\n",
        "\n",
        "4. Adjust the weights by subtracting a small quantity proportional to the gradient\n",
        "\n",
        "5. Reset the gradients to zero\n",
        "\n",
        "The only change is that we'll work batches of data instead of processing the entire training data in every iteration. Let's define a utility function `fit` that trains the model for a given number of epochs."
      ]
    },
    {
      "cell_type": "code",
      "execution_count": null,
      "metadata": {
        "id": "Yubhv7CYJ8-W"
      },
      "outputs": [],
      "source": [
        "# Utility function to train the model\n",
        "def fit(num_epochs, model, loss_fn, opt, train_dl):\n",
        "\n",
        "    # Repeat for given number of epochs\n",
        "    for epoch in range(num_epochs):\n",
        "\n",
        "        # Train with batches of data\n",
        "        for xb,yb in train_dl:\n",
        "\n",
        "            # 1. Generate predictions\n",
        "            pred = model(xb)\n",
        "\n",
        "            # 2. Calculate loss\n",
        "            loss = loss_fn(pred, yb)\n",
        "\n",
        "            # 3. Compute gradients\n",
        "            loss.backward()\n",
        "\n",
        "            # 4. Update parameters using gradients\n",
        "            opt.step()\n",
        "\n",
        "            # 5. Reset the gradients to zero\n",
        "            opt.zero_grad()\n",
        "\n",
        "        # Print the progress\n",
        "        if (epoch+1) % 10 == 0:\n",
        "            print('Epoch [{}/{}], Loss: {:.4f}'.format(epoch+1, num_epochs, loss.item()))"
      ]
    },
    {
      "cell_type": "markdown",
      "metadata": {
        "id": "0_Bx2cPPJ8-W"
      },
      "source": [
        "Some things to note above:\n",
        "\n",
        "* We use the data loader defined earlier to get batches of data for every iteration.\n",
        "\n",
        "* Instead of updating parameters (weights and biases) manually, we use `opt.step` to perform the update and `opt.zero_grad` to reset the gradients to zero.\n",
        "\n",
        "* We've also added a log statement that prints the loss from the last batch of data for every 10th epoch to track training progress. `loss.item` returns the actual value stored in the loss tensor.\n",
        "\n",
        "Let's train the model for 100 epochs."
      ]
    },
    {
      "cell_type": "code",
      "execution_count": null,
      "metadata": {
        "id": "KTwv8hm0J8-X",
        "outputId": "e6c1789d-e4c2-4c1d-ab3e-c9ba0b741efd"
      },
      "outputs": [
        {
          "name": "stdout",
          "output_type": "stream",
          "text": [
            "Epoch [10/100], Loss: 818.6476\n",
            "Epoch [20/100], Loss: 335.3347\n",
            "Epoch [30/100], Loss: 190.3544\n",
            "Epoch [40/100], Loss: 131.6701\n",
            "Epoch [50/100], Loss: 77.0783\n",
            "Epoch [60/100], Loss: 151.5671\n",
            "Epoch [70/100], Loss: 151.0817\n",
            "Epoch [80/100], Loss: 67.6262\n",
            "Epoch [90/100], Loss: 53.6205\n",
            "Epoch [100/100], Loss: 33.4517\n"
          ]
        }
      ],
      "source": [
        "fit(100, model, loss_fn, opt, train_dl)"
      ]
    },
    {
      "cell_type": "markdown",
      "metadata": {
        "id": "y3zwPSwyJ8-X"
      },
      "source": [
        "Let's generate predictions using our model and verify that they're close to our targets."
      ]
    },
    {
      "cell_type": "code",
      "execution_count": null,
      "metadata": {
        "id": "o6WhEf6dJ8-X",
        "outputId": "3a79a5b4-6862-44f8-aacb-1f9d31773c6f"
      },
      "outputs": [
        {
          "data": {
            "text/plain": [
              "tensor([[ 58.4229,  72.0145],\n",
              "        [ 82.1525,  95.1376],\n",
              "        [115.8955, 142.6296],\n",
              "        [ 28.6805,  46.0115],\n",
              "        [ 97.5243, 104.3522],\n",
              "        [ 57.3792,  70.9543],\n",
              "        [ 81.9342,  94.1737],\n",
              "        [116.2036, 142.6871],\n",
              "        [ 29.7242,  47.0717],\n",
              "        [ 98.3498, 104.4486],\n",
              "        [ 58.2047,  71.0507],\n",
              "        [ 81.1088,  94.0774],\n",
              "        [116.1137, 143.5935],\n",
              "        [ 27.8550,  45.9152],\n",
              "        [ 98.5680, 105.4124]], grad_fn=<AddmmBackward>)"
            ]
          },
          "execution_count": 48,
          "metadata": {},
          "output_type": "execute_result"
        }
      ],
      "source": [
        "# Generate predictions\n",
        "preds = model(inputs)\n",
        "preds"
      ]
    },
    {
      "cell_type": "code",
      "execution_count": null,
      "metadata": {
        "id": "V6l8p1AuJ8-X",
        "outputId": "afba715b-1268-4a3f-a30c-cf6d198f6ab2"
      },
      "outputs": [
        {
          "data": {
            "text/plain": [
              "tensor([[ 56.,  70.],\n",
              "        [ 81., 101.],\n",
              "        [119., 133.],\n",
              "        [ 22.,  37.],\n",
              "        [103., 119.],\n",
              "        [ 57.,  69.],\n",
              "        [ 80., 102.],\n",
              "        [118., 132.],\n",
              "        [ 21.,  38.],\n",
              "        [104., 118.],\n",
              "        [ 57.,  69.],\n",
              "        [ 82., 100.],\n",
              "        [118., 134.],\n",
              "        [ 20.,  38.],\n",
              "        [102., 120.]])"
            ]
          },
          "execution_count": 49,
          "metadata": {},
          "output_type": "execute_result"
        }
      ],
      "source": [
        "# Compare with targets\n",
        "targets"
      ]
    },
    {
      "cell_type": "markdown",
      "metadata": {
        "id": "ByqHw3HvJ8-X"
      },
      "source": [
        "Indeed, the predictions are quite close to our targets. We have a trained a reasonably good model to predict crop yields for apples and oranges by looking at the average temperature, rainfall, and humidity in a region. We can use it to make predictions of crop yields for new regions by passing a batch containing a single row of input."
      ]
    },
    {
      "cell_type": "code",
      "execution_count": null,
      "metadata": {
        "id": "T3h3QYgNJ8-X",
        "outputId": "38106bb2-f394-4181-a85e-6b46efd36861"
      },
      "outputs": [
        {
          "data": {
            "text/plain": [
              "tensor([[55.3323, 67.8895]], grad_fn=<AddmmBackward>)"
            ]
          },
          "execution_count": 50,
          "metadata": {},
          "output_type": "execute_result"
        }
      ],
      "source": [
        "model(torch.tensor([[75, 63, 44.]]))"
      ]
    },
    {
      "cell_type": "markdown",
      "metadata": {
        "id": "0ITrmXtKJ8-X"
      },
      "source": [
        "The predicted yield of apples is 54.3 tons per hectare, and that of oranges is 68.3 tons per hectare."
      ]
    },
    {
      "cell_type": "markdown",
      "metadata": {
        "id": "BUvVy88sJ8-X"
      },
      "source": [
        "## Machine Learning vs. Classical Programming\n",
        "\n",
        "The approach we've taken in this tutorial is very different from programming as you might know it. Usually, we write programs that take some inputs, perform some operations, and return a result.\n",
        "\n",
        "However, in this notebook, we've defined a \"model\" that assumes a specific relationship between the inputs and the outputs, expressed using some unknown parameters (weights & biases). We then show the model some know inputs and outputs and _train_ the model to come up with good values for the unknown parameters. Once trained, the model can be used to compute the outputs for new inputs.\n",
        "\n",
        "This paradigm of programming is known as _machine learning_, where we use data to figure out the relationship between inputs and outputs. _Deep learning_ is a branch of machine learning that uses matrix operations, non-linear activation functions and gradient descent to build and train models. Andrej Karpathy, the director of AI at Tesla Motors, has written a great blog post on this topics, titled [Software 2.0](https://medium.com/@karpathy/software-2-0-a64152b37c35).\n",
        "\n",
        "This picture from book [Deep Learning with Python](https://www.manning.com/books/deep-learning-with-python) by Francois Chollet captures the difference between classical programming and machine learning:\n",
        "\n",
        "![](https://i.imgur.com/oJEQe7k.png)\n",
        "\n",
        "Keep this picture in mind as you work through the next few tutorials.\n",
        "\n"
      ]
    },
    {
      "cell_type": "markdown",
      "metadata": {
        "id": "rpHW0T88J8-Y"
      },
      "source": [
        "## Commit and update the notebook\n",
        "\n",
        "As a final step, we can record a new version of the notebook using the `jovian` library."
      ]
    },
    {
      "cell_type": "code",
      "execution_count": null,
      "metadata": {
        "id": "xPJstp50J8-Y"
      },
      "outputs": [],
      "source": [
        "import jovian"
      ]
    },
    {
      "cell_type": "code",
      "execution_count": null,
      "metadata": {
        "id": "1AZSwzcEJ8-Y",
        "outputId": "631dc06d-89ad-4b9d-cfc3-3858bfab5cfd"
      },
      "outputs": [
        {
          "data": {
            "application/javascript": [
              "window.require && require([\"base/js/namespace\"],function(Jupyter){Jupyter.notebook.save_checkpoint()})"
            ],
            "text/plain": [
              "<IPython.core.display.Javascript object>"
            ]
          },
          "metadata": {},
          "output_type": "display_data"
        },
        {
          "name": "stdout",
          "output_type": "stream",
          "text": [
            "[jovian] Attempting to save notebook..\u001b[0m\n",
            "[jovian] Updating notebook \"aakashns/02-linear-regression\" on https://jovian.ai/\u001b[0m\n",
            "[jovian] Uploading notebook..\u001b[0m\n",
            "[jovian] Capturing environment..\u001b[0m\n",
            "[jovian] Committed successfully! https://jovian.ai/aakashns/02-linear-regression\u001b[0m\n"
          ]
        },
        {
          "data": {
            "text/plain": [
              "'https://jovian.ai/aakashns/02-linear-regression'"
            ]
          },
          "execution_count": 54,
          "metadata": {},
          "output_type": "execute_result"
        }
      ],
      "source": [
        "jovian.commit(project='02-linear-regression')"
      ]
    },
    {
      "cell_type": "markdown",
      "metadata": {
        "id": "xbxv3QzdJ8-Y"
      },
      "source": [
        "Note that running `jovian.commit` a second time records a new version of your existing notebook. With Jovian.ml, you can avoid creating copies of your Jupyter notebooks and keep versions organized. Jovian also provides a visual diff ([example](https://jovian.ai/aakashns/keras-mnist-jovian/diff?base=8&remote=2)) so you can inspect what has changed between different versions:\n",
        "\n",
        "![jovian-commenting](https://i.imgur.com/HF1cOVt.png)"
      ]
    },
    {
      "cell_type": "markdown",
      "metadata": {
        "id": "FtdMDAl8J8-Y"
      },
      "source": [
        "## Exercises and Further Reading\n",
        "\n",
        "We've covered the following topics in this tutorial:\n",
        "\n",
        "- Introduction to linear regression and gradient descent\n",
        "- Implementing a linear regression model using PyTorch tensors\n",
        "- Training a linear regression model using the gradient descent algorithm\n",
        "- Implementing gradient descent and linear regression using PyTorch built-in\n",
        "\n",
        "\n",
        "Here are some resources for learning more about linear regression and gradient descent:\n",
        "\n",
        "* An visual & animated explanation of gradient descent: https://www.youtube.com/watch?v=IHZwWFHWa-w\n",
        "\n",
        "* For a more detailed explanation of derivates and gradient descent, see [these notes from a Udacity course](https://storage.googleapis.com/supplemental_media/udacityu/315142919/Gradient%20Descent.pdf).\n",
        "\n",
        "* For an animated visualization of how linear regression works, [see this post](https://hackernoon.com/visualizing-linear-regression-with-pytorch-9261f49edb09).\n",
        "\n",
        "* For a more mathematical treatment of matrix calculus, linear regression and gradient descent, you should check out [Andrew Ng's excellent course notes](https://github.com/Cleo-Stanford-CS/CS229_Notes/blob/master/lectures/cs229-notes1.pdf) from CS229 at Stanford University.\n",
        "\n",
        "* To practice and test your skills, you can participate in the [Boston Housing Price Prediction](https://www.kaggle.com/c/boston-housing) competition on Kaggle, a website that hosts data science competitions.\n",
        "\n",
        "With this, we complete our discussion of linear regression in PyTorch, and we’re ready to move on to the next topic: [Working with Images & Logistic Regression](https://jovian.ai/aakashns/03-logistic-regression)."
      ]
    },
    {
      "cell_type": "markdown",
      "metadata": {
        "id": "SsZH3UZmJ8-Y"
      },
      "source": [
        "## Questions for Review\n",
        "\n",
        "Try answering the following questions to test your understanding of the topics covered in this notebook:\n",
        "\n",
        "1. What is a linear regression model? Give an example of a problem formulated as a linear regression model.\n",
        "2. What are input and target variables in a dataset? Give an example.\n",
        "3. What are weights and biases in a linear regression model?\n",
        "4. How do you represent tabular data using PyTorch tensors?\n",
        "5. Why do we create separate matrices for inputs and targets while training a linear regression model?\n",
        "6. How do you determine the shape of the weights matrix & bias vector given some training data?\n",
        "7. How do you create randomly initialized weights & biases with a given shape?\n",
        "8. How is a linear regression model implemented using matrix operations? Explain with an example.\n",
        "9. How do you generate predictions using a linear regression model?\n",
        "10. Why are the predictions of a randomly initialized model different from the actual targets?\n",
        "11. What is a loss function? What does the term “loss” signify?\n",
        "12. What is mean squared error?\n",
        "13. Write a function to calculate mean squared using model predictions and actual targets.\n",
        "14. What happens when you invoke the `.backward` function on the result of the mean squared error loss function?\n",
        "15. Why is the derivative of the loss w.r.t. the weights matrix itself a matrix? What do its elements represent?\n",
        "16. How is the derivate of the loss w.r.t. a weight element useful for reducing the loss? Explain with an example.\n",
        "17. Suppose the derivative  of the loss w.r.t. a weight element is positive. Should you increase or decrease the element’s value slightly to get a lower loss?\n",
        "18. Suppose the derivative  of the loss w.r.t. a weight element is negative. Should you increase or decrease the element’s value slightly to get a lower loss?\n",
        "19. How do you update the weights and biases of a model using their respective gradients to reduce the loss slightly?\n",
        "20. What is the gradient descent optimization algorithm? Why is it called “gradient descent”?\n",
        "21. Why do you subtract a “small quantity” proportional to the gradient from the weights & biases, not the actual gradient itself?\n",
        "22. What is learning rate? Why is it important?\n",
        "23. What is `torch.no_grad`?\n",
        "24. Why do you reset gradients to zero after updating weights and biases?\n",
        "25. What are the steps involved in training a linear regression model using gradient descent?\n",
        "26. What is an epoch?\n",
        "27. What is the benefit of training a model for multiple epochs?\n",
        "28. How do you make predictions using a trained model?\n",
        "29. What should you do if your model’s loss doesn’t decrease while training? Hint: learning rate.\n",
        "30. What is `torch.nn`?\n",
        "31. What is the purpose of the `TensorDataset` class in PyTorch? Give an example.\n",
        "32. What is a data loader in PyTorch? Give an example.\n",
        "33. How do you use a data loader to retrieve batches of data?\n",
        "34. What are the benefits of shuffling the training data before creating batches?\n",
        "35. What is the benefit of training in small batches instead of training with the entire dataset?\n",
        "36. What is the purpose of the `nn.Linear` class in PyTorch? Give an example.\n",
        "37. How do you see the weights and biases of a `nn.Linear` model?\n",
        "38. What is the purpose of the `torch.nn.functional` module?\n",
        "39. How do you compute mean squared error loss using a PyTorch built-in function?\n",
        "40. What is an optimizer in PyTorch?\n",
        "41. What is `torch.optim.SGD`? What does SGD stand for?\n",
        "42. What are the inputs to a PyTorch optimizer?\n",
        "43. Give an example of creating an optimizer for training a linear regression model.\n",
        "44. Write a function to train a `nn.Linear` model in batches using gradient descent.\n",
        "45. How do you use a linear regression model to make predictions on previously unseen data?\n",
        "\n"
      ]
    },
    {
      "cell_type": "markdown",
      "source": [
        "## Notes\n",
        "\n",
        "#### The optimer only do (w += w_grad * learing rate) we must call loss.backward() before caloling optimizer\n",
        "\n",
        "\n",
        "The typical training loop in PyTorch involves several steps:\n",
        "\n",
        "1.Forward pass: Pass the input data through the model to obtain predictions.\n",
        "\n",
        "2.Compute the loss: Compare the predictions with the actual target values to compute the loss.\n",
        "\n",
        "3.Backward pass: Compute gradients of the loss with respect to the model parameters using backpropagation (loss.backward()).\n",
        "\n",
        "4.Update parameters: Use an optimizer to update the model parameters based on the computed gradients (optimizer.step()).\n",
        "\n",
        "\n"
      ],
      "metadata": {
        "id": "14b1Z4FjU-Gg"
      }
    },
    {
      "cell_type": "code",
      "source": [],
      "metadata": {
        "id": "V-vyItXHVDGU"
      },
      "execution_count": null,
      "outputs": []
    },
    {
      "cell_type": "markdown",
      "source": [
        "## Summery\n",
        "\n",
        "\n"
      ],
      "metadata": {
        "id": "Cf6pnsXcvc5N"
      }
    },
    {
      "cell_type": "code",
      "source": [
        "import torch.nn as nn\n",
        "# Input (temp, rainfall, humidity)\n",
        "inputs = np.array([[73, 67, 43],\n",
        "                   [91, 88, 64],\n",
        "                   [87, 134, 58],\n",
        "                   [102, 43, 37],\n",
        "                   [69, 96, 70],\n",
        "                   [74, 66, 43],\n",
        "                   [91, 87, 65],\n",
        "                   [88, 134, 59],\n",
        "                   [101, 44, 37],\n",
        "                   [68, 96, 71],\n",
        "                   [73, 66, 44],\n",
        "                   [92, 87, 64],\n",
        "                   [87, 135, 57],\n",
        "                   [103, 43, 36],\n",
        "                   [68, 97, 70]],\n",
        "                  dtype='float32')\n",
        "\n",
        "# Targets (apples, oranges)\n",
        "targets = np.array([[56, 70],\n",
        "                    [81, 101],\n",
        "                    [119, 133],\n",
        "                    [22, 37],\n",
        "                    [103, 119],\n",
        "                    [57, 69],\n",
        "                    [80, 102],\n",
        "                    [118, 132],\n",
        "                    [21, 38],\n",
        "                    [104, 118],\n",
        "                    [57, 69],\n",
        "                    [82, 100],\n",
        "                    [118, 134],\n",
        "                    [20, 38],\n",
        "                    [102, 120]],\n",
        "                   dtype='float32')\n",
        "\n",
        "inputs = torch.from_numpy(inputs)\n",
        "targets = torch.from_numpy(targets)\n",
        "\n",
        "#We'll create a TensorDataset, which allows access to rows from inputs and\n",
        "#targets as tuples, and provides standard APIs for working with many different types of datasets in PyTorch.\n",
        "\n",
        "from torch.utils.data import TensorDataset\n",
        "\n",
        "# Define dataset\n",
        "train_ds = TensorDataset(inputs, targets)\n",
        "\n",
        "\n",
        "\n",
        "#We'll also create a DataLoader, which can split the data into batches of a predefined\n",
        "#size while training. It also provides other utilities like shuffling and random sampling of the data.\n",
        "\n",
        "\n",
        "from torch.utils.data import DataLoader\n",
        "\n",
        "# Define data loader\n",
        "batch_size = 10\n",
        "train_dl = DataLoader(train_ds, batch_size, shuffle=True)\n",
        "\n",
        "\n",
        "# Define model\n",
        "#nn.Linear(number_of_input_features, number_of_out_put_features)\n",
        "model = nn.Linear(3, 2)\n",
        "\n",
        "# Generate predictions\n",
        "preds = model(inputs)\n",
        "\n",
        "\n",
        "\n",
        "\n",
        "import torch.nn.functional as F\n",
        "# Define loss function\n",
        "loss_fn = F.mse_loss\n",
        "loss = loss_fn(model(inputs), targets)\n",
        "# Define optimizer\n",
        "opt = torch.optim.SGD(model.parameters(), lr=1e-5)\n",
        "\n",
        "\n",
        "#Train the model\n",
        "# Utility function to train the model\n",
        "def fit(num_epochs, model, loss_fn, opt, train_dl):\n",
        "\n",
        "    # Repeat for given number of epochs\n",
        "    for epoch in range(num_epochs):\n",
        "\n",
        "        # Train with batches of data\n",
        "        for xb,yb in train_dl:\n",
        "\n",
        "            # 1. Generate predictions\n",
        "            pred = model(xb)\n",
        "\n",
        "            # 2. Calculate loss\n",
        "            loss = loss_fn(pred, yb)\n",
        "\n",
        "            # 3. Compute gradients\n",
        "            loss.backward()\n",
        "\n",
        "            # 4. Update parameters using gradients\n",
        "            opt.step()\n",
        "\n",
        "            # 5. Reset the gradients to zero\n",
        "            opt.zero_grad()\n",
        "\n",
        "        # Print the progress\n",
        "        if (epoch+1) % 10 == 0:\n",
        "            print('Epoch [{}/{}], Loss: {:.4f}'.format(epoch+1, num_epochs, loss.item()))\n",
        "\n",
        "\n",
        "#Let's train the model for 100 epochs.\n",
        "fit(100, model, loss_fn, opt, train_dl)\n",
        "\n",
        "#Test\n",
        "model(torch.tensor([[75, 63, 44.]]))"
      ],
      "metadata": {
        "id": "iZ7fUj-7vgyw"
      },
      "execution_count": null,
      "outputs": []
    },
    {
      "cell_type": "code",
      "source": [],
      "metadata": {
        "id": "ybENkc3OIBUg"
      },
      "execution_count": null,
      "outputs": []
    }
  ],
  "metadata": {
    "kernelspec": {
      "display_name": "Python 3",
      "language": "python",
      "name": "python3"
    },
    "language_info": {
      "codemirror_mode": {
        "name": "ipython",
        "version": 3
      },
      "file_extension": ".py",
      "mimetype": "text/x-python",
      "name": "python",
      "nbconvert_exporter": "python",
      "pygments_lexer": "ipython3",
      "version": "3.8.5"
    },
    "colab": {
      "provenance": []
    }
  },
  "nbformat": 4,
  "nbformat_minor": 0
}